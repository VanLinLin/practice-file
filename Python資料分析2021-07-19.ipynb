{
 "cells": [
  {
   "cell_type": "markdown",
   "id": "17de8cba",
   "metadata": {},
   "source": [
    "# Ch2 Python 基礎，IPython 和 Jupyter notebook"
   ]
  },
  {
   "cell_type": "markdown",
   "id": "947df0ac",
   "metadata": {},
   "source": [
    "## 2.2 IPython 基礎"
   ]
  },
  {
   "cell_type": "markdown",
   "id": "62296a7e",
   "metadata": {},
   "source": [
    "### 。內省\n",
    "* 物件內省(object introspection)\n",
    "* 可以顯示該物件的資訊\n",
    "* 用法:\n",
    "    * object? or object??\n",
    "    * 使用??會將函式原始碼盡可能顯示出來\n",
    "    * 若函式有定義docstring，則使用?後就會將docstring顯示出來\n",
    "    * 可以結合萬用字元(\\*)來對IPython空間進行搜尋，找到所有合乎條件的名稱"
   ]
  },
  {
   "cell_type": "code",
   "execution_count": 1,
   "id": "b3c6b4e2",
   "metadata": {},
   "outputs": [],
   "source": [
    "b = [1,2,3]"
   ]
  },
  {
   "cell_type": "code",
   "execution_count": 2,
   "id": "c29222ae",
   "metadata": {},
   "outputs": [],
   "source": [
    "b?"
   ]
  },
  {
   "cell_type": "code",
   "execution_count": 3,
   "id": "8071b25e",
   "metadata": {},
   "outputs": [],
   "source": [
    "def add_numbers(a, b):\n",
    "    \"\"\"\n",
    "    Add two numbers together\n",
    "    \n",
    "    Returns\n",
    "    -------\n",
    "    the sum: type of arguments\n",
    "    \"\"\"\n",
    "    return a + b"
   ]
  },
  {
   "cell_type": "code",
   "execution_count": 4,
   "id": "4c89da0f",
   "metadata": {},
   "outputs": [],
   "source": [
    "add_numbers?"
   ]
  },
  {
   "cell_type": "code",
   "execution_count": 5,
   "id": "745d17a0",
   "metadata": {},
   "outputs": [],
   "source": [
    "add_numbers??"
   ]
  },
  {
   "cell_type": "code",
   "execution_count": 1,
   "id": "0ba0cdad",
   "metadata": {},
   "outputs": [],
   "source": [
    "import numpy as np\n",
    "np.*load*?  # 可以找到numpy內中名稱含有load的函式"
   ]
  },
  {
   "cell_type": "markdown",
   "id": "f165a55d",
   "metadata": {},
   "source": [
    "## 。 %run 命令\n",
    "* 可以執行程式碼檔案\n",
    "* %run python_file.py\n",
    "* 檔案中定義的所有變數(引入、函式、全域變數)之後皆可在IPython shell中存取"
   ]
  },
  {
   "cell_type": "markdown",
   "id": "e702f2aa",
   "metadata": {},
   "source": [
    "## 。 %load 命令\n",
    "* 可以將一個腳本載入到程式碼cell中"
   ]
  },
  {
   "cell_type": "markdown",
   "id": "f901ecd0",
   "metadata": {},
   "source": [
    "## 。 中斷執行程式\n",
    "* 任何城市執行中按下Ctrl + c就會觸發KeyboardInterrupt"
   ]
  },
  {
   "cell_type": "markdown",
   "id": "cab498d0",
   "metadata": {},
   "source": [
    "## 。 執行剪貼簿中的程式\n",
    "* %paste 會將剪貼簿中的任何文字視為單一程式碼區塊執行\n",
    "* %cpaste 功能與 %paste 類似，只是在貼上的程式碼前面會有提示字元"
   ]
  },
  {
   "cell_type": "markdown",
   "id": "6b5c7e61",
   "metadata": {},
   "source": [
    "## 。 Matplotlib整合\n",
    "* %matplotlib inline\n",
    "* 可以notebook內顯示圖形"
   ]
  },
  {
   "cell_type": "markdown",
   "id": "5564bd96",
   "metadata": {},
   "source": [
    "# Ch3 內建資料結構、函式與檔案"
   ]
  },
  {
   "cell_type": "markdown",
   "id": "d4621a36",
   "metadata": {},
   "source": [
    "## 3.1資料結構和檔案"
   ]
  },
  {
   "cell_type": "markdown",
   "id": "ddcbdebd",
   "metadata": {},
   "source": [
    "## 。Tuple\n",
    "* 是一個固定長度，immutable的物件序列\n",
    "* 建立方法: 將序列用逗號分隔在小括號中\n",
    "* tuple建立後就不能再更改\n",
    "* tuple()可將任何序列或迭代器轉化為tuple\n",
    "* 可用[]索引取得內部元素\n",
    "* 使用 + 運算子可將兩個tuple結合成一個更長的tuple\n",
    "* 若將 tuple 乘上一個整數，會將tuple內的元素重複若干遍\n",
    "    * 重複的物件是參照，並不是拷貝"
   ]
  },
  {
   "cell_type": "code",
   "execution_count": 3,
   "id": "256ac3d1",
   "metadata": {},
   "outputs": [],
   "source": [
    "tup = 4, 5, 6"
   ]
  },
  {
   "cell_type": "code",
   "execution_count": 4,
   "id": "8b895f78",
   "metadata": {},
   "outputs": [
    {
     "data": {
      "text/plain": [
       "(4, 5, 6)"
      ]
     },
     "execution_count": 4,
     "metadata": {},
     "output_type": "execute_result"
    }
   ],
   "source": [
    "tup"
   ]
  },
  {
   "cell_type": "code",
   "execution_count": 5,
   "id": "f6fda812",
   "metadata": {},
   "outputs": [
    {
     "data": {
      "text/plain": [
       "((4, 5, 6), (7, 8))"
      ]
     },
     "execution_count": 5,
     "metadata": {},
     "output_type": "execute_result"
    }
   ],
   "source": [
    "nested_tup = (4, 5, 6), (7, 8)\n",
    "nested_tup"
   ]
  },
  {
   "cell_type": "code",
   "execution_count": 6,
   "id": "bc6e2804",
   "metadata": {},
   "outputs": [
    {
     "data": {
      "text/plain": [
       "(4, 0, 2)"
      ]
     },
     "execution_count": 6,
     "metadata": {},
     "output_type": "execute_result"
    }
   ],
   "source": [
    "# tuple()可將任何序列或迭代器轉化為tuple\n",
    "tuple([4, 0, 2])"
   ]
  },
  {
   "cell_type": "code",
   "execution_count": 8,
   "id": "47b481ca",
   "metadata": {},
   "outputs": [
    {
     "data": {
      "text/plain": [
       "('s', 't', 'r', 'i', 'n', 'g')"
      ]
     },
     "execution_count": 8,
     "metadata": {},
     "output_type": "execute_result"
    }
   ],
   "source": [
    "tup = tuple(\"string\")\n",
    "tup"
   ]
  },
  {
   "cell_type": "code",
   "execution_count": 9,
   "id": "fcfbdf43",
   "metadata": {},
   "outputs": [
    {
     "data": {
      "text/plain": [
       "'s'"
      ]
     },
     "execution_count": 9,
     "metadata": {},
     "output_type": "execute_result"
    }
   ],
   "source": [
    "tup[0]"
   ]
  },
  {
   "cell_type": "code",
   "execution_count": 11,
   "id": "b4797f33",
   "metadata": {},
   "outputs": [
    {
     "data": {
      "text/plain": [
       "(4, None, 'foo', 6, 0, 'bar')"
      ]
     },
     "execution_count": 11,
     "metadata": {},
     "output_type": "execute_result"
    }
   ],
   "source": [
    "# 使用 + 運算子可將兩個tuple結合成一個更長的tuple\n",
    "(4, None, 'foo') + (6, 0) + ('bar',)"
   ]
  },
  {
   "cell_type": "code",
   "execution_count": 12,
   "id": "c46fbbc3",
   "metadata": {},
   "outputs": [
    {
     "data": {
      "text/plain": [
       "('foo', 'bar', 'foo', 'bar', 'foo', 'bar', 'foo', 'bar')"
      ]
     },
     "execution_count": 12,
     "metadata": {},
     "output_type": "execute_result"
    }
   ],
   "source": [
    "# 若將 tuple 乘上一個整數，會將tuple內的元素重複若干遍\n",
    "('foo', 'bar') * 4"
   ]
  },
  {
   "cell_type": "markdown",
   "id": "124846fa",
   "metadata": {},
   "source": [
    "## 。拆掉Tuple\n",
    "* 將tuple指定給一串排列如tuple的變數，python會將等號右邊的tuple拆分給那些變數\n",
    "* 使用時機:\n",
    "    * 對list所組成的tuple做迭代\n",
    "    * 多個值回傳"
   ]
  },
  {
   "cell_type": "code",
   "execution_count": 13,
   "id": "afcf4777",
   "metadata": {},
   "outputs": [
    {
     "data": {
      "text/plain": [
       "5"
      ]
     },
     "execution_count": 13,
     "metadata": {},
     "output_type": "execute_result"
    }
   ],
   "source": [
    "tup = (4, 5, 6)\n",
    "a, b, c = tup\n",
    "b"
   ]
  },
  {
   "cell_type": "code",
   "execution_count": 15,
   "id": "6b804c07",
   "metadata": {},
   "outputs": [
    {
     "data": {
      "text/plain": [
       "6"
      ]
     },
     "execution_count": 15,
     "metadata": {},
     "output_type": "execute_result"
    }
   ],
   "source": [
    "tup = 4, 5, (6, 7)\n",
    "a, b, (c, d) = tup\n",
    "c"
   ]
  },
  {
   "cell_type": "code",
   "execution_count": 17,
   "id": "8d2607c3",
   "metadata": {
    "scrolled": true
   },
   "outputs": [
    {
     "data": {
      "text/plain": [
       "(1, 2)"
      ]
     },
     "execution_count": 17,
     "metadata": {},
     "output_type": "execute_result"
    }
   ],
   "source": [
    "values = 1, 2, 3, 4, 5, 6\n",
    "a, b, *rest = values\n",
    "a, b"
   ]
  },
  {
   "cell_type": "code",
   "execution_count": 18,
   "id": "98ea52a9",
   "metadata": {},
   "outputs": [
    {
     "data": {
      "text/plain": [
       "[3, 4, 5, 6]"
      ]
     },
     "execution_count": 18,
     "metadata": {},
     "output_type": "execute_result"
    }
   ],
   "source": [
    "rest"
   ]
  },
  {
   "cell_type": "code",
   "execution_count": 16,
   "id": "77ef8f28",
   "metadata": {},
   "outputs": [
    {
     "name": "stdout",
     "output_type": "stream",
     "text": [
      "a = 1, b = 2, c = 3\n",
      "a = 4, b = 5, c = 6\n",
      "a = 7, b = 8, c = 9\n"
     ]
    }
   ],
   "source": [
    "seq = [(1, 2, 3), (4, 5, 6), (7, 8, 9)]\n",
    "\n",
    "for a, b, c in seq:\n",
    "    print(F\"a = {a}, b = {b}, c = {c}\")"
   ]
  },
  {
   "cell_type": "markdown",
   "id": "ad730445",
   "metadata": {},
   "source": [
    "## 。Tuple方法"
   ]
  },
  {
   "cell_type": "markdown",
   "id": "16531949",
   "metadata": {},
   "source": [
    "* count(element) -> 計算tuple內的element有幾個"
   ]
  },
  {
   "cell_type": "code",
   "execution_count": 19,
   "id": "0f5ea59e",
   "metadata": {},
   "outputs": [
    {
     "data": {
      "text/plain": [
       "3"
      ]
     },
     "execution_count": 19,
     "metadata": {},
     "output_type": "execute_result"
    }
   ],
   "source": [
    "a = (1, 2, 2, 2, 3, 4, 5)\n",
    "a.count(2)"
   ]
  },
  {
   "cell_type": "markdown",
   "id": "b288b501",
   "metadata": {},
   "source": [
    "## 。 List\n",
    "* 長度可變，內容也可變\n",
    "* 使用中括號[]來定義一個list\n",
    "* 常被用來實體化一個迭代器或是產生器\n",
    "* 在list中，Python使用線性方法掃過所有值 -> 速度較dict 與 set 慢許多"
   ]
  },
  {
   "cell_type": "code",
   "execution_count": 21,
   "id": "513e0a34",
   "metadata": {},
   "outputs": [
    {
     "name": "stdout",
     "output_type": "stream",
     "text": [
      "[2, 3, 7, None], type: <class 'list'>\n"
     ]
    }
   ],
   "source": [
    "a_list = [2, 3, 7, None]\n",
    "print(F\"{a_list}, type: {type(a_list)}\")"
   ]
  },
  {
   "cell_type": "code",
   "execution_count": 22,
   "id": "4b11b69b",
   "metadata": {},
   "outputs": [
    {
     "name": "stdout",
     "output_type": "stream",
     "text": [
      "[1, 2, 3, 4], type: <class 'list'>\n"
     ]
    }
   ],
   "source": [
    "tup  =(1, 2, 3, 4)\n",
    "b_list = list(tup)\n",
    "print(F\"{b_list}, type: {type(b_list)}\")"
   ]
  },
  {
   "cell_type": "code",
   "execution_count": 23,
   "id": "813a4653",
   "metadata": {},
   "outputs": [
    {
     "name": "stdout",
     "output_type": "stream",
     "text": [
      "[1, 'van', 3, 4], type: <class 'list'>\n"
     ]
    }
   ],
   "source": [
    "b_list[1] = \"van\"\n",
    "print(F\"{b_list}, type: {type(b_list)}\")"
   ]
  },
  {
   "cell_type": "code",
   "execution_count": 24,
   "id": "dda9db47",
   "metadata": {},
   "outputs": [
    {
     "data": {
      "text/plain": [
       "range(0, 10)"
      ]
     },
     "execution_count": 24,
     "metadata": {},
     "output_type": "execute_result"
    }
   ],
   "source": [
    "gen = range(10)\n",
    "gen"
   ]
  },
  {
   "cell_type": "code",
   "execution_count": 25,
   "id": "a2fb833a",
   "metadata": {},
   "outputs": [
    {
     "data": {
      "text/plain": [
       "[0, 1, 2, 3, 4, 5, 6, 7, 8, 9]"
      ]
     },
     "execution_count": 25,
     "metadata": {},
     "output_type": "execute_result"
    }
   ],
   "source": [
    "list(gen)"
   ]
  },
  {
   "cell_type": "markdown",
   "id": "1d0cfd55",
   "metadata": {},
   "source": [
    "## 。加入或移除元素\n"
   ]
  },
  {
   "cell_type": "markdown",
   "id": "76a83901",
   "metadata": {},
   "source": [
    "* append(element) -> 可將element加入list尾端"
   ]
  },
  {
   "cell_type": "code",
   "execution_count": 26,
   "id": "9df2aa4a",
   "metadata": {},
   "outputs": [
    {
     "data": {
      "text/plain": [
       "[1, 'van', 3, 4, 'AA']"
      ]
     },
     "execution_count": 26,
     "metadata": {},
     "output_type": "execute_result"
    }
   ],
   "source": [
    "b_list.append(\"AA\")\n",
    "b_list"
   ]
  },
  {
   "cell_type": "markdown",
   "id": "d2946a67",
   "metadata": {},
   "source": [
    "* insert(index, element) -> 可將element插入list內，位置為index的地方\n",
    "* 0 <= index <= list長度\n",
    "* insert的計算量比append高得多(須將後方元素參照位移到更後面)，若需要將元素插入到最前或最後 -> 使用collections.deque -> 雙向串列"
   ]
  },
  {
   "cell_type": "code",
   "execution_count": 27,
   "id": "4c05de7d",
   "metadata": {},
   "outputs": [],
   "source": [
    "b_list.insert(1, \"BB\")"
   ]
  },
  {
   "cell_type": "code",
   "execution_count": 28,
   "id": "de14adc4",
   "metadata": {},
   "outputs": [
    {
     "data": {
      "text/plain": [
       "[1, 'BB', 'van', 3, 4, 'AA']"
      ]
     },
     "execution_count": 28,
     "metadata": {},
     "output_type": "execute_result"
    }
   ],
   "source": [
    "b_list"
   ]
  },
  {
   "cell_type": "markdown",
   "id": "6451a9f6",
   "metadata": {},
   "source": [
    "* pop(index) -> 移除index的元素並回傳它"
   ]
  },
  {
   "cell_type": "code",
   "execution_count": 29,
   "id": "50e16289",
   "metadata": {},
   "outputs": [
    {
     "data": {
      "text/plain": [
       "'van'"
      ]
     },
     "execution_count": 29,
     "metadata": {},
     "output_type": "execute_result"
    }
   ],
   "source": [
    "b_list.pop(2)"
   ]
  },
  {
   "cell_type": "code",
   "execution_count": 30,
   "id": "6afaf0e3",
   "metadata": {},
   "outputs": [
    {
     "data": {
      "text/plain": [
       "[1, 'BB', 3, 4, 'AA']"
      ]
     },
     "execution_count": 30,
     "metadata": {},
     "output_type": "execute_result"
    }
   ],
   "source": [
    "b_list"
   ]
  },
  {
   "cell_type": "markdown",
   "id": "be2a6979",
   "metadata": {},
   "source": [
    "* remove(element) -> 刪除第一個匹配的元素"
   ]
  },
  {
   "cell_type": "code",
   "execution_count": 31,
   "id": "bdc3b1f6",
   "metadata": {},
   "outputs": [
    {
     "data": {
      "text/plain": [
       "[1, 'BB', 3, 4, 'AA', 'BB']"
      ]
     },
     "execution_count": 31,
     "metadata": {},
     "output_type": "execute_result"
    }
   ],
   "source": [
    "b_list.append(\"BB\")\n",
    "b_list"
   ]
  },
  {
   "cell_type": "code",
   "execution_count": 32,
   "id": "5f2509dc",
   "metadata": {},
   "outputs": [
    {
     "data": {
      "text/plain": [
       "[1, 3, 4, 'AA', 'BB']"
      ]
     },
     "execution_count": 32,
     "metadata": {},
     "output_type": "execute_result"
    }
   ],
   "source": [
    "b_list.remove(\"BB\")\n",
    "b_list"
   ]
  },
  {
   "cell_type": "markdown",
   "id": "6979b87c",
   "metadata": {},
   "source": [
    "* 使用 + 將兩個list相加在一起"
   ]
  },
  {
   "cell_type": "code",
   "execution_count": 33,
   "id": "9e385f49",
   "metadata": {},
   "outputs": [
    {
     "data": {
      "text/plain": [
       "[4, None, 'foo', 7, 8, (2, 3)]"
      ]
     },
     "execution_count": 33,
     "metadata": {},
     "output_type": "execute_result"
    }
   ],
   "source": [
    "[4, None, \"foo\"] + [7, 8, (2, 3)]"
   ]
  },
  {
   "cell_type": "markdown",
   "id": "49299213",
   "metadata": {},
   "source": [
    "* 使用 extend()方法一次加入多個元素"
   ]
  },
  {
   "cell_type": "code",
   "execution_count": 34,
   "id": "b93093a0",
   "metadata": {},
   "outputs": [
    {
     "data": {
      "text/plain": [
       "[4, None, 'foo']"
      ]
     },
     "execution_count": 34,
     "metadata": {},
     "output_type": "execute_result"
    }
   ],
   "source": [
    "x = [4, None, \"foo\"]\n",
    "x"
   ]
  },
  {
   "cell_type": "code",
   "execution_count": 35,
   "id": "079a6f4d",
   "metadata": {},
   "outputs": [],
   "source": [
    "x.extend([7, 8, (2, 3)])"
   ]
  },
  {
   "cell_type": "code",
   "execution_count": 36,
   "id": "c68634ad",
   "metadata": {},
   "outputs": [
    {
     "data": {
      "text/plain": [
       "[4, None, 'foo', 7, 8, (2, 3)]"
      ]
     },
     "execution_count": 36,
     "metadata": {},
     "output_type": "execute_result"
    }
   ],
   "source": [
    "x"
   ]
  },
  {
   "cell_type": "markdown",
   "id": "e22afb6a",
   "metadata": {},
   "source": [
    "* 使用 + 時會開一個新的list，並將要合併的list全部複製過去 -> 運算成本高\n",
    "* 利用extend() -> 推薦"
   ]
  },
  {
   "cell_type": "markdown",
   "id": "0b052385",
   "metadata": {},
   "source": [
    "## 。排序"
   ]
  },
  {
   "cell_type": "markdown",
   "id": "2e5221b4",
   "metadata": {},
   "source": [
    "* list.sort(key) -> 直接對原list進行排序(in-place: 原地的)，可以指定排序鍵值(sort key) -> 排序的依據"
   ]
  },
  {
   "cell_type": "code",
   "execution_count": 37,
   "id": "21a52120",
   "metadata": {},
   "outputs": [
    {
     "data": {
      "text/plain": [
       "['He', 'saw', 'six', 'small', 'Foxes']"
      ]
     },
     "execution_count": 37,
     "metadata": {},
     "output_type": "execute_result"
    }
   ],
   "source": [
    "b = ['saw', 'small', 'He', 'Foxes', 'six']\n",
    "b.sort(key=len)\n",
    "b"
   ]
  },
  {
   "cell_type": "markdown",
   "id": "832d5114",
   "metadata": {},
   "source": [
    "## 。二元搜尋以及維護已排序list"
   ]
  },
  {
   "cell_type": "markdown",
   "id": "370d380b",
   "metadata": {},
   "source": [
    "* 內建 bisect 模組可以對已排序list進行二元搜尋及插入\n",
    "* bisect.bisect(list, value) -> 用來找到元素應插入的位置並不破壞原有順序 -> 只回傳數值不插入\n",
    "* bisect.insort(list, value) -> 用來實際插入元素到該位置的動作 -> 會將元素插入到物件裡\n",
    "* 由於檢查list是否已排序的成本太過昂貴，因此bisect<font color = red>並不會檢查list是否已排序</font> -> 使用未排序的list會導致得到錯誤的結果"
   ]
  },
  {
   "cell_type": "code",
   "execution_count": 38,
   "id": "30db36b3",
   "metadata": {},
   "outputs": [],
   "source": [
    "import bisect\n",
    "c = [1, 2, 2, 2, 3, 4, 7]"
   ]
  },
  {
   "cell_type": "code",
   "execution_count": 42,
   "id": "a828a155",
   "metadata": {},
   "outputs": [
    {
     "name": "stdout",
     "output_type": "stream",
     "text": [
      "The index of element should be inserted: 4, the list: [1, 2, 2, 2, 3, 4, 7]\n"
     ]
    }
   ],
   "source": [
    "bisect.bisect(c, 2)  # 只回傳元素該插入的index\n",
    "print(F\"The index of element should be inserted: {bisect.bisect(c, 2)}, the list: {c}\")"
   ]
  },
  {
   "cell_type": "code",
   "execution_count": 43,
   "id": "12e38b1f",
   "metadata": {},
   "outputs": [
    {
     "name": "stdout",
     "output_type": "stream",
     "text": [
      "The index of element should be inserted: 6, the list: [1, 2, 2, 2, 3, 4, 7]\n"
     ]
    }
   ],
   "source": [
    "print(F\"The index of element should be inserted: {bisect.bisect(c, 6)}, the list: {c}\")"
   ]
  },
  {
   "cell_type": "code",
   "execution_count": 44,
   "id": "7c9ecc95",
   "metadata": {},
   "outputs": [
    {
     "name": "stdout",
     "output_type": "stream",
     "text": [
      "The index of element should be inserted: None, the list: [1, 2, 2, 2, 3, 4, 6, 7]\n"
     ]
    }
   ],
   "source": [
    "# bisect.insort(list, value) -> 回傳None, 並將value實際插入到list內\n",
    "print(F\"The index of element should be inserted: {bisect.insort(c, 6)}, the list: {c}\")"
   ]
  },
  {
   "cell_type": "markdown",
   "id": "86c30968",
   "metadata": {},
   "source": [
    "## 。切片\n"
   ]
  },
  {
   "cell_type": "markdown",
   "id": "4ce7c197",
   "metadata": {},
   "source": [
    "* list[start: end: step]:  \n",
    "    * start: 起始值:  \n",
    "        * 從起始值開始切片\n",
    "        * 不寫 -> 從頭開始\n",
    "    * end: 結尾值:  \n",
    "        * 到結尾值-1停止\n",
    "        * 不寫 -> 到序列結尾\n",
    "    * step: 步進值:  \n",
    "        * 每隔幾步取值\n",
    "        * 不寫 -> 預設為1\n",
    "        * -1 -> 可將序列反轉"
   ]
  },
  {
   "cell_type": "code",
   "execution_count": 47,
   "id": "c64584c6",
   "metadata": {},
   "outputs": [
    {
     "data": {
      "text/plain": [
       "[2, 3, 4, 5]"
      ]
     },
     "execution_count": 47,
     "metadata": {},
     "output_type": "execute_result"
    }
   ],
   "source": [
    "seq = [1,2,3,4,5,6,7,8,9]\n",
    "seq[1:5]"
   ]
  },
  {
   "cell_type": "code",
   "execution_count": 48,
   "id": "d11b8ce5",
   "metadata": {},
   "outputs": [
    {
     "data": {
      "text/plain": [
       "[1, 2, 3]"
      ]
     },
     "execution_count": 48,
     "metadata": {},
     "output_type": "execute_result"
    }
   ],
   "source": [
    "seq[: 3]"
   ]
  },
  {
   "cell_type": "code",
   "execution_count": 49,
   "id": "4bd1790d",
   "metadata": {},
   "outputs": [
    {
     "data": {
      "text/plain": [
       "[3, 4, 5, 6, 7, 8, 9]"
      ]
     },
     "execution_count": 49,
     "metadata": {},
     "output_type": "execute_result"
    }
   ],
   "source": [
    "seq[2: ]"
   ]
  },
  {
   "cell_type": "markdown",
   "id": "8d11c0cd",
   "metadata": {},
   "source": [
    "* 序列給值"
   ]
  },
  {
   "cell_type": "code",
   "execution_count": 46,
   "id": "e4dac1be",
   "metadata": {},
   "outputs": [
    {
     "data": {
      "text/plain": [
       "[1, 2, 3, 'a', 'b', 5, 6, 7, 8, 9]"
      ]
     },
     "execution_count": 46,
     "metadata": {},
     "output_type": "execute_result"
    }
   ],
   "source": [
    "seq[3:4] = ['a', 'b']\n",
    "seq"
   ]
  },
  {
   "cell_type": "markdown",
   "id": "52e9d897",
   "metadata": {},
   "source": [
    "* 負值索引 -> 從尾端開始算，倒數第一個元素索引為-1，倒數第二個元素索引為-2"
   ]
  },
  {
   "cell_type": "code",
   "execution_count": 50,
   "id": "3b611645",
   "metadata": {},
   "outputs": [
    {
     "data": {
      "text/plain": [
       "9"
      ]
     },
     "execution_count": 50,
     "metadata": {},
     "output_type": "execute_result"
    }
   ],
   "source": [
    "seq[-1]"
   ]
  },
  {
   "cell_type": "code",
   "execution_count": 51,
   "id": "0227f093",
   "metadata": {},
   "outputs": [
    {
     "data": {
      "text/plain": [
       "[6, 7, 8]"
      ]
     },
     "execution_count": 51,
     "metadata": {},
     "output_type": "execute_result"
    }
   ],
   "source": [
    "seq[-4: -1]"
   ]
  },
  {
   "cell_type": "code",
   "execution_count": 52,
   "id": "b1424c37",
   "metadata": {},
   "outputs": [
    {
     "data": {
      "text/plain": [
       "[4, 5, 6, 7, 8, 9]"
      ]
     },
     "execution_count": 52,
     "metadata": {},
     "output_type": "execute_result"
    }
   ],
   "source": [
    "seq[-6: ]"
   ]
  },
  {
   "cell_type": "code",
   "execution_count": 53,
   "id": "5619b698",
   "metadata": {},
   "outputs": [
    {
     "data": {
      "text/plain": [
       "[1, 3, 5, 7, 9]"
      ]
     },
     "execution_count": 53,
     "metadata": {},
     "output_type": "execute_result"
    }
   ],
   "source": [
    "seq[::2]"
   ]
  },
  {
   "cell_type": "code",
   "execution_count": 55,
   "id": "4d8e34b9",
   "metadata": {},
   "outputs": [
    {
     "name": "stdout",
     "output_type": "stream",
     "text": [
      "seq: [1, 2, 3, 4, 5, 6, 7, 8, 9], seq[-1]: [9, 8, 7, 6, 5, 4, 3, 2, 1]\n"
     ]
    }
   ],
   "source": [
    "print(F\"seq: {seq}, seq[-1]: {seq[::-1]}\")"
   ]
  },
  {
   "cell_type": "markdown",
   "id": "b3a67b15",
   "metadata": {},
   "source": [
    "## 。內建序列函式"
   ]
  },
  {
   "cell_type": "markdown",
   "id": "810f2198",
   "metadata": {},
   "source": [
    "###  。enumrate\n",
    "* 回傳(index, value) -> 回傳元素為value的索引index"
   ]
  },
  {
   "cell_type": "code",
   "execution_count": 57,
   "id": "d66963ec",
   "metadata": {},
   "outputs": [
    {
     "name": "stdout",
     "output_type": "stream",
     "text": [
      "index: 0, value: foo\n",
      "index: 1, value: van\n",
      "index: 2, value: kevin\n"
     ]
    },
    {
     "data": {
      "text/plain": [
       "{'foo': 0, 'van': 1, 'kevin': 2}"
      ]
     },
     "execution_count": 57,
     "metadata": {},
     "output_type": "execute_result"
    }
   ],
   "source": [
    "some_list = ['foo', 'van', 'kevin']\n",
    "mapping = {}\n",
    "for index, value in enumerate(some_list):\n",
    "    mapping[value] = index\n",
    "    print(F\"index: {index}, value: {value}\")\n",
    "\n",
    "mapping"
   ]
  },
  {
   "cell_type": "markdown",
   "id": "40fa6b41",
   "metadata": {},
   "source": [
    "### 。sorted\n",
    "* 將序列排序後，回傳一個新序列\n",
    "* 處理方式與list一樣"
   ]
  },
  {
   "cell_type": "code",
   "execution_count": 59,
   "id": "4f576cb3",
   "metadata": {},
   "outputs": [
    {
     "data": {
      "text/plain": [
       "[1, 2, 3, 4, 5, 5, 5, 8, 98, 531]"
      ]
     },
     "execution_count": 59,
     "metadata": {},
     "output_type": "execute_result"
    }
   ],
   "source": [
    "a_list = [2,4,8,3,1,5,98,5,531,5]\n",
    "b_list = sorted(a_list)\n",
    "b_list"
   ]
  },
  {
   "cell_type": "code",
   "execution_count": 63,
   "id": "790ae628",
   "metadata": {},
   "outputs": [
    {
     "data": {
      "text/plain": [
       "[' ',\n",
       " ' ',\n",
       " ' ',\n",
       " ',',\n",
       " '?',\n",
       " 'H',\n",
       " 'a',\n",
       " 'e',\n",
       " 'h',\n",
       " 'i',\n",
       " 'o',\n",
       " 'o',\n",
       " 'r',\n",
       " 'u',\n",
       " 'w',\n",
       " 'y']"
      ]
     },
     "execution_count": 63,
     "metadata": {},
     "output_type": "execute_result"
    }
   ],
   "source": [
    "sort_str_list = sorted('Hi, how are you?')\n",
    "sort_str_list"
   ]
  },
  {
   "cell_type": "markdown",
   "id": "adcdb371",
   "metadata": {},
   "source": [
    "### 。zip\n",
    "* 可將list、tuple或其他序列的元素配對，並建立一個新的物件\n",
    "    * 須利用生成器(list(), tuple(), set(), dict())將zip所傳回的物件產生出來"
   ]
  },
  {
   "cell_type": "code",
   "execution_count": 74,
   "id": "d1ced731",
   "metadata": {},
   "outputs": [
    {
     "name": "stdout",
     "output_type": "stream",
     "text": [
      "<zip object at 0x000002425512AF40>\n",
      "list: [('foo', 'aaa'), ('van', 'ccd'), ('sss', 'asd')], \n",
      "tuple: (('foo', 'aaa'), ('van', 'ccd'), ('sss', 'asd')), \n",
      "set: {('foo', 'aaa'), ('van', 'ccd'), ('sss', 'asd')}, \n",
      "dict: {'foo': 'aaa', 'van': 'ccd', 'sss': 'asd'}\n"
     ]
    }
   ],
   "source": [
    "seq1 = ['foo', 'van', 'sss']\n",
    "seq2 = ['aaa', 'ccd', 'asd']\n",
    "zipped = zip(seq1, seq2)\n",
    "print(zipped)\n",
    "print(F\"list: {list(zipped)}, \\ntuple: {tuple(zip(seq1, seq2))}, \\nset: {set(zip(seq1, seq2))}, \\ndict: {dict(zip(seq1, seq2))}\" )"
   ]
  },
  {
   "cell_type": "markdown",
   "id": "5d8eae9a",
   "metadata": {},
   "source": [
    "* 可接受任意數量的序列物件，並以<font color=yellow>最短的序列物件</font>決定產生的長度"
   ]
  },
  {
   "cell_type": "code",
   "execution_count": 75,
   "id": "b2e5fd54",
   "metadata": {},
   "outputs": [
    {
     "data": {
      "text/plain": [
       "[('foo', 'aaa', 'k'), ('van', 'ccd', 'e')]"
      ]
     },
     "execution_count": 75,
     "metadata": {},
     "output_type": "execute_result"
    }
   ],
   "source": [
    "seq3 = ['k', 'e']\n",
    "zipped = zip(seq1, seq2, seq3)\n",
    "list(zipped)"
   ]
  },
  {
   "cell_type": "markdown",
   "id": "65061c1a",
   "metadata": {},
   "source": [
    "* 可用來<font color=yellow>解包序列</font> -> 類似列轉為行"
   ]
  },
  {
   "cell_type": "code",
   "execution_count": 77,
   "id": "695e038d",
   "metadata": {},
   "outputs": [
    {
     "name": "stdout",
     "output_type": "stream",
     "text": [
      "first: ('van', 'aa', 'aaaa'), second: ('kevin', 'bb', 'cccc')\n"
     ]
    }
   ],
   "source": [
    "pic = [('van', 'kevin'), ('aa', 'bb'), ('aaaa', 'cccc')]\n",
    "first, second = zip(*pic)\n",
    "print(F\"first: {first}, second: {second}\")"
   ]
  },
  {
   "cell_type": "markdown",
   "id": "135aadec",
   "metadata": {},
   "source": [
    "### 。reversed\n",
    "* 可將序列做反向迭代"
   ]
  },
  {
   "cell_type": "code",
   "execution_count": 79,
   "id": "8d159b45",
   "metadata": {},
   "outputs": [
    {
     "data": {
      "text/plain": [
       "[9, 8, 7, 6, 5, 4, 3, 2, 1, 0]"
      ]
     },
     "execution_count": 79,
     "metadata": {},
     "output_type": "execute_result"
    }
   ],
   "source": [
    "list(reversed(range(10)))"
   ]
  },
  {
   "cell_type": "markdown",
   "id": "1741260e",
   "metadata": {},
   "source": [
    "## 。dict"
   ]
  },
  {
   "cell_type": "markdown",
   "id": "0ca926b4",
   "metadata": {},
   "source": [
    "* 可以儲存任意大小的鍵值對(key-value pair)\n",
    "* {key: value}"
   ]
  },
  {
   "cell_type": "code",
   "execution_count": 98,
   "id": "d7c9907b",
   "metadata": {},
   "outputs": [
    {
     "name": "stdout",
     "output_type": "stream",
     "text": [
      "{'a': 'first', 'b': 'second', 'c': [1, 2, 3, 4]}, type: <class 'dict'>\n"
     ]
    }
   ],
   "source": [
    "d1 = {'a': 'first', 'b': 'second', 'c': [1,2,3,4]}\n",
    "print(F\"{d1}, type: {type(d1)}\")"
   ]
  },
  {
   "cell_type": "markdown",
   "id": "be758e3d",
   "metadata": {},
   "source": [
    "* 存取方式與list、tuple相同"
   ]
  },
  {
   "cell_type": "code",
   "execution_count": 99,
   "id": "e2df74e1",
   "metadata": {},
   "outputs": [
    {
     "data": {
      "text/plain": [
       "{'a': 'first', 'b': 'second', 'c': [1, 2, 3, 4], 'd': (5, 5, 5)}"
      ]
     },
     "execution_count": 99,
     "metadata": {},
     "output_type": "execute_result"
    }
   ],
   "source": [
    "d1['d'] = (5,5,5)\n",
    "d1"
   ]
  },
  {
   "cell_type": "markdown",
   "id": "6ee73776",
   "metadata": {},
   "source": [
    "* 檢查方式與list、tuple相同"
   ]
  },
  {
   "cell_type": "code",
   "execution_count": 100,
   "id": "5d1c2711",
   "metadata": {},
   "outputs": [
    {
     "name": "stdout",
     "output_type": "stream",
     "text": [
      "False, True\n"
     ]
    }
   ],
   "source": [
    "print(F\"{1 in d1}, {'c' in d1}\")"
   ]
  },
  {
   "cell_type": "markdown",
   "id": "34116318",
   "metadata": {},
   "source": [
    "* 刪除值(與list, tuple相同):\n",
    "    * del dict[index] -> 不會回傳被刪除的值\n",
    "    * pop dict[index] -> 會回傳被刪除的值"
   ]
  },
  {
   "cell_type": "code",
   "execution_count": 101,
   "id": "c5752d89",
   "metadata": {},
   "outputs": [
    {
     "data": {
      "text/plain": [
       "{'a': 'first', 'b': 'second', 'c': [1, 2, 3, 4], 'd': (5, 5, 5)}"
      ]
     },
     "execution_count": 101,
     "metadata": {},
     "output_type": "execute_result"
    }
   ],
   "source": [
    "d1"
   ]
  },
  {
   "cell_type": "code",
   "execution_count": 102,
   "id": "bf1ab3bd",
   "metadata": {},
   "outputs": [
    {
     "data": {
      "text/plain": [
       "{'b': 'second', 'c': [1, 2, 3, 4], 'd': (5, 5, 5)}"
      ]
     },
     "execution_count": 102,
     "metadata": {},
     "output_type": "execute_result"
    }
   ],
   "source": [
    "del d1['a']\n",
    "d1"
   ]
  },
  {
   "cell_type": "code",
   "execution_count": 103,
   "id": "31ba67c6",
   "metadata": {},
   "outputs": [
    {
     "name": "stdout",
     "output_type": "stream",
     "text": [
      "a: [1, 2, 3, 4], d1: {'b': 'second', 'd': (5, 5, 5)}\n"
     ]
    }
   ],
   "source": [
    "a = d1.pop('c')\n",
    "print(F\"a: {a}, d1: {d1}\")"
   ]
  },
  {
   "cell_type": "markdown",
   "id": "674c6f67",
   "metadata": {},
   "source": [
    "* dict.keys() -> 取回dict的所有key\n",
    "* dict.values() -> 取回dict的所有value"
   ]
  },
  {
   "cell_type": "code",
   "execution_count": 105,
   "id": "1bd21529",
   "metadata": {},
   "outputs": [
    {
     "data": {
      "text/plain": [
       "['b', 'd']"
      ]
     },
     "execution_count": 105,
     "metadata": {},
     "output_type": "execute_result"
    }
   ],
   "source": [
    "list(d1.keys())"
   ]
  },
  {
   "cell_type": "code",
   "execution_count": 106,
   "id": "d8340ffc",
   "metadata": {},
   "outputs": [
    {
     "data": {
      "text/plain": [
       "['second', (5, 5, 5)]"
      ]
     },
     "execution_count": 106,
     "metadata": {},
     "output_type": "execute_result"
    }
   ],
   "source": [
    "list(d1.values())"
   ]
  },
  {
   "cell_type": "markdown",
   "id": "a7a8c31e",
   "metadata": {},
   "source": [
    "### 。 get方法"
   ]
  },
  {
   "cell_type": "markdown",
   "id": "0a7cebd1",
   "metadata": {},
   "source": [
    "* value = dict.get(key, default_value):\n",
    "    * key在dict裡 -> 回傳對應key的value(= 回傳dict[key])\n",
    "    * key不在dict裡 -> 回傳defalut_value\n",
    "    * default_value 預設是 None"
   ]
  },
  {
   "cell_type": "code",
   "execution_count": 110,
   "id": "117b1776",
   "metadata": {},
   "outputs": [
    {
     "name": "stdout",
     "output_type": "stream",
     "text": [
      "1\n",
      "e not in dict\n",
      "None\n"
     ]
    }
   ],
   "source": [
    "d1 = {'a': 1, 'b': 2, 'c': 3, 'd': 4}\n",
    "value = d1.get('a', \"a not in dict\")\n",
    "print(value)\n",
    "value2 = d1.get('e', \"e not in dict\")\n",
    "print(value2)\n",
    "value3 = d1.get('ff')\n",
    "print(value3)"
   ]
  },
  {
   "cell_type": "markdown",
   "id": "bcc6f0b6",
   "metadata": {},
   "source": [
    "### 。setdefault方法\n",
    "* dict.setdefault(key, default=None):\n",
    "    * key存在於dict時，回傳dict[key]\n",
    "    * key不存在於dict時， 回傳defalut"
   ]
  },
  {
   "cell_type": "code",
   "execution_count": 116,
   "id": "d8a48961",
   "metadata": {},
   "outputs": [
    {
     "name": "stdout",
     "output_type": "stream",
     "text": [
      "by_first_letter: {'a': ['apple', 'abandon', 'another'], 'c': ['cat'], 'd': ['dog', 'default', 'decrease']},\n",
      "by_first_letter2: {'a': ['apple', 'abandon', 'another'], 'c': ['cat'], 'd': ['dog', 'default', 'decrease']}\n"
     ]
    }
   ],
   "source": [
    "words = ['apple', 'abandon', 'another', 'cat', 'dog', 'default', 'decrease']\n",
    "by_first_letter = {}\n",
    "by_first_letter2 = {}\n",
    "\n",
    "# 不使用setdefault方法\n",
    "for word in words:\n",
    "    letter = word[0]\n",
    "    if letter in by_first_letter:\n",
    "        by_first_letter[letter].append(word)\n",
    "    else:\n",
    "        by_first_letter[letter] = [word]\n",
    "        \n",
    "# 使用setdeaulte方法\n",
    "for word in words:\n",
    "    letter = word[0]\n",
    "    by_first_letter2.setdefault(letter, []).append(word)\n",
    "print(F\"by_first_letter: {by_first_letter},\\nby_first_letter2: {by_first_letter2}\")"
   ]
  },
  {
   "cell_type": "markdown",
   "id": "b666837c",
   "metadata": {},
   "source": [
    "* 使用defalutdict類別"
   ]
  },
  {
   "cell_type": "code",
   "execution_count": 118,
   "id": "3a0b624c",
   "metadata": {},
   "outputs": [
    {
     "name": "stdout",
     "output_type": "stream",
     "text": [
      "defaultdict(<class 'list'>, {})\n",
      "defaultdict(<class 'list'>, {'a': ['apple', 'abandon', 'another'], 'c': ['cat'], 'd': ['dog', 'default', 'decrease']})\n"
     ]
    }
   ],
   "source": [
    "from collections import defaultdict\n",
    "by_letter3 = defaultdict(list)\n",
    "print(by_letter3)\n",
    "\n",
    "for word in words:\n",
    "    by_letter3[word[0]].append(word)\n",
    "    \n",
    "print(by_letter3)"
   ]
  },
  {
   "cell_type": "markdown",
   "id": "aa3ef098",
   "metadata": {},
   "source": [
    "### dict的合法key型態\n",
    "* key -> 須為immutable物件 -> 具有hash能力(hashability)"
   ]
  },
  {
   "cell_type": "markdown",
   "id": "b564b714",
   "metadata": {},
   "source": [
    "## 。set"
   ]
  },
  {
   "cell_type": "code",
   "execution_count": null,
   "id": "de4a20fa",
   "metadata": {},
   "outputs": [],
   "source": []
  }
 ],
 "metadata": {
  "kernelspec": {
   "display_name": "Python 3",
   "language": "python",
   "name": "python3"
  },
  "language_info": {
   "codemirror_mode": {
    "name": "ipython",
    "version": 3
   },
   "file_extension": ".py",
   "mimetype": "text/x-python",
   "name": "python",
   "nbconvert_exporter": "python",
   "pygments_lexer": "ipython3",
   "version": "3.9.5"
  }
 },
 "nbformat": 4,
 "nbformat_minor": 5
}
