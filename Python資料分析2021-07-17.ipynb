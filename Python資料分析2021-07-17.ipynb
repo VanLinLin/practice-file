{
 "cells": [
  {
   "cell_type": "markdown",
   "id": "69161332",
   "metadata": {},
   "source": [
    "# Ch2 Python 基礎，IPython 和 Jupyter notebook"
   ]
  },
  {
   "cell_type": "markdown",
   "id": "a5d31e21",
   "metadata": {},
   "source": [
    "## 2.2 IPython 基礎"
   ]
  },
  {
   "cell_type": "markdown",
   "id": "d3b2c258",
   "metadata": {},
   "source": [
    "### 。內省"
   ]
  },
  {
   "cell_type": "code",
   "execution_count": null,
   "id": "f4a9ea6b",
   "metadata": {},
   "outputs": [],
   "source": []
  }
 ],
 "metadata": {
  "kernelspec": {
   "display_name": "Python 3",
   "language": "python",
   "name": "python3"
  },
  "language_info": {
   "codemirror_mode": {
    "name": "ipython",
    "version": 3
   },
   "file_extension": ".py",
   "mimetype": "text/x-python",
   "name": "python",
   "nbconvert_exporter": "python",
   "pygments_lexer": "ipython3",
   "version": "3.9.5"
  }
 },
 "nbformat": 4,
 "nbformat_minor": 5
}
