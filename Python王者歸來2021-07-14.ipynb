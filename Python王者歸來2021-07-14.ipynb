{
 "cells": [
  {
   "cell_type": "markdown",
   "id": "8c3c3ed5",
   "metadata": {},
   "source": [
    "## 11-6-8\n",
    "* 閉包Closure\n",
    " * 內部函數是一個動態產生的程式，當它可以記住函數以外的程式所建立的環境變數數值時，稱此內部函數是閉包"
   ]
  },
  {
   "cell_type": "code",
   "execution_count": 1,
   "id": "9728b079",
   "metadata": {},
   "outputs": [
    {
     "name": "stdout",
     "output_type": "stream",
     "text": [
      "20\n"
     ]
    }
   ],
   "source": [
    "#ch11_25_7\n",
    "def outer():\n",
    "    b = 10\n",
    "    def inner(x):\n",
    "        return 5 * x + b\n",
    "    return inner\n",
    "\n",
    "b = 2\n",
    "f = outer()\n",
    "print(f(b))"
   ]
  },
  {
   "cell_type": "code",
   "execution_count": 2,
   "id": "c8ca24e7",
   "metadata": {},
   "outputs": [
    {
     "name": "stdout",
     "output_type": "stream",
     "text": [
      "3 13\n"
     ]
    }
   ],
   "source": [
    "#ch11_25_8\n",
    "def outer(a, b):\n",
    "    \"\"\"\n",
    "    a and b is the variables of function inner()\n",
    "    \"\"\"\n",
    "    def inner(x):\n",
    "        return a * x + b\n",
    "    return inner\n",
    "\n",
    "f1 = outer(1, 2)\n",
    "f2 = outer(3, 4)\n",
    "print(f1(1), f2(3))"
   ]
  },
  {
   "cell_type": "markdown",
   "id": "38463a37",
   "metadata": {},
   "source": [
    "## 11-7遞迴函式(recursive)\n",
    "### 一個函數可以呼叫自己\n",
    " * 每次呼叫自己時都會使範圍縮小\n",
    "  * 必須有一個終止條件\n",
    "  * 堆疊(stack) -> 後進先出\n",
    "  * sys.getrecursionlimit()顯示python最大遞迴次數\n",
    "  * sys.setrecursionlimit(value)設定Python最大遞迴次數"
   ]
  },
  {
   "cell_type": "code",
   "execution_count": 4,
   "id": "c912f93c",
   "metadata": {},
   "outputs": [
    {
     "name": "stdout",
     "output_type": "stream",
     "text": [
      "The factorial 3 is 1\n",
      "The factorial 5 is 1\n"
     ]
    }
   ],
   "source": [
    "#ch11_26\n",
    "def factorial(n):\n",
    "    \"\"\"calcualte the n!\"\"\"\n",
    "    if n == 1:\n",
    "        return 1\n",
    "    else:\n",
    "        return (factorial(n-1))\n",
    "\n",
    "value = 3\n",
    "print(F\"The factorial {value} is {factorial(value)}\")\n",
    "value = 5\n",
    "print(F\"The factorial {value} is {factorial(value)}\")"
   ]
  },
  {
   "cell_type": "code",
   "execution_count": 7,
   "id": "60737a12",
   "metadata": {},
   "outputs": [
    {
     "data": {
      "text/plain": [
       "3000"
      ]
     },
     "execution_count": 7,
     "metadata": {},
     "output_type": "execute_result"
    }
   ],
   "source": [
    "import sys\n",
    "sys.getrecursionlimit()"
   ]
  },
  {
   "cell_type": "markdown",
   "id": "ce64da62",
   "metadata": {},
   "source": [
    "## 11-8區域變數與全域變數\n",
    "* 某個變數只有在該函數內使用，影響範圍限定在這個函數內 -> 區域變數(Local variable)\n",
    "* 某個變數影響範圍為整個函式 -> 全域變數(golbal variable)"
   ]
  },
  {
   "cell_type": "markdown",
   "id": "204ccb68",
   "metadata": {},
   "source": [
    "### 11-8-1"
   ]
  },
  {
   "cell_type": "code",
   "execution_count": 1,
   "id": "367d9a5e",
   "metadata": {},
   "outputs": [
    {
     "name": "stdout",
     "output_type": "stream",
     "text": [
      "Main function print: Global Variable\n",
      "函數列印: Global Variable\n"
     ]
    }
   ],
   "source": [
    "#ch11_27\n",
    "def printmsg():\n",
    "    \"\"\"函數本身沒有定義變數，只有執行列印全域變數功能\"\"\"\n",
    "    print(F\"函數列印: {msg}\")\n",
    "msg = \"Global Variable\"\n",
    "print(F\"Main function print: {msg}\")\n",
    "printmsg()"
   ]
  },
  {
   "cell_type": "markdown",
   "id": "6e6e4b31",
   "metadata": {},
   "source": [
    "### 11-8-2\n",
    "* 全域變數與函數內的區域變數使用相同名稱時，Python會將相同名稱的變數視為不同變數\n",
    " * 區域變數所在的函數使用區域變數\n",
    " * 其他位置使用全域變數"
   ]
  },
  {
   "cell_type": "code",
   "execution_count": 2,
   "id": "13504f6b",
   "metadata": {},
   "outputs": [
    {
     "name": "stdout",
     "output_type": "stream",
     "text": [
      "Main function print: Global variable\n",
      "函數列印: Local variable\n"
     ]
    }
   ],
   "source": [
    "#ch11_28\n",
    "def printmsg():\n",
    "    \"\"\"函數本身有定義變數，將執行列印區域變數功能\"\"\"\n",
    "    msg = \"Local variable\"\n",
    "    print(F\"函數列印: {msg}\")\n",
    "msg = \"Global variable\"\n",
    "print(F\"Main function print: {msg}\")\n",
    "printmsg()"
   ]
  },
  {
   "cell_type": "markdown",
   "id": "e86e754e",
   "metadata": {},
   "source": [
    "### 11-8-3程式設計須注意事項\n",
    "* 區域變數內容無法在其他函數引用\n",
    "* 區域變數內容無法在主程式引用\n",
    "* 在函數內不能更改全域變數的值\n",
    "* 如果要在函數內存取或修改全域變數數值，需在函數內使用 global 宣告此變數"
   ]
  },
  {
   "cell_type": "code",
   "execution_count": 4,
   "id": "61cbee39",
   "metadata": {},
   "outputs": [
    {
     "name": "stdout",
     "output_type": "stream",
     "text": [
      "Global variable\n",
      "Global variable\n"
     ]
    }
   ],
   "source": [
    "# ch11-29\n",
    "def defmsg():\n",
    "    msg = \"printmsg variable\"\n",
    "    \n",
    "def printmsg():\n",
    "    print(msg)  # 列印defmsg()函數定義的區域變數\n",
    "print(msg)\n",
    "printmsg()"
   ]
  },
  {
   "cell_type": "markdown",
   "id": "a5b394fd",
   "metadata": {},
   "source": [
    "### 11-8-5 nonlocal變數\n",
    "* 用法語global相同，但是global是指最上層變數，nonlocal是指上一層變數"
   ]
  },
  {
   "cell_type": "code",
   "execution_count": 6,
   "id": "2e30d8cd",
   "metadata": {},
   "outputs": [
    {
     "name": "stdout",
     "output_type": "stream",
     "text": [
      "主程式輸出 var_global: 1\n",
      "主程式輸出 var_nonlocal: 2\n",
      "local fun輸出 var_global: 111\n",
      "local fun輸出 var_nonlocal: 222\n",
      "主程式輸出 var_global: 111\n",
      "主程式輸出 var_nonlocal: 2\n"
     ]
    }
   ],
   "source": [
    "# ch11-30-4\n",
    "def local_fun():\n",
    "    var_nonlocal = 22\n",
    "    def local_inner():\n",
    "        global var_global\n",
    "        nonlocal var_nonlocal\n",
    "        var_global = 111\n",
    "        var_nonlocal = 222\n",
    "    local_inner()\n",
    "    print(F\"local fun輸出 var_global: {var_global}\")\n",
    "    print(F\"local fun輸出 var_nonlocal: {var_nonlocal}\")\n",
    "\n",
    "var_global = 1\n",
    "var_nonlocal = 2\n",
    "print(F\"主程式輸出 var_global: {var_global}\")\n",
    "print(F\"主程式輸出 var_nonlocal: {var_nonlocal}\")\n",
    "local_fun()\n",
    "print(F\"主程式輸出 var_global: {var_global}\")\n",
    "print(F\"主程式輸出 var_nonlocal: {var_nonlocal}\")"
   ]
  },
  {
   "cell_type": "markdown",
   "id": "d9a27001",
   "metadata": {},
   "source": [
    "## 11-9匿名函數 lambda\n",
    "* 指沒有名稱的函數，適合使用在程式中指存在一小段時間的情況\n",
    "* 使用 lambda 來定義"
   ]
  },
  {
   "cell_type": "markdown",
   "id": "4d90fb1b",
   "metadata": {},
   "source": [
    "### 11-9-1 匿名函數的語法\n",
    "* 匿名函數最大特色是可以有許多參數，但是只有一個程式碼表達式，將執行結果傳回\n",
    "* lambda arg1, [, arg2, ... argn] : expression"
   ]
  },
  {
   "cell_type": "code",
   "execution_count": 7,
   "id": "64532753",
   "metadata": {},
   "outputs": [
    {
     "name": "stdout",
     "output_type": "stream",
     "text": [
      "100\n"
     ]
    }
   ],
   "source": [
    "# ch11-31\n",
    "# 一般函數\n",
    "def square(x):\n",
    "    value = x ** 2\n",
    "    return value\n",
    "\n",
    "print(square(10))"
   ]
  },
  {
   "cell_type": "code",
   "execution_count": 9,
   "id": "500a49b6",
   "metadata": {},
   "outputs": [
    {
     "name": "stdout",
     "output_type": "stream",
     "text": [
      "100\n"
     ]
    }
   ],
   "source": [
    "# ch11-32\n",
    "# lambda 函數\n",
    "square = lambda x: x ** 2\n",
    "print(square(10))"
   ]
  },
  {
   "cell_type": "markdown",
   "id": "a3d5cc54",
   "metadata": {},
   "source": [
    "### 11-9-2 使用lambda匿名函數的理由\n",
    "* lambda 更加的使用時機是存在一個函數的內部"
   ]
  },
  {
   "cell_type": "code",
   "execution_count": 10,
   "id": "a65eb565",
   "metadata": {},
   "outputs": [
    {
     "name": "stdout",
     "output_type": "stream",
     "text": [
      "25\n"
     ]
    }
   ],
   "source": [
    "# ch11-33-1\n",
    "def func(b):\n",
    "    return lambda x : 2 * x + b\n",
    "\n",
    "linear = func(5)\n",
    "print(linear(10))"
   ]
  },
  {
   "cell_type": "code",
   "execution_count": 11,
   "id": "6be44d83",
   "metadata": {},
   "outputs": [
    {
     "name": "stdout",
     "output_type": "stream",
     "text": [
      "25\n",
      "23\n"
     ]
    }
   ],
   "source": [
    "# ch11-33-2\n",
    "def func(b):\n",
    "    return lambda x : 2 * x + b\n",
    "\n",
    "linear = func(5)\n",
    "print(linear(10))\n",
    "\n",
    "linear2 = func(3)\n",
    "print(linear2(10))"
   ]
  },
  {
   "cell_type": "code",
   "execution_count": 12,
   "id": "0cb38818",
   "metadata": {},
   "outputs": [
    {
     "name": "stdout",
     "output_type": "stream",
     "text": [
      "My dream car is: Porsche\n",
      "My dream car is: Rolls Royce\n",
      "My dream car is: Maserati\n"
     ]
    }
   ],
   "source": [
    "# ch11-33-4\n",
    "def mycar(cars, func):\n",
    "    for car in cars:\n",
    "        print(func(car))\n",
    "        \n",
    "dreamscars = [\"porsche\", \"rolls royce\", \"maserati\"]\n",
    "mycar(dreamscars, lambda carbrand : F\"My dream car is: {carbrand.title()}\")"
   ]
  },
  {
   "cell_type": "markdown",
   "id": "0999482e",
   "metadata": {},
   "source": [
    "### 11-9-4匿名函數使用與filter()\n",
    "* 內建函數filter() -> 篩選序列\n",
    "* filter(func, iterable)\n",
    "* 依次對iterable的元素放數func內，然後將func()函數執行結果是True的元素組成新的篩選物件(filter object)傳回"
   ]
  },
  {
   "cell_type": "code",
   "execution_count": 13,
   "id": "1ed255af",
   "metadata": {},
   "outputs": [
    {
     "name": "stdout",
     "output_type": "stream",
     "text": [
      "奇數串列: [5, 15, 25]\n"
     ]
    }
   ],
   "source": [
    "# ch11-34 -> without lambda\n",
    "def oddfn(x):\n",
    "    return x if (x % 2 == 1) else None\n",
    "\n",
    "mylist = [5, 10, 15, 20, 25, 30]\n",
    "filter_object = filter(oddfn, mylist)\n",
    "\n",
    "print(F\"奇數串列: {[item for item in filter_object]}\")"
   ]
  },
  {
   "cell_type": "code",
   "execution_count": 14,
   "id": "99931769",
   "metadata": {},
   "outputs": [
    {
     "name": "stdout",
     "output_type": "stream",
     "text": [
      "奇數串列: [5, 15, 25]\n"
     ]
    }
   ],
   "source": [
    "# ch11-36 -> with lambda\n",
    "mylist = [5, 10, 15, 20, 25, 30]\n",
    "\n",
    "oddlist = list(filter(lambda x : (x % 2 == 1), mylist))\n",
    "print(F\"奇數串列: {oddlist}\")"
   ]
  },
  {
   "cell_type": "markdown",
   "id": "80a223f2",
   "metadata": {},
   "source": [
    "### 11-9-5匿名函數使用與map()\n",
    "* 內建函數map()\n",
    "* map(func, iterable)\n",
    "* map函數將對iterable重複執行func的動作，並將結果傳回"
   ]
  },
  {
   "cell_type": "code",
   "execution_count": 15,
   "id": "ed4cc513",
   "metadata": {},
   "outputs": [
    {
     "name": "stdout",
     "output_type": "stream",
     "text": [
      "平方串列: [25, 100, 225, 400, 625, 900]\n"
     ]
    }
   ],
   "source": [
    "# ch11-37\n",
    "mylist = [5, 10, 15, 20, 25, 30]\n",
    " \n",
    "squarelist = list(map(lambda x : x ** 2, mylist))\n",
    "\n",
    "print(F\"平方串列: {squarelist}\")"
   ]
  },
  {
   "cell_type": "markdown",
   "id": "083b0c32",
   "metadata": {},
   "source": [
    "### 11-9-6匿名函數使用與reduce()\n",
    "* reduce(func, iterable) -> func需有2個參數\n",
    "* 會先將iterable前兩個元素放入func裡面執行，然後再將傳回結果與第3個元素再放入func直到最後一個元素"
   ]
  },
  {
   "cell_type": "code",
   "execution_count": 16,
   "id": "e00abfd0",
   "metadata": {
    "scrolled": true
   },
   "outputs": [
    {
     "name": "stdout",
     "output_type": "stream",
     "text": [
      "Collecting functools\n",
      "  Downloading functools-0.5.tar.gz (4.9 kB)\n",
      "Building wheels for collected packages: functools\n",
      "  Building wheel for functools (setup.py): started\n",
      "  Building wheel for functools (setup.py): finished with status 'error'\n",
      "  Running setup.py clean for functools\n"
     ]
    },
    {
     "name": "stderr",
     "output_type": "stream",
     "text": [
      "  ERROR: Command errored out with exit status 1:\n",
      "   command: 'D:\\conda\\envs\\py39\\python.exe' -u -c 'import io, os, sys, setuptools, tokenize; sys.argv[0] = '\"'\"'C:\\\\Users\\\\user\\\\AppData\\\\Local\\\\Temp\\\\pip-install-a_eixr1w\\\\functools_26ec486d78334345a06e66afa4fb4d63\\\\setup.py'\"'\"'; __file__='\"'\"'C:\\\\Users\\\\user\\\\AppData\\\\Local\\\\Temp\\\\pip-install-a_eixr1w\\\\functools_26ec486d78334345a06e66afa4fb4d63\\\\setup.py'\"'\"';f = getattr(tokenize, '\"'\"'open'\"'\"', open)(__file__) if os.path.exists(__file__) else io.StringIO('\"'\"'from setuptools import setup; setup()'\"'\"');code = f.read().replace('\"'\"'\\r\\n'\"'\"', '\"'\"'\\n'\"'\"');f.close();exec(compile(code, __file__, '\"'\"'exec'\"'\"'))' bdist_wheel -d 'C:\\Users\\user\\AppData\\Local\\Temp\\pip-wheel-e1y7j_qj'\n",
      "       cwd: C:\\Users\\user\\AppData\\Local\\Temp\\pip-install-a_eixr1w\\functools_26ec486d78334345a06e66afa4fb4d63\\\n",
      "  Complete output (9 lines):\n",
      "  running bdist_wheel\n",
      "  running build\n",
      "  running build_py\n",
      "  creating build\n",
      "  creating build\\lib.win-amd64-3.9\n",
      "  copying functools.py -> build\\lib.win-amd64-3.9\n",
      "  running build_ext\n",
      "  building '_functools' extension\n",
      "  error: Microsoft Visual C++ 14.0 or greater is required. Get it with \"Microsoft C++ Build Tools\": https://visualstudio.microsoft.com/visual-cpp-build-tools/\n",
      "  ----------------------------------------\n",
      "  ERROR: Failed building wheel for functools\n",
      "    ERROR: Command errored out with exit status 1:\n",
      "     command: 'D:\\conda\\envs\\py39\\python.exe' -u -c 'import io, os, sys, setuptools, tokenize; sys.argv[0] = '\"'\"'C:\\\\Users\\\\user\\\\AppData\\\\Local\\\\Temp\\\\pip-install-a_eixr1w\\\\functools_26ec486d78334345a06e66afa4fb4d63\\\\setup.py'\"'\"'; __file__='\"'\"'C:\\\\Users\\\\user\\\\AppData\\\\Local\\\\Temp\\\\pip-install-a_eixr1w\\\\functools_26ec486d78334345a06e66afa4fb4d63\\\\setup.py'\"'\"';f = getattr(tokenize, '\"'\"'open'\"'\"', open)(__file__) if os.path.exists(__file__) else io.StringIO('\"'\"'from setuptools import setup; setup()'\"'\"');code = f.read().replace('\"'\"'\\r\\n'\"'\"', '\"'\"'\\n'\"'\"');f.close();exec(compile(code, __file__, '\"'\"'exec'\"'\"'))' install --record 'C:\\Users\\user\\AppData\\Local\\Temp\\pip-record-6x_m_se8\\install-record.txt' --single-version-externally-managed --compile --install-headers 'D:\\conda\\envs\\py39\\Include\\functools'\n",
      "         cwd: C:\\Users\\user\\AppData\\Local\\Temp\\pip-install-a_eixr1w\\functools_26ec486d78334345a06e66afa4fb4d63\\\n",
      "    Complete output (9 lines):\n",
      "    running install\n",
      "    running build\n",
      "    running build_py\n",
      "    creating build\n",
      "    creating build\\lib.win-amd64-3.9\n",
      "    copying functools.py -> build\\lib.win-amd64-3.9\n",
      "    running build_ext\n",
      "    building '_functools' extension\n",
      "    error: Microsoft Visual C++ 14.0 or greater is required. Get it with \"Microsoft C++ Build Tools\": https://visualstudio.microsoft.com/visual-cpp-build-tools/\n"
     ]
    },
    {
     "name": "stdout",
     "output_type": "stream",
     "text": [
      "Failed to build functools\n",
      "Installing collected packages: functools\n",
      "    Running setup.py install for functools: started\n",
      "    Running setup.py install for functools: finished with status 'error'\n"
     ]
    },
    {
     "name": "stderr",
     "output_type": "stream",
     "text": [
      "    ----------------------------------------\n",
      "ERROR: Command errored out with exit status 1: 'D:\\conda\\envs\\py39\\python.exe' -u -c 'import io, os, sys, setuptools, tokenize; sys.argv[0] = '\"'\"'C:\\\\Users\\\\user\\\\AppData\\\\Local\\\\Temp\\\\pip-install-a_eixr1w\\\\functools_26ec486d78334345a06e66afa4fb4d63\\\\setup.py'\"'\"'; __file__='\"'\"'C:\\\\Users\\\\user\\\\AppData\\\\Local\\\\Temp\\\\pip-install-a_eixr1w\\\\functools_26ec486d78334345a06e66afa4fb4d63\\\\setup.py'\"'\"';f = getattr(tokenize, '\"'\"'open'\"'\"', open)(__file__) if os.path.exists(__file__) else io.StringIO('\"'\"'from setuptools import setup; setup()'\"'\"');code = f.read().replace('\"'\"'\\r\\n'\"'\"', '\"'\"'\\n'\"'\"');f.close();exec(compile(code, __file__, '\"'\"'exec'\"'\"'))' install --record 'C:\\Users\\user\\AppData\\Local\\Temp\\pip-record-6x_m_se8\\install-record.txt' --single-version-externally-managed --compile --install-headers 'D:\\conda\\envs\\py39\\Include\\functools' Check the logs for full command output.\n"
     ]
    }
   ],
   "source": [
    "!pip install functools"
   ]
  },
  {
   "cell_type": "code",
   "execution_count": 3,
   "id": "c9fba985",
   "metadata": {},
   "outputs": [
    {
     "name": "stdout",
     "output_type": "stream",
     "text": [
      "x = 5497\n"
     ]
    }
   ],
   "source": [
    "# ch11-37-1\n",
    "from functools import reduce\n",
    "def str_to_int(string):\n",
    "    \n",
    "    def func(x, y):\n",
    "        return x * 10 + y\n",
    "    \n",
    "    def char_to_num(string):\n",
    "#         print(F\"s: {type(string)} -> {string}\")\n",
    "#         mydict = {\"0\": 0, \"1\": 1, \"2\": 2, \"3\": 3, \"4\": 4, \"5\": 5, \"6\": 6, \"7\": 7, \"8\": 8, \"9\": 9}\n",
    "#         n = mydict[string]\n",
    "#         print(F\"n: {type(n)} -> {n}\")\n",
    "#         return n\n",
    "        return {\"0\": 0, \"1\": 1, \"2\": 2, \"3\": 3, \"4\": 4, \"5\": 5, \"6\": 6, \"7\": 7, \"8\": 8, \"9\": 9}[string]\n",
    "        \n",
    "    \n",
    "    return reduce(func, map(char_to_num, string))\n",
    "\n",
    "str_ = \"5487\"\n",
    "x = str_to_int(str_) + 10\n",
    "print(F\"x = {x}\")"
   ]
  },
  {
   "cell_type": "code",
   "execution_count": 6,
   "id": "d9c55bf7",
   "metadata": {},
   "outputs": [
    {
     "name": "stdout",
     "output_type": "stream",
     "text": [
      "x = 5497\n"
     ]
    }
   ],
   "source": [
    "# ch11-37-4 use lambda\n",
    "from functools import reduce\n",
    "def strToInt(s):\n",
    "    def charToNum(s):\n",
    "        return {\"0\": 0, \"1\": 1, \"2\": 2, \"3\": 3, \"4\": 4, \"5\": 5, \"6\": 6, \"7\": 7, \"8\": 8, \"9\": 9}[s]\n",
    "    return reduce(lambda x, y : 10 * x + y, map(charToNum, s))\n",
    "\n",
    "string = \"5487\"\n",
    "x = strToInt(string) + 10\n",
    "print(F\"x = {x}\")"
   ]
  },
  {
   "cell_type": "markdown",
   "id": "63632c67",
   "metadata": {},
   "source": [
    "## 11-12range()\n",
    "* range物件不需預先儲存所有序列範圍的數值 -> 可節省記憶體，增加效率\n",
    "* 每次迭代時，會記得上次呼叫的位置同時回傳下一個位置"
   ]
  },
  {
   "cell_type": "code",
   "execution_count": 7,
   "id": "222c105c",
   "metadata": {},
   "outputs": [
    {
     "name": "stdout",
     "output_type": "stream",
     "text": [
      "<class 'function'>\n",
      "0\n",
      "1\n",
      "2\n",
      "3\n",
      "4\n"
     ]
    }
   ],
   "source": [
    "# ch11-39-4\n",
    "# 使用 yield 關鍵字來回傳n值 -> generator(生成器)\n",
    "def myRange(start=0, stop=100, step=1):\n",
    "    n = start\n",
    "    while n < stop:\n",
    "        yield n\n",
    "        n += step\n",
    "        \n",
    "print(type(myRange))\n",
    "\n",
    "for x in myRange(0, 5):\n",
    "    print(x)"
   ]
  },
  {
   "cell_type": "markdown",
   "id": "9a4de91f",
   "metadata": {},
   "source": [
    "## 11-13Decorator(裝飾器)\n",
    "* 也是一種函數\n",
    "* 裝飾器會接收一個函數，並回傳另一個函數\n",
    "* 可用來偵錯 -> ch11-39-4\n",
    "* 一個函數可以有2個以上的裝飾器，在函數上方設定即可\n",
    "* 有多個裝飾器時，順序會由下往上執行 -> 裝飾器堆疊(decorator stacking)"
   ]
  },
  {
   "cell_type": "code",
   "execution_count": 8,
   "id": "511d451e",
   "metadata": {},
   "outputs": [
    {
     "name": "stdout",
     "output_type": "stream",
     "text": [
      "函數名稱: greeting\n",
      "函數參數: Hello! Van\n",
      "HELLO! VAN\n"
     ]
    }
   ],
   "source": [
    "# ch11-39-2 \n",
    "# 手動裝飾器\n",
    "def upper(func):  # Decorator\n",
    "    def newFunc(args):\n",
    "        old_result = func(args)\n",
    "        new_result = old_result.upper()\n",
    "        print(F\"函數名稱: {func.__name__}\")\n",
    "        print(F\"函數參數: {args}\")\n",
    "        return new_result\n",
    "    return newFunc\n",
    "\n",
    "def greeting(string):  # Greeting function\n",
    "    return string\n",
    "\n",
    "my_greeting = upper(greeting)\n",
    "print(my_greeting(\"Hello! Van\"))"
   ]
  },
  {
   "cell_type": "code",
   "execution_count": 10,
   "id": "6ffb21f6",
   "metadata": {},
   "outputs": [
    {
     "name": "stdout",
     "output_type": "stream",
     "text": [
      "函數名稱: greeting\n",
      "函數參數: Hello! Van\n",
      "HELLO! VAN\n"
     ]
    }
   ],
   "source": [
    "# ch11-39-3\n",
    "def upper(func):\n",
    "    def newFunc(args):\n",
    "        old_result = func(args)\n",
    "        new_result = old_result.upper()\n",
    "        print(F\"函數名稱: {func.__name__}\")\n",
    "        print(F\"函數參數: {args}\")\n",
    "        return new_result\n",
    "    return newFunc\n",
    "\n",
    "@upper\n",
    "def greeting(string):\n",
    "    return string\n",
    "\n",
    "print(greeting(\"Hello! Van\"))"
   ]
  },
  {
   "cell_type": "code",
   "execution_count": 11,
   "id": "cdecf194",
   "metadata": {},
   "outputs": [
    {
     "name": "stdout",
     "output_type": "stream",
     "text": [
      "函數名稱: mydiv\n",
      "函數參數: (6, 2)\n",
      "執行結果: 3.0\n",
      "3.0\n",
      "函數名稱: mydiv\n",
      "函數參數: (6, 0)\n",
      "執行結果: 除數不可為0\n",
      "除數不可為0\n"
     ]
    }
   ],
   "source": [
    "# ch11-39-4\n",
    "def errcheck(func):\n",
    "    def newFunc(*args):\n",
    "        if args[1] != 0:\n",
    "            result = func(*args)\n",
    "        else:\n",
    "            result = \"除數不可為0\"\n",
    "        \n",
    "        print(F\"函數名稱: {func.__name__}\")\n",
    "        print(F\"函數參數: {args}\")\n",
    "        print(F\"執行結果: {result}\")\n",
    "        return result\n",
    "    return newFunc\n",
    "\n",
    "@errcheck\n",
    "def mydiv(x, y):\n",
    "    return x / y\n",
    "\n",
    "print(mydiv(6, 2))\n",
    "print(mydiv(6, 0))"
   ]
  },
  {
   "cell_type": "code",
   "execution_count": null,
   "id": "25189f94",
   "metadata": {},
   "outputs": [],
   "source": []
  }
 ],
 "metadata": {
  "kernelspec": {
   "display_name": "Python 3",
   "language": "python",
   "name": "python3"
  },
  "language_info": {
   "codemirror_mode": {
    "name": "ipython",
    "version": 3
   },
   "file_extension": ".py",
   "mimetype": "text/x-python",
   "name": "python",
   "nbconvert_exporter": "python",
   "pygments_lexer": "ipython3",
   "version": "3.9.5"
  }
 },
 "nbformat": 4,
 "nbformat_minor": 5
}
