{
 "cells": [
  {
   "cell_type": "markdown",
   "id": "17de8cba",
   "metadata": {},
   "source": [
    "# Ch2 Python 基礎，IPython 和 Jupyter notebook"
   ]
  },
  {
   "cell_type": "markdown",
   "id": "947df0ac",
   "metadata": {},
   "source": [
    "## 2.2 IPython 基礎"
   ]
  },
  {
   "cell_type": "markdown",
   "id": "62296a7e",
   "metadata": {},
   "source": [
    "### 。內省\n",
    "* 物件內省(object introspection)\n",
    "* 可以顯示該物件的資訊\n",
    "* 用法:\n",
    "    * object? or object??\n",
    "    * 使用??會將函式原始碼盡可能顯示出來\n",
    "    * 若函式有定義docstring，則使用?後就會將docstring顯示出來\n",
    "    * 可以結合萬用字元(\\*)來對IPython空間進行搜尋，找到所有合乎條件的名稱"
   ]
  },
  {
   "cell_type": "code",
   "execution_count": 1,
   "id": "944739c6",
   "metadata": {},
   "outputs": [],
   "source": [
    "import numpy as np"
   ]
  },
  {
   "cell_type": "code",
   "execution_count": 1,
   "id": "b3c6b4e2",
   "metadata": {},
   "outputs": [],
   "source": [
    "b = [1,2,3]"
   ]
  },
  {
   "cell_type": "code",
   "execution_count": 2,
   "id": "c29222ae",
   "metadata": {},
   "outputs": [],
   "source": [
    "b?"
   ]
  },
  {
   "cell_type": "code",
   "execution_count": 3,
   "id": "8071b25e",
   "metadata": {},
   "outputs": [],
   "source": [
    "def add_numbers(a, b):\n",
    "    \"\"\"\n",
    "    Add two numbers together\n",
    "    \n",
    "    Returns\n",
    "    -------\n",
    "    the sum: type of arguments\n",
    "    \"\"\"\n",
    "    return a + b"
   ]
  },
  {
   "cell_type": "code",
   "execution_count": 4,
   "id": "4c89da0f",
   "metadata": {},
   "outputs": [],
   "source": [
    "add_numbers?"
   ]
  },
  {
   "cell_type": "code",
   "execution_count": 5,
   "id": "745d17a0",
   "metadata": {},
   "outputs": [],
   "source": [
    "add_numbers??"
   ]
  },
  {
   "cell_type": "code",
   "execution_count": 1,
   "id": "0ba0cdad",
   "metadata": {},
   "outputs": [],
   "source": [
    "import numpy as np\n",
    "np.*load*?  # 可以找到numpy內中名稱含有load的函式"
   ]
  },
  {
   "cell_type": "markdown",
   "id": "f165a55d",
   "metadata": {},
   "source": [
    "## 。 %run 命令\n",
    "* 可以執行程式碼檔案\n",
    "* %run python_file.py\n",
    "* 檔案中定義的所有變數(引入、函式、全域變數)之後皆可在IPython shell中存取"
   ]
  },
  {
   "cell_type": "markdown",
   "id": "e702f2aa",
   "metadata": {},
   "source": [
    "## 。 %load 命令\n",
    "* 可以將一個腳本載入到程式碼cell中"
   ]
  },
  {
   "cell_type": "markdown",
   "id": "f901ecd0",
   "metadata": {},
   "source": [
    "## 。 中斷執行程式\n",
    "* 任何城市執行中按下Ctrl + c就會觸發KeyboardInterrupt"
   ]
  },
  {
   "cell_type": "markdown",
   "id": "cab498d0",
   "metadata": {},
   "source": [
    "## 。 執行剪貼簿中的程式\n",
    "* %paste 會將剪貼簿中的任何文字視為單一程式碼區塊執行\n",
    "* %cpaste 功能與 %paste 類似，只是在貼上的程式碼前面會有提示字元"
   ]
  },
  {
   "cell_type": "markdown",
   "id": "6b5c7e61",
   "metadata": {},
   "source": [
    "## 。 Matplotlib整合\n",
    "* %matplotlib inline\n",
    "* 可以notebook內顯示圖形"
   ]
  },
  {
   "cell_type": "markdown",
   "id": "5564bd96",
   "metadata": {},
   "source": [
    "# Ch3 內建資料結構、函式與檔案"
   ]
  },
  {
   "cell_type": "markdown",
   "id": "d4621a36",
   "metadata": {},
   "source": [
    "## 3.1資料結構和檔案"
   ]
  },
  {
   "cell_type": "markdown",
   "id": "ddcbdebd",
   "metadata": {},
   "source": [
    "## 。Tuple\n",
    "* 是一個固定長度，immutable的物件序列\n",
    "* 建立方法: 將序列用逗號分隔在小括號中\n",
    "* tuple建立後就不能再更改\n",
    "* tuple()可將任何序列或迭代器轉化為tuple\n",
    "* 可用[]索引取得內部元素\n",
    "* 使用 + 運算子可將兩個tuple結合成一個更長的tuple\n",
    "* 若將 tuple 乘上一個整數，會將tuple內的元素重複若干遍\n",
    "    * 重複的物件是參照，並不是拷貝"
   ]
  },
  {
   "cell_type": "code",
   "execution_count": 3,
   "id": "256ac3d1",
   "metadata": {},
   "outputs": [],
   "source": [
    "tup = 4, 5, 6"
   ]
  },
  {
   "cell_type": "code",
   "execution_count": 4,
   "id": "8b895f78",
   "metadata": {},
   "outputs": [
    {
     "data": {
      "text/plain": [
       "(4, 5, 6)"
      ]
     },
     "execution_count": 4,
     "metadata": {},
     "output_type": "execute_result"
    }
   ],
   "source": [
    "tup"
   ]
  },
  {
   "cell_type": "code",
   "execution_count": 5,
   "id": "f6fda812",
   "metadata": {},
   "outputs": [
    {
     "data": {
      "text/plain": [
       "((4, 5, 6), (7, 8))"
      ]
     },
     "execution_count": 5,
     "metadata": {},
     "output_type": "execute_result"
    }
   ],
   "source": [
    "nested_tup = (4, 5, 6), (7, 8)\n",
    "nested_tup"
   ]
  },
  {
   "cell_type": "code",
   "execution_count": 6,
   "id": "bc6e2804",
   "metadata": {},
   "outputs": [
    {
     "data": {
      "text/plain": [
       "(4, 0, 2)"
      ]
     },
     "execution_count": 6,
     "metadata": {},
     "output_type": "execute_result"
    }
   ],
   "source": [
    "# tuple()可將任何序列或迭代器轉化為tuple\n",
    "tuple([4, 0, 2])"
   ]
  },
  {
   "cell_type": "code",
   "execution_count": 8,
   "id": "47b481ca",
   "metadata": {},
   "outputs": [
    {
     "data": {
      "text/plain": [
       "('s', 't', 'r', 'i', 'n', 'g')"
      ]
     },
     "execution_count": 8,
     "metadata": {},
     "output_type": "execute_result"
    }
   ],
   "source": [
    "tup = tuple(\"string\")\n",
    "tup"
   ]
  },
  {
   "cell_type": "code",
   "execution_count": 9,
   "id": "fcfbdf43",
   "metadata": {},
   "outputs": [
    {
     "data": {
      "text/plain": [
       "'s'"
      ]
     },
     "execution_count": 9,
     "metadata": {},
     "output_type": "execute_result"
    }
   ],
   "source": [
    "tup[0]"
   ]
  },
  {
   "cell_type": "code",
   "execution_count": 11,
   "id": "b4797f33",
   "metadata": {},
   "outputs": [
    {
     "data": {
      "text/plain": [
       "(4, None, 'foo', 6, 0, 'bar')"
      ]
     },
     "execution_count": 11,
     "metadata": {},
     "output_type": "execute_result"
    }
   ],
   "source": [
    "# 使用 + 運算子可將兩個tuple結合成一個更長的tuple\n",
    "(4, None, 'foo') + (6, 0) + ('bar',)"
   ]
  },
  {
   "cell_type": "code",
   "execution_count": 12,
   "id": "c46fbbc3",
   "metadata": {},
   "outputs": [
    {
     "data": {
      "text/plain": [
       "('foo', 'bar', 'foo', 'bar', 'foo', 'bar', 'foo', 'bar')"
      ]
     },
     "execution_count": 12,
     "metadata": {},
     "output_type": "execute_result"
    }
   ],
   "source": [
    "# 若將 tuple 乘上一個整數，會將tuple內的元素重複若干遍\n",
    "('foo', 'bar') * 4"
   ]
  },
  {
   "cell_type": "markdown",
   "id": "124846fa",
   "metadata": {},
   "source": [
    "## 。拆掉Tuple\n",
    "* 將tuple指定給一串排列如tuple的變數，python會將等號右邊的tuple拆分給那些變數\n",
    "* 使用時機:\n",
    "    * 對list所組成的tuple做迭代\n",
    "    * 多個值回傳"
   ]
  },
  {
   "cell_type": "code",
   "execution_count": 13,
   "id": "afcf4777",
   "metadata": {},
   "outputs": [
    {
     "data": {
      "text/plain": [
       "5"
      ]
     },
     "execution_count": 13,
     "metadata": {},
     "output_type": "execute_result"
    }
   ],
   "source": [
    "tup = (4, 5, 6)\n",
    "a, b, c = tup\n",
    "b"
   ]
  },
  {
   "cell_type": "code",
   "execution_count": 15,
   "id": "6b804c07",
   "metadata": {},
   "outputs": [
    {
     "data": {
      "text/plain": [
       "6"
      ]
     },
     "execution_count": 15,
     "metadata": {},
     "output_type": "execute_result"
    }
   ],
   "source": [
    "tup = 4, 5, (6, 7)\n",
    "a, b, (c, d) = tup\n",
    "c"
   ]
  },
  {
   "cell_type": "code",
   "execution_count": 17,
   "id": "8d2607c3",
   "metadata": {
    "scrolled": true
   },
   "outputs": [
    {
     "data": {
      "text/plain": [
       "(1, 2)"
      ]
     },
     "execution_count": 17,
     "metadata": {},
     "output_type": "execute_result"
    }
   ],
   "source": [
    "values = 1, 2, 3, 4, 5, 6\n",
    "a, b, *rest = values\n",
    "a, b"
   ]
  },
  {
   "cell_type": "code",
   "execution_count": 18,
   "id": "98ea52a9",
   "metadata": {},
   "outputs": [
    {
     "data": {
      "text/plain": [
       "[3, 4, 5, 6]"
      ]
     },
     "execution_count": 18,
     "metadata": {},
     "output_type": "execute_result"
    }
   ],
   "source": [
    "rest"
   ]
  },
  {
   "cell_type": "code",
   "execution_count": 16,
   "id": "77ef8f28",
   "metadata": {},
   "outputs": [
    {
     "name": "stdout",
     "output_type": "stream",
     "text": [
      "a = 1, b = 2, c = 3\n",
      "a = 4, b = 5, c = 6\n",
      "a = 7, b = 8, c = 9\n"
     ]
    }
   ],
   "source": [
    "seq = [(1, 2, 3), (4, 5, 6), (7, 8, 9)]\n",
    "\n",
    "for a, b, c in seq:\n",
    "    print(F\"a = {a}, b = {b}, c = {c}\")"
   ]
  },
  {
   "cell_type": "markdown",
   "id": "ad730445",
   "metadata": {},
   "source": [
    "## 。Tuple方法"
   ]
  },
  {
   "cell_type": "markdown",
   "id": "16531949",
   "metadata": {},
   "source": [
    "* count(element) -> 計算tuple內的element有幾個"
   ]
  },
  {
   "cell_type": "code",
   "execution_count": 19,
   "id": "0f5ea59e",
   "metadata": {},
   "outputs": [
    {
     "data": {
      "text/plain": [
       "3"
      ]
     },
     "execution_count": 19,
     "metadata": {},
     "output_type": "execute_result"
    }
   ],
   "source": [
    "a = (1, 2, 2, 2, 3, 4, 5)\n",
    "a.count(2)"
   ]
  },
  {
   "cell_type": "markdown",
   "id": "b288b501",
   "metadata": {},
   "source": [
    "## 。 List\n",
    "* 長度可變，內容也可變\n",
    "* 使用中括號[]來定義一個list\n",
    "* 常被用來實體化一個迭代器或是產生器\n",
    "* 在list中，Python使用線性方法掃過所有值 -> 速度較dict 與 set 慢許多"
   ]
  },
  {
   "cell_type": "code",
   "execution_count": 21,
   "id": "513e0a34",
   "metadata": {},
   "outputs": [
    {
     "name": "stdout",
     "output_type": "stream",
     "text": [
      "[2, 3, 7, None], type: <class 'list'>\n"
     ]
    }
   ],
   "source": [
    "a_list = [2, 3, 7, None]\n",
    "print(F\"{a_list}, type: {type(a_list)}\")"
   ]
  },
  {
   "cell_type": "code",
   "execution_count": 22,
   "id": "4b11b69b",
   "metadata": {},
   "outputs": [
    {
     "name": "stdout",
     "output_type": "stream",
     "text": [
      "[1, 2, 3, 4], type: <class 'list'>\n"
     ]
    }
   ],
   "source": [
    "tup  =(1, 2, 3, 4)\n",
    "b_list = list(tup)\n",
    "print(F\"{b_list}, type: {type(b_list)}\")"
   ]
  },
  {
   "cell_type": "code",
   "execution_count": 23,
   "id": "813a4653",
   "metadata": {},
   "outputs": [
    {
     "name": "stdout",
     "output_type": "stream",
     "text": [
      "[1, 'van', 3, 4], type: <class 'list'>\n"
     ]
    }
   ],
   "source": [
    "b_list[1] = \"van\"\n",
    "print(F\"{b_list}, type: {type(b_list)}\")"
   ]
  },
  {
   "cell_type": "code",
   "execution_count": 24,
   "id": "dda9db47",
   "metadata": {},
   "outputs": [
    {
     "data": {
      "text/plain": [
       "range(0, 10)"
      ]
     },
     "execution_count": 24,
     "metadata": {},
     "output_type": "execute_result"
    }
   ],
   "source": [
    "gen = range(10)\n",
    "gen"
   ]
  },
  {
   "cell_type": "code",
   "execution_count": 25,
   "id": "a2fb833a",
   "metadata": {},
   "outputs": [
    {
     "data": {
      "text/plain": [
       "[0, 1, 2, 3, 4, 5, 6, 7, 8, 9]"
      ]
     },
     "execution_count": 25,
     "metadata": {},
     "output_type": "execute_result"
    }
   ],
   "source": [
    "list(gen)"
   ]
  },
  {
   "cell_type": "markdown",
   "id": "1d0cfd55",
   "metadata": {},
   "source": [
    "## 。加入或移除元素\n"
   ]
  },
  {
   "cell_type": "markdown",
   "id": "76a83901",
   "metadata": {},
   "source": [
    "* append(element) -> 可將element加入list尾端"
   ]
  },
  {
   "cell_type": "code",
   "execution_count": 26,
   "id": "9df2aa4a",
   "metadata": {},
   "outputs": [
    {
     "data": {
      "text/plain": [
       "[1, 'van', 3, 4, 'AA']"
      ]
     },
     "execution_count": 26,
     "metadata": {},
     "output_type": "execute_result"
    }
   ],
   "source": [
    "b_list.append(\"AA\")\n",
    "b_list"
   ]
  },
  {
   "cell_type": "markdown",
   "id": "d2946a67",
   "metadata": {},
   "source": [
    "* insert(index, element) -> 可將element插入list內，位置為index的地方\n",
    "* 0 <= index <= list長度\n",
    "* insert的計算量比append高得多(須將後方元素參照位移到更後面)，若需要將元素插入到最前或最後 -> 使用collections.deque -> 雙向串列"
   ]
  },
  {
   "cell_type": "code",
   "execution_count": 27,
   "id": "4c05de7d",
   "metadata": {},
   "outputs": [],
   "source": [
    "b_list.insert(1, \"BB\")"
   ]
  },
  {
   "cell_type": "code",
   "execution_count": 28,
   "id": "de14adc4",
   "metadata": {},
   "outputs": [
    {
     "data": {
      "text/plain": [
       "[1, 'BB', 'van', 3, 4, 'AA']"
      ]
     },
     "execution_count": 28,
     "metadata": {},
     "output_type": "execute_result"
    }
   ],
   "source": [
    "b_list"
   ]
  },
  {
   "cell_type": "markdown",
   "id": "6451a9f6",
   "metadata": {},
   "source": [
    "* pop(index) -> 移除index的元素並回傳它"
   ]
  },
  {
   "cell_type": "code",
   "execution_count": 29,
   "id": "50e16289",
   "metadata": {},
   "outputs": [
    {
     "data": {
      "text/plain": [
       "'van'"
      ]
     },
     "execution_count": 29,
     "metadata": {},
     "output_type": "execute_result"
    }
   ],
   "source": [
    "b_list.pop(2)"
   ]
  },
  {
   "cell_type": "code",
   "execution_count": 30,
   "id": "6afaf0e3",
   "metadata": {},
   "outputs": [
    {
     "data": {
      "text/plain": [
       "[1, 'BB', 3, 4, 'AA']"
      ]
     },
     "execution_count": 30,
     "metadata": {},
     "output_type": "execute_result"
    }
   ],
   "source": [
    "b_list"
   ]
  },
  {
   "cell_type": "markdown",
   "id": "be2a6979",
   "metadata": {},
   "source": [
    "* remove(element) -> 刪除第一個匹配的元素"
   ]
  },
  {
   "cell_type": "code",
   "execution_count": 31,
   "id": "bdc3b1f6",
   "metadata": {},
   "outputs": [
    {
     "data": {
      "text/plain": [
       "[1, 'BB', 3, 4, 'AA', 'BB']"
      ]
     },
     "execution_count": 31,
     "metadata": {},
     "output_type": "execute_result"
    }
   ],
   "source": [
    "b_list.append(\"BB\")\n",
    "b_list"
   ]
  },
  {
   "cell_type": "code",
   "execution_count": 32,
   "id": "5f2509dc",
   "metadata": {},
   "outputs": [
    {
     "data": {
      "text/plain": [
       "[1, 3, 4, 'AA', 'BB']"
      ]
     },
     "execution_count": 32,
     "metadata": {},
     "output_type": "execute_result"
    }
   ],
   "source": [
    "b_list.remove(\"BB\")\n",
    "b_list"
   ]
  },
  {
   "cell_type": "markdown",
   "id": "6979b87c",
   "metadata": {},
   "source": [
    "* 使用 + 將兩個list相加在一起"
   ]
  },
  {
   "cell_type": "code",
   "execution_count": 33,
   "id": "4deeb1e3",
   "metadata": {},
   "outputs": [
    {
     "data": {
      "text/plain": [
       "[4, None, 'foo', 7, 8, (2, 3)]"
      ]
     },
     "execution_count": 33,
     "metadata": {},
     "output_type": "execute_result"
    }
   ],
   "source": [
    "[4, None, \"foo\"] + [7, 8, (2, 3)]"
   ]
  },
  {
   "cell_type": "markdown",
   "id": "40a2fce9",
   "metadata": {},
   "source": [
    "* 使用 extend()方法一次加入多個元素"
   ]
  },
  {
   "cell_type": "code",
   "execution_count": 34,
   "id": "b0a4a0c7",
   "metadata": {},
   "outputs": [
    {
     "data": {
      "text/plain": [
       "[4, None, 'foo']"
      ]
     },
     "execution_count": 34,
     "metadata": {},
     "output_type": "execute_result"
    }
   ],
   "source": [
    "x = [4, None, \"foo\"]\n",
    "x"
   ]
  },
  {
   "cell_type": "code",
   "execution_count": 35,
   "id": "e670c155",
   "metadata": {},
   "outputs": [],
   "source": [
    "x.extend([7, 8, (2, 3)])"
   ]
  },
  {
   "cell_type": "code",
   "execution_count": 36,
   "id": "bd73e26e",
   "metadata": {},
   "outputs": [
    {
     "data": {
      "text/plain": [
       "[4, None, 'foo', 7, 8, (2, 3)]"
      ]
     },
     "execution_count": 36,
     "metadata": {},
     "output_type": "execute_result"
    }
   ],
   "source": [
    "x"
   ]
  },
  {
   "cell_type": "markdown",
   "id": "eddb7c64",
   "metadata": {},
   "source": [
    "* 使用 + 時會開一個新的list，並將要合併的list全部複製過去 -> 運算成本高\n",
    "* 利用extend() -> 推薦"
   ]
  },
  {
   "cell_type": "markdown",
   "id": "5cccf360",
   "metadata": {},
   "source": [
    "## 。排序"
   ]
  },
  {
   "cell_type": "markdown",
   "id": "4f50bdc6",
   "metadata": {},
   "source": [
    "* list.sort(key) -> 直接對原list進行排序(in-place: 原地的)，可以指定排序鍵值(sort key) -> 排序的依據"
   ]
  },
  {
   "cell_type": "code",
   "execution_count": 37,
   "id": "494a24ee",
   "metadata": {},
   "outputs": [
    {
     "data": {
      "text/plain": [
       "['He', 'saw', 'six', 'small', 'Foxes']"
      ]
     },
     "execution_count": 37,
     "metadata": {},
     "output_type": "execute_result"
    }
   ],
   "source": [
    "b = ['saw', 'small', 'He', 'Foxes', 'six']\n",
    "b.sort(key=len)\n",
    "b"
   ]
  },
  {
   "cell_type": "markdown",
   "id": "382040ed",
   "metadata": {},
   "source": [
    "## 。二元搜尋以及維護已排序list"
   ]
  },
  {
   "cell_type": "markdown",
   "id": "a882a7ce",
   "metadata": {},
   "source": [
    "* 內建 bisect 模組可以對已排序list進行二元搜尋及插入\n",
    "* bisect.bisect(list, value) -> 用來找到元素應插入的位置並不破壞原有順序 -> 只回傳數值不插入\n",
    "* bisect.insort(list, value) -> 用來實際插入元素到該位置的動作 -> 會將元素插入到物件裡\n",
    "* 由於檢查list是否已排序的成本太過昂貴，因此bisect<font color = red>並不會檢查list是否已排序</font> -> 使用未排序的list會導致得到錯誤的結果"
   ]
  },
  {
   "cell_type": "code",
   "execution_count": 38,
   "id": "56d39d37",
   "metadata": {},
   "outputs": [],
   "source": [
    "import bisect\n",
    "c = [1, 2, 2, 2, 3, 4, 7]"
   ]
  },
  {
   "cell_type": "code",
   "execution_count": 42,
   "id": "0fb1f14b",
   "metadata": {},
   "outputs": [
    {
     "name": "stdout",
     "output_type": "stream",
     "text": [
      "The index of element should be inserted: 4, the list: [1, 2, 2, 2, 3, 4, 7]\n"
     ]
    }
   ],
   "source": [
    "bisect.bisect(c, 2)  # 只回傳元素該插入的index\n",
    "print(F\"The index of element should be inserted: {bisect.bisect(c, 2)}, the list: {c}\")"
   ]
  },
  {
   "cell_type": "code",
   "execution_count": 43,
   "id": "ab5e4314",
   "metadata": {},
   "outputs": [
    {
     "name": "stdout",
     "output_type": "stream",
     "text": [
      "The index of element should be inserted: 6, the list: [1, 2, 2, 2, 3, 4, 7]\n"
     ]
    }
   ],
   "source": [
    "print(F\"The index of element should be inserted: {bisect.bisect(c, 6)}, the list: {c}\")"
   ]
  },
  {
   "cell_type": "code",
   "execution_count": 44,
   "id": "d4f77f72",
   "metadata": {},
   "outputs": [
    {
     "name": "stdout",
     "output_type": "stream",
     "text": [
      "The index of element should be inserted: None, the list: [1, 2, 2, 2, 3, 4, 6, 7]\n"
     ]
    }
   ],
   "source": [
    "# bisect.insort(list, value) -> 回傳None, 並將value實際插入到list內\n",
    "print(F\"The index of element should be inserted: {bisect.insort(c, 6)}, the list: {c}\")"
   ]
  },
  {
   "cell_type": "markdown",
   "id": "55787b91",
   "metadata": {},
   "source": [
    "## 。切片\n"
   ]
  },
  {
   "cell_type": "markdown",
   "id": "090792e2",
   "metadata": {},
   "source": [
    "* list[start: end: step]:  \n",
    "    * start: 起始值:  \n",
    "        * 從起始值開始切片\n",
    "        * 不寫 -> 從頭開始\n",
    "    * end: 結尾值:  \n",
    "        * 到結尾值-1停止\n",
    "        * 不寫 -> 到序列結尾\n",
    "    * step: 步進值:  \n",
    "        * 每隔幾步取值\n",
    "        * 不寫 -> 預設為1\n",
    "        * -1 -> 可將序列反轉"
   ]
  },
  {
   "cell_type": "code",
   "execution_count": 47,
   "id": "78f25319",
   "metadata": {},
   "outputs": [
    {
     "data": {
      "text/plain": [
       "[2, 3, 4, 5]"
      ]
     },
     "execution_count": 47,
     "metadata": {},
     "output_type": "execute_result"
    }
   ],
   "source": [
    "seq = [1,2,3,4,5,6,7,8,9]\n",
    "seq[1:5]"
   ]
  },
  {
   "cell_type": "code",
   "execution_count": 48,
   "id": "7cd0530b",
   "metadata": {},
   "outputs": [
    {
     "data": {
      "text/plain": [
       "[1, 2, 3]"
      ]
     },
     "execution_count": 48,
     "metadata": {},
     "output_type": "execute_result"
    }
   ],
   "source": [
    "seq[: 3]"
   ]
  },
  {
   "cell_type": "code",
   "execution_count": 49,
   "id": "2b51cc1f",
   "metadata": {},
   "outputs": [
    {
     "data": {
      "text/plain": [
       "[3, 4, 5, 6, 7, 8, 9]"
      ]
     },
     "execution_count": 49,
     "metadata": {},
     "output_type": "execute_result"
    }
   ],
   "source": [
    "seq[2: ]"
   ]
  },
  {
   "cell_type": "markdown",
   "id": "d9acee86",
   "metadata": {},
   "source": [
    "* 序列給值"
   ]
  },
  {
   "cell_type": "code",
   "execution_count": 46,
   "id": "d4611bf4",
   "metadata": {},
   "outputs": [
    {
     "data": {
      "text/plain": [
       "[1, 2, 3, 'a', 'b', 5, 6, 7, 8, 9]"
      ]
     },
     "execution_count": 46,
     "metadata": {},
     "output_type": "execute_result"
    }
   ],
   "source": [
    "seq[3:4] = ['a', 'b']\n",
    "seq"
   ]
  },
  {
   "cell_type": "markdown",
   "id": "7c838860",
   "metadata": {},
   "source": [
    "* 負值索引 -> 從尾端開始算，倒數第一個元素索引為-1，倒數第二個元素索引為-2"
   ]
  },
  {
   "cell_type": "code",
   "execution_count": 50,
   "id": "266eca85",
   "metadata": {},
   "outputs": [
    {
     "data": {
      "text/plain": [
       "9"
      ]
     },
     "execution_count": 50,
     "metadata": {},
     "output_type": "execute_result"
    }
   ],
   "source": [
    "seq[-1]"
   ]
  },
  {
   "cell_type": "code",
   "execution_count": 51,
   "id": "6ae61704",
   "metadata": {},
   "outputs": [
    {
     "data": {
      "text/plain": [
       "[6, 7, 8]"
      ]
     },
     "execution_count": 51,
     "metadata": {},
     "output_type": "execute_result"
    }
   ],
   "source": [
    "seq[-4: -1]"
   ]
  },
  {
   "cell_type": "code",
   "execution_count": 52,
   "id": "49e97081",
   "metadata": {},
   "outputs": [
    {
     "data": {
      "text/plain": [
       "[4, 5, 6, 7, 8, 9]"
      ]
     },
     "execution_count": 52,
     "metadata": {},
     "output_type": "execute_result"
    }
   ],
   "source": [
    "seq[-6: ]"
   ]
  },
  {
   "cell_type": "code",
   "execution_count": 53,
   "id": "2fb636c2",
   "metadata": {},
   "outputs": [
    {
     "data": {
      "text/plain": [
       "[1, 3, 5, 7, 9]"
      ]
     },
     "execution_count": 53,
     "metadata": {},
     "output_type": "execute_result"
    }
   ],
   "source": [
    "seq[::2]"
   ]
  },
  {
   "cell_type": "code",
   "execution_count": 55,
   "id": "4dd32af0",
   "metadata": {},
   "outputs": [
    {
     "name": "stdout",
     "output_type": "stream",
     "text": [
      "seq: [1, 2, 3, 4, 5, 6, 7, 8, 9], seq[-1]: [9, 8, 7, 6, 5, 4, 3, 2, 1]\n"
     ]
    }
   ],
   "source": [
    "print(F\"seq: {seq}, seq[-1]: {seq[::-1]}\")"
   ]
  },
  {
   "cell_type": "markdown",
   "id": "d0e90652",
   "metadata": {},
   "source": [
    "## 。內建序列函式"
   ]
  },
  {
   "cell_type": "markdown",
   "id": "eb65a903",
   "metadata": {},
   "source": [
    "###  。enumrate\n",
    "* 回傳(index, value) -> 回傳元素為value的索引index"
   ]
  },
  {
   "cell_type": "code",
   "execution_count": 57,
   "id": "be1b1e10",
   "metadata": {},
   "outputs": [
    {
     "name": "stdout",
     "output_type": "stream",
     "text": [
      "index: 0, value: foo\n",
      "index: 1, value: van\n",
      "index: 2, value: kevin\n"
     ]
    },
    {
     "data": {
      "text/plain": [
       "{'foo': 0, 'van': 1, 'kevin': 2}"
      ]
     },
     "execution_count": 57,
     "metadata": {},
     "output_type": "execute_result"
    }
   ],
   "source": [
    "some_list = ['foo', 'van', 'kevin']\n",
    "mapping = {}\n",
    "for index, value in enumerate(some_list):\n",
    "    mapping[value] = index\n",
    "    print(F\"index: {index}, value: {value}\")\n",
    "\n",
    "mapping"
   ]
  },
  {
   "cell_type": "markdown",
   "id": "2baba41e",
   "metadata": {},
   "source": [
    "### 。sorted\n",
    "* 將序列排序後，回傳一個新序列\n",
    "* 處理方式與list一樣"
   ]
  },
  {
   "cell_type": "code",
   "execution_count": 59,
   "id": "2e51cd25",
   "metadata": {},
   "outputs": [
    {
     "data": {
      "text/plain": [
       "[1, 2, 3, 4, 5, 5, 5, 8, 98, 531]"
      ]
     },
     "execution_count": 59,
     "metadata": {},
     "output_type": "execute_result"
    }
   ],
   "source": [
    "a_list = [2,4,8,3,1,5,98,5,531,5]\n",
    "b_list = sorted(a_list)\n",
    "b_list"
   ]
  },
  {
   "cell_type": "code",
   "execution_count": 63,
   "id": "679faa8c",
   "metadata": {},
   "outputs": [
    {
     "data": {
      "text/plain": [
       "[' ',\n",
       " ' ',\n",
       " ' ',\n",
       " ',',\n",
       " '?',\n",
       " 'H',\n",
       " 'a',\n",
       " 'e',\n",
       " 'h',\n",
       " 'i',\n",
       " 'o',\n",
       " 'o',\n",
       " 'r',\n",
       " 'u',\n",
       " 'w',\n",
       " 'y']"
      ]
     },
     "execution_count": 63,
     "metadata": {},
     "output_type": "execute_result"
    }
   ],
   "source": [
    "sort_str_list = sorted('Hi, how are you?')\n",
    "sort_str_list"
   ]
  },
  {
   "cell_type": "markdown",
   "id": "a42fd592",
   "metadata": {},
   "source": [
    "### 。zip\n",
    "* 可將list、tuple或其他序列的元素配對，並建立一個新的物件\n",
    "    * 須利用生成器(list(), tuple(), set(), dict())將zip所傳回的物件產生出來"
   ]
  },
  {
   "cell_type": "code",
   "execution_count": 74,
   "id": "a46c38d7",
   "metadata": {},
   "outputs": [
    {
     "name": "stdout",
     "output_type": "stream",
     "text": [
      "<zip object at 0x000002425512AF40>\n",
      "list: [('foo', 'aaa'), ('van', 'ccd'), ('sss', 'asd')], \n",
      "tuple: (('foo', 'aaa'), ('van', 'ccd'), ('sss', 'asd')), \n",
      "set: {('foo', 'aaa'), ('van', 'ccd'), ('sss', 'asd')}, \n",
      "dict: {'foo': 'aaa', 'van': 'ccd', 'sss': 'asd'}\n"
     ]
    }
   ],
   "source": [
    "seq1 = ['foo', 'van', 'sss']\n",
    "seq2 = ['aaa', 'ccd', 'asd']\n",
    "zipped = zip(seq1, seq2)\n",
    "print(zipped)\n",
    "print(F\"list: {list(zipped)}, \\ntuple: {tuple(zip(seq1, seq2))}, \\nset: {set(zip(seq1, seq2))}, \\ndict: {dict(zip(seq1, seq2))}\" )"
   ]
  },
  {
   "cell_type": "markdown",
   "id": "227e17c8",
   "metadata": {},
   "source": [
    "* 可接受任意數量的序列物件，並以<font color=yellow>最短的序列物件</font>決定產生的長度"
   ]
  },
  {
   "cell_type": "code",
   "execution_count": 75,
   "id": "4a4f99b8",
   "metadata": {},
   "outputs": [
    {
     "data": {
      "text/plain": [
       "[('foo', 'aaa', 'k'), ('van', 'ccd', 'e')]"
      ]
     },
     "execution_count": 75,
     "metadata": {},
     "output_type": "execute_result"
    }
   ],
   "source": [
    "seq3 = ['k', 'e']\n",
    "zipped = zip(seq1, seq2, seq3)\n",
    "list(zipped)"
   ]
  },
  {
   "cell_type": "markdown",
   "id": "93d23d7d",
   "metadata": {},
   "source": [
    "* 可用來<font color=yellow>解包序列</font> -> 類似列轉為行"
   ]
  },
  {
   "cell_type": "code",
   "execution_count": 77,
   "id": "2c62dd84",
   "metadata": {},
   "outputs": [
    {
     "name": "stdout",
     "output_type": "stream",
     "text": [
      "first: ('van', 'aa', 'aaaa'), second: ('kevin', 'bb', 'cccc')\n"
     ]
    }
   ],
   "source": [
    "pic = [('van', 'kevin'), ('aa', 'bb'), ('aaaa', 'cccc')]\n",
    "first, second = zip(*pic)\n",
    "print(F\"first: {first}, second: {second}\")"
   ]
  },
  {
   "cell_type": "markdown",
   "id": "8236dd67",
   "metadata": {},
   "source": [
    "### 。reversed\n",
    "* 可將序列做反向迭代"
   ]
  },
  {
   "cell_type": "code",
   "execution_count": 79,
   "id": "1c1800a7",
   "metadata": {},
   "outputs": [
    {
     "data": {
      "text/plain": [
       "[9, 8, 7, 6, 5, 4, 3, 2, 1, 0]"
      ]
     },
     "execution_count": 79,
     "metadata": {},
     "output_type": "execute_result"
    }
   ],
   "source": [
    "list(reversed(range(10)))"
   ]
  },
  {
   "cell_type": "markdown",
   "id": "677a19a0",
   "metadata": {},
   "source": [
    "## 。dict"
   ]
  },
  {
   "cell_type": "markdown",
   "id": "6e337551",
   "metadata": {},
   "source": [
    "* 可以儲存任意大小的鍵值對(key-value pair)\n",
    "* {key: value}"
   ]
  },
  {
   "cell_type": "code",
   "execution_count": 98,
   "id": "61114ec1",
   "metadata": {},
   "outputs": [
    {
     "name": "stdout",
     "output_type": "stream",
     "text": [
      "{'a': 'first', 'b': 'second', 'c': [1, 2, 3, 4]}, type: <class 'dict'>\n"
     ]
    }
   ],
   "source": [
    "d1 = {'a': 'first', 'b': 'second', 'c': [1,2,3,4]}\n",
    "print(F\"{d1}, type: {type(d1)}\")"
   ]
  },
  {
   "cell_type": "markdown",
   "id": "9e24610d",
   "metadata": {},
   "source": [
    "* 存取方式與list、tuple相同"
   ]
  },
  {
   "cell_type": "code",
   "execution_count": 99,
   "id": "17580c2a",
   "metadata": {},
   "outputs": [
    {
     "data": {
      "text/plain": [
       "{'a': 'first', 'b': 'second', 'c': [1, 2, 3, 4], 'd': (5, 5, 5)}"
      ]
     },
     "execution_count": 99,
     "metadata": {},
     "output_type": "execute_result"
    }
   ],
   "source": [
    "d1['d'] = (5,5,5)\n",
    "d1"
   ]
  },
  {
   "cell_type": "markdown",
   "id": "c23fd0ef",
   "metadata": {},
   "source": [
    "* 檢查方式與list、tuple相同"
   ]
  },
  {
   "cell_type": "code",
   "execution_count": 100,
   "id": "c423d36f",
   "metadata": {},
   "outputs": [
    {
     "name": "stdout",
     "output_type": "stream",
     "text": [
      "False, True\n"
     ]
    }
   ],
   "source": [
    "print(F\"{1 in d1}, {'c' in d1}\")"
   ]
  },
  {
   "cell_type": "markdown",
   "id": "42f514c3",
   "metadata": {},
   "source": [
    "* 刪除值(與list, tuple相同):\n",
    "    * del dict[index] -> 不會回傳被刪除的值\n",
    "    * pop dict[index] -> 會回傳被刪除的值"
   ]
  },
  {
   "cell_type": "code",
   "execution_count": 101,
   "id": "0b987b7d",
   "metadata": {},
   "outputs": [
    {
     "data": {
      "text/plain": [
       "{'a': 'first', 'b': 'second', 'c': [1, 2, 3, 4], 'd': (5, 5, 5)}"
      ]
     },
     "execution_count": 101,
     "metadata": {},
     "output_type": "execute_result"
    }
   ],
   "source": [
    "d1"
   ]
  },
  {
   "cell_type": "code",
   "execution_count": 102,
   "id": "656c73c4",
   "metadata": {},
   "outputs": [
    {
     "data": {
      "text/plain": [
       "{'b': 'second', 'c': [1, 2, 3, 4], 'd': (5, 5, 5)}"
      ]
     },
     "execution_count": 102,
     "metadata": {},
     "output_type": "execute_result"
    }
   ],
   "source": [
    "del d1['a']\n",
    "d1"
   ]
  },
  {
   "cell_type": "code",
   "execution_count": 103,
   "id": "12baca60",
   "metadata": {},
   "outputs": [
    {
     "name": "stdout",
     "output_type": "stream",
     "text": [
      "a: [1, 2, 3, 4], d1: {'b': 'second', 'd': (5, 5, 5)}\n"
     ]
    }
   ],
   "source": [
    "a = d1.pop('c')\n",
    "print(F\"a: {a}, d1: {d1}\")"
   ]
  },
  {
   "cell_type": "markdown",
   "id": "bcb895be",
   "metadata": {},
   "source": [
    "* dict.keys() -> 取回dict的所有key\n",
    "* dict.values() -> 取回dict的所有value"
   ]
  },
  {
   "cell_type": "code",
   "execution_count": 105,
   "id": "c46b74fe",
   "metadata": {},
   "outputs": [
    {
     "data": {
      "text/plain": [
       "['b', 'd']"
      ]
     },
     "execution_count": 105,
     "metadata": {},
     "output_type": "execute_result"
    }
   ],
   "source": [
    "list(d1.keys())"
   ]
  },
  {
   "cell_type": "code",
   "execution_count": 106,
   "id": "16142748",
   "metadata": {},
   "outputs": [
    {
     "data": {
      "text/plain": [
       "['second', (5, 5, 5)]"
      ]
     },
     "execution_count": 106,
     "metadata": {},
     "output_type": "execute_result"
    }
   ],
   "source": [
    "list(d1.values())"
   ]
  },
  {
   "cell_type": "markdown",
   "id": "010bd30e",
   "metadata": {},
   "source": [
    "### 。 get方法"
   ]
  },
  {
   "cell_type": "markdown",
   "id": "8784b8c7",
   "metadata": {},
   "source": [
    "* value = dict.get(key, default_value):\n",
    "    * key在dict裡 -> 回傳對應key的value(= 回傳dict[key])\n",
    "    * key不在dict裡 -> 回傳defalut_value\n",
    "    * default_value 預設是 None"
   ]
  },
  {
   "cell_type": "code",
   "execution_count": 110,
   "id": "358f77e0",
   "metadata": {},
   "outputs": [
    {
     "name": "stdout",
     "output_type": "stream",
     "text": [
      "1\n",
      "e not in dict\n",
      "None\n"
     ]
    }
   ],
   "source": [
    "d1 = {'a': 1, 'b': 2, 'c': 3, 'd': 4}\n",
    "value = d1.get('a', \"a not in dict\")\n",
    "print(value)\n",
    "value2 = d1.get('e', \"e not in dict\")\n",
    "print(value2)\n",
    "value3 = d1.get('ff')\n",
    "print(value3)"
   ]
  },
  {
   "cell_type": "markdown",
   "id": "340b7bd4",
   "metadata": {},
   "source": [
    "### 。setdefault方法\n",
    "* dict.setdefault(key, default=None):\n",
    "    * key存在於dict時，回傳dict[key]\n",
    "    * key不存在於dict時， 回傳defalut"
   ]
  },
  {
   "cell_type": "code",
   "execution_count": 116,
   "id": "70e8264e",
   "metadata": {},
   "outputs": [
    {
     "name": "stdout",
     "output_type": "stream",
     "text": [
      "by_first_letter: {'a': ['apple', 'abandon', 'another'], 'c': ['cat'], 'd': ['dog', 'default', 'decrease']},\n",
      "by_first_letter2: {'a': ['apple', 'abandon', 'another'], 'c': ['cat'], 'd': ['dog', 'default', 'decrease']}\n"
     ]
    }
   ],
   "source": [
    "words = ['apple', 'abandon', 'another', 'cat', 'dog', 'default', 'decrease']\n",
    "by_first_letter = {}\n",
    "by_first_letter2 = {}\n",
    "\n",
    "# 不使用setdefault方法\n",
    "for word in words:\n",
    "    letter = word[0]\n",
    "    if letter in by_first_letter:\n",
    "        by_first_letter[letter].append(word)\n",
    "    else:\n",
    "        by_first_letter[letter] = [word]\n",
    "        \n",
    "# 使用setdeaulte方法\n",
    "for word in words:\n",
    "    letter = word[0]\n",
    "    by_first_letter2.setdefault(letter, []).append(word)\n",
    "print(F\"by_first_letter: {by_first_letter},\\nby_first_letter2: {by_first_letter2}\")"
   ]
  },
  {
   "cell_type": "markdown",
   "id": "70d828df",
   "metadata": {},
   "source": [
    "* 使用defalutdict類別"
   ]
  },
  {
   "cell_type": "code",
   "execution_count": 118,
   "id": "0ee312c8",
   "metadata": {},
   "outputs": [
    {
     "name": "stdout",
     "output_type": "stream",
     "text": [
      "defaultdict(<class 'list'>, {})\n",
      "defaultdict(<class 'list'>, {'a': ['apple', 'abandon', 'another'], 'c': ['cat'], 'd': ['dog', 'default', 'decrease']})\n"
     ]
    }
   ],
   "source": [
    "from collections import defaultdict\n",
    "by_letter3 = defaultdict(list)\n",
    "print(by_letter3)\n",
    "\n",
    "for word in words:\n",
    "    by_letter3[word[0]].append(word)\n",
    "    \n",
    "print(by_letter3)"
   ]
  },
  {
   "cell_type": "markdown",
   "id": "13b4887b",
   "metadata": {},
   "source": [
    "### dict的合法key型態\n",
    "* key -> 須為immutable物件 -> 具有hash能力(hashability)"
   ]
  },
  {
   "cell_type": "markdown",
   "id": "c919383c",
   "metadata": {},
   "source": [
    "## 。set"
   ]
  },
  {
   "cell_type": "markdown",
   "id": "9d3495b7",
   "metadata": {},
   "source": [
    "* 是一個無序不重複的集合\n",
    "* set{}\n",
    "* 內容必須為immutable"
   ]
  },
  {
   "cell_type": "code",
   "execution_count": 119,
   "id": "65d0de9b",
   "metadata": {},
   "outputs": [
    {
     "data": {
      "text/plain": [
       "{1, 2, 3, 4, 5, 6, 7, 8, 9}"
      ]
     },
     "execution_count": 119,
     "metadata": {},
     "output_type": "execute_result"
    }
   ],
   "source": [
    "set([1,1,2,3,4,4,4,4,4,5,6,7,8,9])"
   ]
  },
  {
   "cell_type": "markdown",
   "id": "9e665176",
   "metadata": {},
   "source": [
    "* set支持數學中的集合運算:"
   ]
  },
  {
   "cell_type": "markdown",
   "id": "dc44721c",
   "metadata": {},
   "source": [
    "|函式|等效語法|描述|\n",
    "|::|::|::|\n",
    "|a.add()|N/A|將元素x加入集合a|\n",
    "|a.clear()|N/A|將集合a清空|\n",
    "|a.remove(x)|N/A|把元素x從a中移除|\n",
    "|a.pop()|N/A|從a中移除隨機元素，若a為空集合則拋出例外KeyError|\n",
    "|a.union(b)|a \\| b|a與b的聯集(a、b中的不重複元素)|\n",
    "|a.update(b)|a \\|= b|指定集合a的內容為a與b的聯集|\n",
    "|a.intersection(b)|a & b|集合a與b中同時存在的元素(a、b的交集)|\n",
    "|a.intersection_update(b)|a &= b|指定集合a的內容為a、b的交集|\n",
    "|a.difference(b)|a - b|在集合a內但不在b內的元素|\n",
    "|a.difference_update(b)|a -= b|將集合a的內容指定為在集合a內但不在b內的元素|\n",
    "|a.symmetric_difference(b)|a ^ b|在集合a、b內的所有元素，且不能夠<font color=yellow>同時存在</font>|\n",
    "|a.symmetric_difference_update(b)|a ^= b|將集合a指定為集合a、b內的所有元素，且不能夠<font color=yellow>同時存在</font>|\n",
    "|a.issubset(b)|N/A|如果集合a的所有元素都包含在b中，回傳True|\n",
    "|a.issuperset(b)|N/A|如果集合a的所有元素都被包含在b中，回傳True|\n",
    "|a.isdisjoint(b)|N/A|如果集合a、b沒有重複的元素，回傳True|"
   ]
  },
  {
   "cell_type": "markdown",
   "id": "3ce45cf7",
   "metadata": {},
   "source": [
    "## 。List, Set 及Dict的包含式"
   ]
  },
  {
   "cell_type": "markdown",
   "id": "a6aa9952",
   "metadata": {},
   "source": [
    "* 包含式:\n",
    "    * 使用精簡的語法即可從一個序列中取出想要的元素，並轉變為新的collection\n",
    "    * [express for value in collection if condition] -> list\n",
    "    * {express for value in collection if condition} -> set\n",
    "    * {key: value for value in collection if condition} -> dict"
   ]
  },
  {
   "cell_type": "markdown",
   "id": "eaef0c77",
   "metadata": {},
   "source": [
    "[express for value in collection if condition] 等同於:\n",
    "<br><br>result = []\n",
    "<br><br>for val in collection:  \n",
    "<br>&emsp;if condition:  \n",
    "<br>&emsp;&emsp;result.append(expr)"
   ]
  },
  {
   "cell_type": "code",
   "execution_count": 1,
   "id": "135cefef",
   "metadata": {},
   "outputs": [
    {
     "data": {
      "text/plain": [
       "['BAT', 'CAR', 'DOVE', 'PYTHON']"
      ]
     },
     "execution_count": 1,
     "metadata": {},
     "output_type": "execute_result"
    }
   ],
   "source": [
    "strings = ['a', 'as', 'bat', 'car', 'dove', 'python']\n",
    "[x.upper() for x in strings if len(x) > 2]"
   ]
  },
  {
   "cell_type": "code",
   "execution_count": 3,
   "id": "54408c94",
   "metadata": {},
   "outputs": [
    {
     "data": {
      "text/plain": [
       "{1, 2, 3, 4, 6}"
      ]
     },
     "execution_count": 3,
     "metadata": {},
     "output_type": "execute_result"
    }
   ],
   "source": [
    "# 找出strings內所有元素的長度\n",
    "unique_lengths = {len(x) for x in strings}\n",
    "unique_lengths"
   ]
  },
  {
   "cell_type": "markdown",
   "id": "bdcbde5a",
   "metadata": {},
   "source": [
    "### 。map(function, iteration)\n",
    "* 將iteration內的元素放入function並回傳執行結果"
   ]
  },
  {
   "cell_type": "code",
   "execution_count": 4,
   "id": "8154cf5a",
   "metadata": {},
   "outputs": [
    {
     "data": {
      "text/plain": [
       "{1, 2, 3, 4, 6}"
      ]
     },
     "execution_count": 4,
     "metadata": {},
     "output_type": "execute_result"
    }
   ],
   "source": [
    "# 使用map函式實作出上一個cell的結果\n",
    "set(map(len, strings))"
   ]
  },
  {
   "cell_type": "code",
   "execution_count": 5,
   "id": "00d21332",
   "metadata": {},
   "outputs": [
    {
     "data": {
      "text/plain": [
       "{'a': 0, 'as': 1, 'bat': 2, 'car': 3, 'dove': 4, 'python': 5}"
      ]
     },
     "execution_count": 5,
     "metadata": {},
     "output_type": "execute_result"
    }
   ],
   "source": [
    "# 用dict生成式找出strings內的index\n",
    "loc_mapping = {val: index for index, val in enumerate(strings)}\n",
    "loc_mapping"
   ]
  },
  {
   "cell_type": "markdown",
   "id": "aac7e4e8",
   "metadata": {},
   "source": [
    "## 。巢式list包含式"
   ]
  },
  {
   "cell_type": "markdown",
   "id": "13bbc98f",
   "metadata": {},
   "source": [
    "* 假設我們需要從一個list內找出所有名稱字母內含有2個e以上的人名"
   ]
  },
  {
   "cell_type": "code",
   "execution_count": 20,
   "id": "2dbee3fc",
   "metadata": {},
   "outputs": [],
   "source": [
    "# name list\n",
    "all_data = [['John', 'Emily', 'Michael', 'Mary', 'Steven'],\n",
    "            ['Maria', 'Juan', 'Javier', 'Natalia', 'Pilar']]"
   ]
  },
  {
   "cell_type": "code",
   "execution_count": 21,
   "id": "051ba98e",
   "metadata": {},
   "outputs": [
    {
     "data": {
      "text/plain": [
       "['Steven']"
      ]
     },
     "execution_count": 21,
     "metadata": {},
     "output_type": "execute_result"
    }
   ],
   "source": [
    "# 法1 -> for迴圈\n",
    "names_of_interest = []\n",
    "\n",
    "for names in all_data:\n",
    "    have_2_e = [name for name in names if name.count('e') >= 2]\n",
    "    # extend() -> 將object內的elements逐一放入list\n",
    "    # append() -> 直接將整個object放入list\n",
    "    names_of_interest.extend(have_2_e)\n",
    "    \n",
    "names_of_interest"
   ]
  },
  {
   "cell_type": "code",
   "execution_count": 22,
   "id": "a6edd1b7",
   "metadata": {},
   "outputs": [
    {
     "data": {
      "text/plain": [
       "['Steven']"
      ]
     },
     "execution_count": 22,
     "metadata": {},
     "output_type": "execute_result"
    }
   ],
   "source": [
    "# 法2 -> nested list\n",
    "names_of_interest2 = [name for names in all_data for name in names if name.count('e') >= 2]\n",
    "names_of_interest2"
   ]
  },
  {
   "cell_type": "markdown",
   "id": "ad66df8a",
   "metadata": {},
   "source": [
    "* 將一個整數tuple的list '壓扁' 成單一整數list"
   ]
  },
  {
   "cell_type": "code",
   "execution_count": 26,
   "id": "a58fd284",
   "metadata": {},
   "outputs": [
    {
     "data": {
      "text/plain": [
       "[1, 2, 3, 4, 5, 6, 7, 8, 9]"
      ]
     },
     "execution_count": 26,
     "metadata": {},
     "output_type": "execute_result"
    }
   ],
   "source": [
    "some_tuples = [(1, 2, 3), (4, 5, 6), (7, 8, 9)]\n",
    "\n",
    "flattened = [element for tup in some_tuples for element in tup]\n",
    "flattened\n",
    "\n",
    "\n",
    "# flattened = []\n",
    "\n",
    "# for tup in some_tuples:\n",
    "#     for element in tup:\n",
    "#         flattened.append(element)\n"
   ]
  },
  {
   "cell_type": "markdown",
   "id": "1b5f3eec",
   "metadata": {},
   "source": [
    "* 將tuple換成list"
   ]
  },
  {
   "cell_type": "code",
   "execution_count": 25,
   "id": "420c5d0b",
   "metadata": {},
   "outputs": [
    {
     "data": {
      "text/plain": [
       "[[1, 2, 3], [4, 5, 6], [7, 8, 9]]"
      ]
     },
     "execution_count": 25,
     "metadata": {},
     "output_type": "execute_result"
    }
   ],
   "source": [
    "[[element for element in tup] for tup in some_tuples]"
   ]
  },
  {
   "cell_type": "markdown",
   "id": "8bbb0158",
   "metadata": {},
   "source": [
    "## 3.2 函式\n",
    "* 若函示沒有return，則自動回傳None\n",
    "* 參數分為2種:\n",
    "    * 位置參數(positional) \n",
    "    * 關鍵字參數(keyword)   -> 常用在預設值或可選參數的狀況"
   ]
  },
  {
   "cell_type": "markdown",
   "id": "b4fea965",
   "metadata": {},
   "source": [
    "def my_function(x, y, z=1.5):\n",
    "<br>&emsp;if z > 1:\n",
    "<br>&emsp;&emsp;return z * (x + y)\n",
    "<br>&emsp;else:\n",
    "<br>&emsp;&emsp;return z / (x + y)\n",
    "\n",
    "\n",
    "<br>x, y -> 位置參數\n",
    "<br>z -> 關鍵字參數"
   ]
  },
  {
   "cell_type": "code",
   "execution_count": 28,
   "id": "2a50b009",
   "metadata": {},
   "outputs": [
    {
     "name": "stdout",
     "output_type": "stream",
     "text": [
      "0.06363636363636363\n",
      "35.49\n",
      "45.0\n"
     ]
    }
   ],
   "source": [
    "def my_function(x, y, z=1.5):\n",
    "    if z > 1:\n",
    "        return z * (x + y)\n",
    "    else:\n",
    "        return z / (x + y)\n",
    "    \n",
    "print(my_function(5, 6, z=0.7))\n",
    "print(my_function(3.14, 7, 3.5))\n",
    "print(my_function(10, 20))"
   ]
  },
  {
   "cell_type": "markdown",
   "id": "a14bd7a5",
   "metadata": {},
   "source": [
    "## 。多個回傳值"
   ]
  },
  {
   "cell_type": "code",
   "execution_count": 30,
   "id": "127f0dbf",
   "metadata": {},
   "outputs": [
    {
     "data": {
      "text/plain": [
       "(5, 6, 7)"
      ]
     },
     "execution_count": 30,
     "metadata": {},
     "output_type": "execute_result"
    }
   ],
   "source": [
    "def f():\n",
    "    a = 5\n",
    "    b = 6\n",
    "    c = 7\n",
    "    return a, b, c\n",
    "\n",
    "return_value = f()\n",
    "return_value"
   ]
  },
  {
   "cell_type": "code",
   "execution_count": 31,
   "id": "0736e0ee",
   "metadata": {},
   "outputs": [
    {
     "data": {
      "text/plain": [
       "{'a': 5, 'b': 6, 'c': 7}"
      ]
     },
     "execution_count": 31,
     "metadata": {},
     "output_type": "execute_result"
    }
   ],
   "source": [
    "def f():\n",
    "    a = 5\n",
    "    b = 6\n",
    "    c = 7\n",
    "    return {'a': a, 'b': b, 'c': c}\n",
    "\n",
    "return_value = f()\n",
    "return_value"
   ]
  },
  {
   "cell_type": "markdown",
   "id": "0b089639",
   "metadata": {},
   "source": [
    "## 。函式即物件"
   ]
  },
  {
   "cell_type": "markdown",
   "id": "86d59297",
   "metadata": {},
   "source": [
    "* 對以下data進行清理"
   ]
  },
  {
   "cell_type": "code",
   "execution_count": 36,
   "id": "955f444b",
   "metadata": {},
   "outputs": [],
   "source": [
    "states = ['   Alabama', 'Georgia!', 'Georgia', 'georgia', 'FlOrIda',\n",
    "          ' south    carolina##', 'West virginia?']"
   ]
  },
  {
   "cell_type": "code",
   "execution_count": 37,
   "id": "2307224c",
   "metadata": {},
   "outputs": [
    {
     "data": {
      "text/plain": [
       "['Alabama',\n",
       " 'Georgia',\n",
       " 'Georgia',\n",
       " 'Georgia',\n",
       " 'Florida',\n",
       " 'South    Carolina',\n",
       " 'West Virginia']"
      ]
     },
     "execution_count": 37,
     "metadata": {},
     "output_type": "execute_result"
    }
   ],
   "source": [
    "import re\n",
    "\n",
    "# 單純函式處理\n",
    "def clean_strings(strings):\n",
    "    result = []\n",
    "    \n",
    "    for value in strings:\n",
    "        value = value.strip()  # 去掉頭尾換行符號及空白\n",
    "        value = re.sub('[!#?]', '', value)  # 將value中的!#?符號以''取代\n",
    "        value = value.title()\n",
    "        result.append(value)\n",
    "    \n",
    "    return result\n",
    "\n",
    "clena_strings(states)"
   ]
  },
  {
   "cell_type": "code",
   "execution_count": 38,
   "id": "309334d0",
   "metadata": {},
   "outputs": [],
   "source": [
    "# 將會用到的function寫成list再逐一呼叫 -> pipeline\n",
    "# 具有更高的功能性\n",
    "def remove_punctuation(value):\n",
    "    return re.sub('[!#?]', '', value)  # 將value中的!#?符號以''取代\n",
    "\n",
    "# 將函式以物件的方式存進list\n",
    "clean_ops = [str.strip, remove_punctuation, str.title]\n",
    "\n",
    "def clean_strings2(strings, ops):\n",
    "    result = []\n",
    "    \n",
    "    for value in strings:  # 逐一呼叫element\n",
    "        for function in ops:  # 逐一呼叫ops內的function物件\n",
    "            value = function(value)  # 將element放入function內處理\n",
    "        result.append(value)\n",
    "        \n",
    "    return result"
   ]
  },
  {
   "cell_type": "code",
   "execution_count": 40,
   "id": "d934b99d",
   "metadata": {},
   "outputs": [
    {
     "data": {
      "text/plain": [
       "['Alabama',\n",
       " 'Georgia',\n",
       " 'Georgia',\n",
       " 'Georgia',\n",
       " 'Florida',\n",
       " 'South    Carolina',\n",
       " 'West Virginia']"
      ]
     },
     "execution_count": 40,
     "metadata": {},
     "output_type": "execute_result"
    }
   ],
   "source": [
    "clean_strings2(states, clean_ops)"
   ]
  },
  {
   "cell_type": "markdown",
   "id": "e439642b",
   "metadata": {},
   "source": [
    "## 。匿名函式lambda\n",
    "* 將只有一行程式敘述句寫成函式方法，其值等於回傳值\n",
    "* 以<font color=yellow>lambda</font>關鍵字宣告\n",
    "* lambda 沒有 <font color=yellow>\\__name\\__</font>屬性"
   ]
  },
  {
   "cell_type": "code",
   "execution_count": 43,
   "id": "a07ce701",
   "metadata": {},
   "outputs": [
    {
     "data": {
      "text/plain": [
       "[8, 0, 2, 10, 12]"
      ]
     },
     "execution_count": 43,
     "metadata": {},
     "output_type": "execute_result"
    }
   ],
   "source": [
    "def apply_to_list(some_list, f):\n",
    "    return [f(x) for x in some_list]\n",
    "\n",
    "ints = [4, 0, 1, 5, 6]\n",
    "\n",
    "apply_to_list(ints, lambda x: x * 2)"
   ]
  },
  {
   "cell_type": "markdown",
   "id": "f819b539",
   "metadata": {},
   "source": [
    "* 將下列data以有多少不同字母進行排序"
   ]
  },
  {
   "cell_type": "code",
   "execution_count": 44,
   "id": "fdc4430e",
   "metadata": {},
   "outputs": [
    {
     "data": {
      "text/plain": [
       "['aaaa', 'foo', 'abab', 'bar', 'card']"
      ]
     },
     "execution_count": 44,
     "metadata": {},
     "output_type": "execute_result"
    }
   ],
   "source": [
    "strings = ['foo', 'card', 'bar', 'aaaa', 'abab']\n",
    "\n",
    "strings.sort(key=lambda x: len(set(list(x))))\n",
    "strings"
   ]
  },
  {
   "cell_type": "markdown",
   "id": "2b058f7d",
   "metadata": {},
   "source": [
    "## 柯里化(Currying)\n",
    "* 只給現有函式<font color=yellow>部分變數</font>，之後衍生出新函式的動作"
   ]
  },
  {
   "cell_type": "code",
   "execution_count": 1,
   "id": "bf613478",
   "metadata": {},
   "outputs": [],
   "source": [
    "# original function\n",
    "def add_numbers(x, y):\n",
    "    return x + y\n",
    "\n",
    "# new function\n",
    "add_five = lambda y: add_numbers(5, y)\n",
    "\n",
    "# 以內建方法partial簡化上述流程\n",
    "from functools import partial\n",
    "add_five = partial(add_numbers, 5)"
   ]
  },
  {
   "cell_type": "markdown",
   "id": "8059586e",
   "metadata": {},
   "source": [
    "## 產生器(Generator)\n",
    "* 用統一的行為對序列(或檔案內容)進行迭代\n",
    "* 由<font color=yellow>迭代器協定(iterator protocol)</font>所完成 -> 是一種讓物件可以迭代的通用方法"
   ]
  },
  {
   "cell_type": "code",
   "execution_count": 2,
   "id": "d1602eb9",
   "metadata": {},
   "outputs": [
    {
     "name": "stdout",
     "output_type": "stream",
     "text": [
      "a\n",
      "b\n",
      "c\n"
     ]
    }
   ],
   "source": [
    "some_dict = {'a': 1, 'b': 2, 'c': 3}\n",
    "\n",
    "for key in some_dict:\n",
    "    print(key)"
   ]
  },
  {
   "cell_type": "markdown",
   "id": "6f9ae7c2",
   "metadata": {},
   "source": [
    "* for key in some_dict -> Python會建立一個迭代器: dict_iterator = iter(some_dict)\n",
    "* 迭代器可接受任何可迭代物件"
   ]
  },
  {
   "cell_type": "code",
   "execution_count": 4,
   "id": "5f3f1a7f",
   "metadata": {},
   "outputs": [
    {
     "data": {
      "text/plain": [
       "<dict_keyiterator at 0x21370319d10>"
      ]
     },
     "execution_count": 4,
     "metadata": {},
     "output_type": "execute_result"
    }
   ],
   "source": [
    "dict_iterator = iter(some_dict)\n",
    "dict_iterator"
   ]
  },
  {
   "cell_type": "markdown",
   "id": "f32a9b90",
   "metadata": {},
   "source": [
    "* 產生器與一般函式不同，它可以回傳多個結果序列，每回傳一個就停一下，直到下一個要求才繼續回傳\n",
    "* 產生器的建立須以 <font color=yellow>yield</font> 取代 return"
   ]
  },
  {
   "cell_type": "code",
   "execution_count": 5,
   "id": "7f0c7a10",
   "metadata": {},
   "outputs": [],
   "source": [
    "def squares(n=10):\n",
    "    print(F\"Generating squares from 1 to {n ** 2}\")\n",
    "    \n",
    "    for i in range(1, n+1):\n",
    "        yield i ** 2"
   ]
  },
  {
   "cell_type": "markdown",
   "id": "c4cdb0af",
   "metadata": {},
   "source": [
    "* 直接呼叫產生器不會執行任何程式碼"
   ]
  },
  {
   "cell_type": "code",
   "execution_count": 6,
   "id": "d21d2d94",
   "metadata": {},
   "outputs": [
    {
     "data": {
      "text/plain": [
       "<generator object squares at 0x000002136F6EC900>"
      ]
     },
     "execution_count": 6,
     "metadata": {},
     "output_type": "execute_result"
    }
   ],
   "source": [
    "gen = squares()\n",
    "gen"
   ]
  },
  {
   "cell_type": "markdown",
   "id": "755dbcf5",
   "metadata": {},
   "source": [
    "* 直到向產生器要求元素時，才開始執行程式"
   ]
  },
  {
   "cell_type": "code",
   "execution_count": 7,
   "id": "3858725e",
   "metadata": {},
   "outputs": [
    {
     "name": "stdout",
     "output_type": "stream",
     "text": [
      "Generating squares from 1 to 100\n",
      "1 4 9 16 25 36 49 64 81 100 "
     ]
    }
   ],
   "source": [
    "for x in gen:\n",
    "    print(x, end=' ')"
   ]
  },
  {
   "cell_type": "markdown",
   "id": "bbaaa32a",
   "metadata": {},
   "source": [
    "## 產生器述句(Generator expression)\n",
    "* 與生成式很像，但是外面的括號微小括號"
   ]
  },
  {
   "cell_type": "code",
   "execution_count": 11,
   "id": "129ab687",
   "metadata": {},
   "outputs": [
    {
     "data": {
      "text/plain": [
       "<generator object <genexpr> at 0x000002136F6ECEB0>"
      ]
     },
     "execution_count": 11,
     "metadata": {},
     "output_type": "execute_result"
    }
   ],
   "source": [
    "\"\"\"\n",
    "def make_gen():\n",
    "    for x in range(100):\n",
    "        yield ** 2\n",
    "\n",
    "gen = make_gen()\n",
    "\"\"\"\n",
    "\n",
    "# 等同於\n",
    "gen = (x ** 2 for x in range(100))\n",
    "gen"
   ]
  },
  {
   "cell_type": "markdown",
   "id": "3bdfc943",
   "metadata": {},
   "source": [
    "* 產生器述句可以用來取代list生成式用在函式參數的情況"
   ]
  },
  {
   "cell_type": "code",
   "execution_count": 12,
   "id": "8025fb04",
   "metadata": {},
   "outputs": [
    {
     "data": {
      "text/plain": [
       "328350"
      ]
     },
     "execution_count": 12,
     "metadata": {},
     "output_type": "execute_result"
    }
   ],
   "source": [
    "sum(x ** 2 for x in range(100))"
   ]
  },
  {
   "cell_type": "code",
   "execution_count": 13,
   "id": "f29b38ac",
   "metadata": {},
   "outputs": [
    {
     "data": {
      "text/plain": [
       "{0: 0, 1: 1, 2: 4, 3: 9, 4: 16}"
      ]
     },
     "execution_count": 13,
     "metadata": {},
     "output_type": "execute_result"
    }
   ],
   "source": [
    "dict((i, i ** 2) for i in range(5))"
   ]
  },
  {
   "cell_type": "markdown",
   "id": "a7f11b31",
   "metadata": {},
   "source": [
    "## itertools模組\n",
    "* itertools內有一群常見資料演算法的產生器集合\n",
    "* groupby(sequence, function) -> 可以接受任意序列以及一個函式當參數，依照函式回傳值將序列中連續元素進行分組"
   ]
  },
  {
   "cell_type": "code",
   "execution_count": 18,
   "id": "b857cc21",
   "metadata": {},
   "outputs": [
    {
     "name": "stdout",
     "output_type": "stream",
     "text": [
      "A: ['Alan', 'Adam']\n",
      "W: ['Wes', 'Will']\n",
      "A: ['Albert']\n",
      "S: ['Steven']\n"
     ]
    }
   ],
   "source": [
    "from itertools import groupby as gp\n",
    "\n",
    "first_letter = lambda x: x[0]\n",
    "\n",
    "names = ['Alan', 'Adam', 'Wes', 'Will', 'Albert', 'Steven']\n",
    "\n",
    "for letter, names in gp(names, first_letter):\n",
    "    print(F\"{letter}: {list(names)}\")  # names是產生器"
   ]
  },
  {
   "cell_type": "markdown",
   "id": "54de9cc7",
   "metadata": {},
   "source": [
    "## 錯誤及例外處理"
   ]
  },
  {
   "cell_type": "markdown",
   "id": "0704a07c",
   "metadata": {},
   "source": [
    "* 捕捉單一例外 -> try/except區塊"
   ]
  },
  {
   "cell_type": "code",
   "execution_count": 19,
   "id": "585f524b",
   "metadata": {},
   "outputs": [],
   "source": [
    "def attempt_float(x):\n",
    "    try:\n",
    "        return float(x)\n",
    "    except ValueError:\n",
    "        return x"
   ]
  },
  {
   "cell_type": "code",
   "execution_count": 20,
   "id": "3187f28f",
   "metadata": {},
   "outputs": [
    {
     "data": {
      "text/plain": [
       "'somethong'"
      ]
     },
     "execution_count": 20,
     "metadata": {},
     "output_type": "execute_result"
    }
   ],
   "source": [
    "attempt_float('somethong')"
   ]
  },
  {
   "cell_type": "code",
   "execution_count": 21,
   "id": "4de1b29a",
   "metadata": {},
   "outputs": [
    {
     "data": {
      "text/plain": [
       "11235.0"
      ]
     },
     "execution_count": 21,
     "metadata": {},
     "output_type": "execute_result"
    }
   ],
   "source": [
    "attempt_float(11235)"
   ]
  },
  {
   "cell_type": "code",
   "execution_count": 22,
   "id": "0b391d4c",
   "metadata": {},
   "outputs": [
    {
     "data": {
      "text/plain": [
       "(1, 2)"
      ]
     },
     "execution_count": 22,
     "metadata": {},
     "output_type": "execute_result"
    }
   ],
   "source": [
    "attempt_float((1, 2))"
   ]
  },
  {
   "cell_type": "markdown",
   "id": "1f695c8d",
   "metadata": {},
   "source": [
    "* 捕捉多個例外 -> 需用tuple形式將Error包入"
   ]
  },
  {
   "cell_type": "code",
   "execution_count": 24,
   "id": "e171ed0c",
   "metadata": {},
   "outputs": [],
   "source": [
    "def attempt_float(x):\n",
    "    try:\n",
    "        return float(x)\n",
    "    except (ValueError, TypeError):\n",
    "        return x"
   ]
  },
  {
   "cell_type": "markdown",
   "id": "2a8b6750",
   "metadata": {},
   "source": [
    "* 在try中的程式不管成功於否都須執行一些東西 -> finally"
   ]
  },
  {
   "cell_type": "code",
   "execution_count": 27,
   "id": "c589a669",
   "metadata": {},
   "outputs": [
    {
     "name": "stdout",
     "output_type": "stream",
     "text": [
      "Failed\n",
      "Close file stream\n"
     ]
    }
   ],
   "source": [
    "f = open(\"a fake path\", 'w')\n",
    "\n",
    "try:\n",
    "    wirte_to_file(f)  # 嘗試將資料寫入f\n",
    "except:\n",
    "    print(\"Failed\")  # 若是失敗則印出Failed\n",
    "else:\n",
    "    print(\"Succeeded\")  # 成功則印出Succeeded\n",
    "finally:\n",
    "    print(\"Close file stream\")\n",
    "    f.close()  # 不管成功於否都關閉檔案串流"
   ]
  },
  {
   "cell_type": "markdown",
   "id": "42b7e49e",
   "metadata": {},
   "source": [
    "# 3.3 檔案和作業系統"
   ]
  },
  {
   "cell_type": "code",
   "execution_count": 28,
   "id": "f584f734",
   "metadata": {},
   "outputs": [],
   "source": [
    "path = r'D:\\Python\\practice_every_day\\Python資料分析\\test.txt'"
   ]
  },
  {
   "cell_type": "markdown",
   "id": "ae069ba7",
   "metadata": {},
   "source": [
    "* f = open(path) -> 打開path的檔案\n",
    "* f.close() -> 關閉檔案串流"
   ]
  },
  {
   "cell_type": "code",
   "execution_count": 30,
   "id": "00c91224",
   "metadata": {},
   "outputs": [],
   "source": [
    "f = open(path)\n",
    "\n",
    "for line in f:\n",
    "    pass\n",
    "\n",
    "f.close()"
   ]
  },
  {
   "cell_type": "markdown",
   "id": "a70d184b",
   "metadata": {},
   "source": [
    "* 從檔案中取出的所有行，都包含end-of-line(EOF)標記"
   ]
  },
  {
   "cell_type": "code",
   "execution_count": 34,
   "id": "0b918c14",
   "metadata": {},
   "outputs": [
    {
     "data": {
      "text/plain": [
       "[\"Dear students, you can do better than watching movies on your laptop in bed. If you want to truly be immersed in a film (or game, or TV show), nothing beats a large TV. And it turns out, you don't have to invest thousands to get started with a decent dorm entertainment system. LCD sets and streaming devices are cheaper than ever. So save that notebook for schoolwork consider these inexpensive ways to upgrade your movie watching experience.\"]"
      ]
     },
     "execution_count": 34,
     "metadata": {},
     "output_type": "execute_result"
    }
   ],
   "source": [
    "f = open(path)\n",
    "\n",
    "lines = [x.rstrip() for x in open(path)]\n",
    "\n",
    "f.close()\n",
    "\n",
    "lines"
   ]
  },
  {
   "cell_type": "markdown",
   "id": "36a6284c",
   "metadata": {},
   "source": [
    "* with述句 -> 會在檔案生命週期結束後自動關閉串流"
   ]
  },
  {
   "cell_type": "code",
   "execution_count": 35,
   "id": "cb632b2e",
   "metadata": {},
   "outputs": [
    {
     "data": {
      "text/plain": [
       "[\"Dear students, you can do better than watching movies on your laptop in bed. If you want to truly be immersed in a film (or game, or TV show), nothing beats a large TV. And it turns out, you don't have to invest thousands to get started with a decent dorm entertainment system. LCD sets and streaming devices are cheaper than ever. So save that notebook for schoolwork consider these inexpensive ways to upgrade your movie watching experience.\"]"
      ]
     },
     "execution_count": 35,
     "metadata": {},
     "output_type": "execute_result"
    }
   ],
   "source": [
    "with open(path) as f:\n",
    "    lines = [x.rstrip() for x in f]\n",
    "    \n",
    "lines"
   ]
  },
  {
   "cell_type": "markdown",
   "id": "a27c0323",
   "metadata": {},
   "source": [
    "* read(int) 方法:\n",
    "    * 預設開啟方法下，會回傳特定的字元數量\n",
    "    * 若是以二進制開啟檔案 -> 回傳位元組數"
   ]
  },
  {
   "cell_type": "code",
   "execution_count": 36,
   "id": "be405475",
   "metadata": {},
   "outputs": [
    {
     "name": "stdout",
     "output_type": "stream",
     "text": [
      "Dear stude\n"
     ]
    }
   ],
   "source": [
    "with open(path) as f:\n",
    "    print(f.read(10))"
   ]
  },
  {
   "cell_type": "code",
   "execution_count": 40,
   "id": "91907d2f",
   "metadata": {},
   "outputs": [
    {
     "name": "stdout",
     "output_type": "stream",
     "text": [
      "b'Dear students, you c'\n"
     ]
    }
   ],
   "source": [
    "with open(path, 'rb') as f2:\n",
    "    print(f2.read(20))"
   ]
  },
  {
   "cell_type": "markdown",
   "id": "4dd5027b",
   "metadata": {},
   "source": [
    "* tell()方法 -> 顯示目前位置"
   ]
  },
  {
   "cell_type": "code",
   "execution_count": 39,
   "id": "537c7e72",
   "metadata": {},
   "outputs": [
    {
     "name": "stdout",
     "output_type": "stream",
     "text": [
      "0\n"
     ]
    }
   ],
   "source": [
    "with open(path) as f:\n",
    "    print(f.tell())"
   ]
  },
  {
   "cell_type": "markdown",
   "id": "1fe8a16f",
   "metadata": {},
   "source": [
    "### python檔案模式\n",
    "|模式|描述|\n",
    "|:--:|:------------------------------------------------:|\n",
    "|r|唯獨模式|\n",
    "|w|只能寫模式，建立新檔(消除同名檔案內的資料)|\n",
    "|x|只能寫模式，建立新檔，若檔案已存在則拋出錯誤|\n",
    "|a|在已存在檔案後增加資料(若不存在則建立新檔)|\n",
    "|r+|讀寫模式|\n",
    "|b|二進位檔案標示，加在其他模式後面('rb' 或 'wb')|\n",
    "|t|文字模式(自動解碼為Unicode，預設模式)，可與其他模式使用('rt' 或 'xt')|"
   ]
  },
  {
   "cell_type": "markdown",
   "id": "71fe1b23",
   "metadata": {},
   "source": [
    "* 將文字寫到檔案中 -> 可使用write或writelines方法"
   ]
  },
  {
   "cell_type": "code",
   "execution_count": 69,
   "id": "caf1c589",
   "metadata": {},
   "outputs": [
    {
     "data": {
      "text/plain": [
       "['Hi, my name is Van.\\n',\n",
       " '\\n',\n",
       " 'This is my practice file.\\n',\n",
       " '\\n',\n",
       " 'OOO\\n',\n",
       " '\\n',\n",
       " 'D\\n',\n",
       " '\\n',\n",
       " '\\n',\n",
       " 'DFDF']"
      ]
     },
     "execution_count": 69,
     "metadata": {},
     "output_type": "execute_result"
    }
   ],
   "source": [
    "with open(path, 'r') as f:\n",
    "    text = f.readlines()\n",
    "    \n",
    "text"
   ]
  },
  {
   "cell_type": "code",
   "execution_count": 70,
   "id": "17f79fea",
   "metadata": {},
   "outputs": [
    {
     "data": {
      "text/plain": [
       "[20, 1, 26, 1, 4, 1, 2, 1, 1, 4]"
      ]
     },
     "execution_count": 70,
     "metadata": {},
     "output_type": "execute_result"
    }
   ],
   "source": [
    "list(map(len, text))"
   ]
  },
  {
   "cell_type": "code",
   "execution_count": 76,
   "id": "06ad541e",
   "metadata": {},
   "outputs": [],
   "source": [
    "path2 = r'D:\\Python\\practice_every_day\\Python資料分析\\test2.txt'\n",
    "\n",
    "with open(path2, 'w') as f:  # 路徑若相同會無法寫入且原始檔案被消除\n",
    "    f.writelines(x for x in open(path) if len(x) > 1)  # 去掉空白行"
   ]
  },
  {
   "cell_type": "code",
   "execution_count": 77,
   "id": "e7de1f2d",
   "metadata": {},
   "outputs": [
    {
     "data": {
      "text/plain": [
       "['Hi, my name is Van.\\n',\n",
       " 'This is my practice file.\\n',\n",
       " 'OOO\\n',\n",
       " 'D\\n',\n",
       " 'DFDF']"
      ]
     },
     "execution_count": 77,
     "metadata": {},
     "output_type": "execute_result"
    }
   ],
   "source": [
    "with open(path2) as f:\n",
    "    lines = f.readlines()\n",
    "    \n",
    "lines"
   ]
  },
  {
   "cell_type": "markdown",
   "id": "a83883b1",
   "metadata": {},
   "source": [
    "## python檔案方法或屬性\n",
    "|方法|描述|\n",
    "|:---------------------:|:------------------------------------:|\n",
    "|read([size])|檔案中資料以字串回傳，可選擇輸入size參數 -> 指定要讀多少位元組|\n",
    "|readlines([size])|回傳檔案中多行，可選擇輸入size|\n",
    "|write(str)|將傳入的字串寫到檔案|\n",
    "|writelines(strings)|將傳入的字串序列寫到檔案|\n",
    "|close()|關閉串流|\n",
    "|flush()|沖出內部I/O緩衝資料到磁碟|\n",
    "|seek(pos)|移動檔案位置(游標位置)|\n",
    "|tell()|回傳目前檔案位置(游標位置)|\n",
    "|closed|如果檔案已關閉，回傳True|"
   ]
  },
  {
   "cell_type": "markdown",
   "id": "71a1a6bd",
   "metadata": {},
   "source": [
    "## 檔案中的位元組與Unicode\n",
    "* 檔案的預設行為(不管讀取或寫入)都是文字模式(t)"
   ]
  },
  {
   "cell_type": "code",
   "execution_count": 78,
   "id": "1b34f227",
   "metadata": {},
   "outputs": [
    {
     "data": {
      "text/plain": [
       "'Hi, my nam'"
      ]
     },
     "execution_count": 78,
     "metadata": {},
     "output_type": "execute_result"
    }
   ],
   "source": [
    "with open(path) as f:\n",
    "    chars = f.read(10)\n",
    "    \n",
    "chars"
   ]
  },
  {
   "cell_type": "code",
   "execution_count": 79,
   "id": "b42255e2",
   "metadata": {},
   "outputs": [
    {
     "data": {
      "text/plain": [
       "b'Hi, my nam'"
      ]
     },
     "execution_count": 79,
     "metadata": {},
     "output_type": "execute_result"
    }
   ],
   "source": [
    "with open(path, 'rb') as f:\n",
    "    data = f.read(10)\n",
    "    \n",
    "data"
   ]
  },
  {
   "cell_type": "markdown",
   "id": "565f061a",
   "metadata": {},
   "source": [
    "* 指定encoding選項，方便從Unicode換到其他編碼方式"
   ]
  },
  {
   "cell_type": "code",
   "execution_count": 82,
   "id": "f53bad46",
   "metadata": {},
   "outputs": [],
   "source": [
    "path3 = r'D:\\Python\\practice_every_day\\Python資料分析\\test3.txt'\n",
    "with open(path) as source:\n",
    "    with open(path3, 'xt', encoding='iso-8859-1') as sink:\n",
    "        sink.write(source.read())"
   ]
  },
  {
   "cell_type": "code",
   "execution_count": 83,
   "id": "47389bbd",
   "metadata": {},
   "outputs": [
    {
     "name": "stdout",
     "output_type": "stream",
     "text": [
      "Hi, my nam\n"
     ]
    }
   ],
   "source": [
    "with open(path3, encoding='iso-8859-1') as f:\n",
    "    print(f.read(10))"
   ]
  },
  {
   "cell_type": "markdown",
   "id": "0d604735",
   "metadata": {},
   "source": [
    "* 若檔開檔案時不是使用二進位模式 -> <font color=yellow>使用seek()會出錯</font>"
   ]
  },
  {
   "cell_type": "markdown",
   "id": "028c9ef7",
   "metadata": {},
   "source": [
    "# <font color=yellow>Ch4 Numpy基礎: 陣列和向量化計算</font>\n",
    "* numpy的特性有:\n",
    "    * ndarray: 高效率的多維度陣列，能夠做快速陣列導向數學運算及彈性的<font color=green,white>廣播機制(broadcasting)</font>\n",
    "    * 不用寫迴圈就可以對整個資料陣列做快速數學運算\n",
    "    * 利用memory-mapped檔案，做讀取/寫出陣列資料到磁碟工具\n",
    "    * 線性代數，隨機數字生成器及傅立葉轉換\n",
    "    * 用C、C++或Fortran寫成的C API函式庫"
   ]
  },
  {
   "cell_type": "code",
   "execution_count": 2,
   "id": "f5a375d3",
   "metadata": {},
   "outputs": [],
   "source": [
    "# numpy 與 一般python 具有很大的速度差異\n",
    "import numpy as np\n",
    "\n",
    "my_arr = np.arange(1000000)  # numpy物件\n",
    "\n",
    "my_list = list(range(1000000))  # list物件"
   ]
  },
  {
   "cell_type": "markdown",
   "id": "4cc190c1",
   "metadata": {},
   "source": [
    "* 將上面2個物件全部乘上2"
   ]
  },
  {
   "cell_type": "code",
   "execution_count": 85,
   "id": "9fe500ff",
   "metadata": {},
   "outputs": [
    {
     "name": "stdout",
     "output_type": "stream",
     "text": [
      "Wall time: 34.9 ms\n"
     ]
    }
   ],
   "source": [
    "%time for _ in range(10): my_arr2 = my_arr * 2"
   ]
  },
  {
   "cell_type": "code",
   "execution_count": 86,
   "id": "afcf28d6",
   "metadata": {},
   "outputs": [
    {
     "name": "stdout",
     "output_type": "stream",
     "text": [
      "Wall time: 2.12 s\n"
     ]
    }
   ],
   "source": [
    "%time for _ in range(10): my_list2 = [x * 2for x in my_list]"
   ]
  },
  {
   "cell_type": "markdown",
   "id": "292ef113",
   "metadata": {},
   "source": [
    "## 4.1 <font color=yellow>Numpy ndarray: 多維陣列物件</font>"
   ]
  },
  {
   "cell_type": "markdown",
   "id": "91e23c8b",
   "metadata": {},
   "source": [
    "* 產生一隨機資料小陣列並做運算"
   ]
  },
  {
   "cell_type": "code",
   "execution_count": 87,
   "id": "5ce0073e",
   "metadata": {},
   "outputs": [
    {
     "data": {
      "text/plain": [
       "array([[ 0.2035581 , -0.08280468,  1.15316973],\n",
       "       [-0.16845808,  0.04049118, -1.94574498]])"
      ]
     },
     "execution_count": 87,
     "metadata": {},
     "output_type": "execute_result"
    }
   ],
   "source": [
    "data = np.random.randn(2, 3)  # 產生row=2, column=3的隨機值陣列物件\n",
    "data"
   ]
  },
  {
   "cell_type": "code",
   "execution_count": 88,
   "id": "a87f23ea",
   "metadata": {},
   "outputs": [
    {
     "data": {
      "text/plain": [
       "array([[  2.03558095,  -0.82804685,  11.53169732],\n",
       "       [ -1.68458082,   0.40491183, -19.45744979]])"
      ]
     },
     "execution_count": 88,
     "metadata": {},
     "output_type": "execute_result"
    }
   ],
   "source": [
    "data * 10"
   ]
  },
  {
   "cell_type": "code",
   "execution_count": 89,
   "id": "e7eb2043",
   "metadata": {},
   "outputs": [
    {
     "data": {
      "text/plain": [
       "array([[ 0.40711619, -0.16560937,  2.30633946],\n",
       "       [-0.33691616,  0.08098237, -3.89148996]])"
      ]
     },
     "execution_count": 89,
     "metadata": {},
     "output_type": "execute_result"
    }
   ],
   "source": [
    "data + data"
   ]
  },
  {
   "cell_type": "code",
   "execution_count": 90,
   "id": "0329d277",
   "metadata": {},
   "outputs": [
    {
     "data": {
      "text/plain": [
       "(2, 3)"
      ]
     },
     "execution_count": 90,
     "metadata": {},
     "output_type": "execute_result"
    }
   ],
   "source": [
    "data.shape"
   ]
  },
  {
   "cell_type": "code",
   "execution_count": 91,
   "id": "9195d308",
   "metadata": {},
   "outputs": [
    {
     "data": {
      "text/plain": [
       "dtype('float64')"
      ]
     },
     "execution_count": 91,
     "metadata": {},
     "output_type": "execute_result"
    }
   ],
   "source": [
    "data.dtype"
   ]
  },
  {
   "cell_type": "markdown",
   "id": "4af73a13",
   "metadata": {},
   "source": [
    "## 建立ndarray\n",
    "* 使用array(sequence)"
   ]
  },
  {
   "cell_type": "code",
   "execution_count": 96,
   "id": "9d6f8f4f",
   "metadata": {},
   "outputs": [
    {
     "data": {
      "text/plain": [
       "array([  6. ,  73. ,   5.3,   1. , 212. ])"
      ]
     },
     "execution_count": 96,
     "metadata": {},
     "output_type": "execute_result"
    }
   ],
   "source": [
    "data1 = [6, 73,5.3, 1, 212]\n",
    "\n",
    "arr1 = np.array(data1)\n",
    "\n",
    "arr1"
   ]
  },
  {
   "cell_type": "code",
   "execution_count": 101,
   "id": "7237d327",
   "metadata": {},
   "outputs": [
    {
     "data": {
      "text/plain": [
       "array([[1, 2, 3, 4],\n",
       "       [5, 6, 7, 8]])"
      ]
     },
     "execution_count": 101,
     "metadata": {},
     "output_type": "execute_result"
    }
   ],
   "source": [
    "data2 = [[1,2,3,4], [5,6,7,8]]\n",
    "\n",
    "arr2 = np.array(data2)\n",
    "\n",
    "arr2"
   ]
  },
  {
   "cell_type": "markdown",
   "id": "cbb147f7",
   "metadata": {},
   "source": [
    "* 除非明確指定，否則np.array會自動尋找適當的資料型態"
   ]
  },
  {
   "cell_type": "code",
   "execution_count": 102,
   "id": "616c5cd7",
   "metadata": {},
   "outputs": [
    {
     "data": {
      "text/plain": [
       "dtype('float64')"
      ]
     },
     "execution_count": 102,
     "metadata": {},
     "output_type": "execute_result"
    }
   ],
   "source": [
    "arr1.dtype"
   ]
  },
  {
   "cell_type": "code",
   "execution_count": 103,
   "id": "a48e9e19",
   "metadata": {},
   "outputs": [
    {
     "data": {
      "text/plain": [
       "dtype('int32')"
      ]
     },
     "execution_count": 103,
     "metadata": {},
     "output_type": "execute_result"
    }
   ],
   "source": [
    "arr2.dtype"
   ]
  },
  {
   "cell_type": "markdown",
   "id": "2a6d7d1e",
   "metadata": {},
   "source": [
    "* 使用zeros建立全為0的陣列\n",
    "* 使用ones建立全為1的陣列\n",
    "* 使用empty建立無初始值的陣列(但是會有垃圾值)\n",
    "* 建立高維度陣列 -> 將維度放入tuple再傳進去"
   ]
  },
  {
   "cell_type": "code",
   "execution_count": 104,
   "id": "684acec7",
   "metadata": {},
   "outputs": [
    {
     "data": {
      "text/plain": [
       "array([0., 0., 0., 0., 0., 0., 0., 0., 0., 0.])"
      ]
     },
     "execution_count": 104,
     "metadata": {},
     "output_type": "execute_result"
    }
   ],
   "source": [
    "np.zeros(10)"
   ]
  },
  {
   "cell_type": "code",
   "execution_count": 105,
   "id": "6907eb89",
   "metadata": {},
   "outputs": [
    {
     "data": {
      "text/plain": [
       "array([[0., 0., 0., 0., 0., 0.],\n",
       "       [0., 0., 0., 0., 0., 0.],\n",
       "       [0., 0., 0., 0., 0., 0.]])"
      ]
     },
     "execution_count": 105,
     "metadata": {},
     "output_type": "execute_result"
    }
   ],
   "source": [
    "np.zeros((3, 6))"
   ]
  },
  {
   "cell_type": "code",
   "execution_count": 106,
   "id": "4e6ed6e1",
   "metadata": {},
   "outputs": [
    {
     "data": {
      "text/plain": [
       "array([[[1.12768922e-311, 2.47032823e-322],\n",
       "        [0.00000000e+000, 0.00000000e+000],\n",
       "        [0.00000000e+000, 1.04082753e-047]],\n",
       "\n",
       "       [[5.58072387e-091, 1.42023784e+161],\n",
       "        [5.50778244e+169, 1.31333861e-071],\n",
       "        [3.99910963e+252, 1.51915485e-051]]])"
      ]
     },
     "execution_count": 106,
     "metadata": {},
     "output_type": "execute_result"
    }
   ],
   "source": [
    "np.empty((2, 3, 2))"
   ]
  },
  {
   "cell_type": "markdown",
   "id": "80c5c032",
   "metadata": {},
   "source": [
    "* np.arange(int) -> 類似python的range函式，但是是陣列值版本"
   ]
  },
  {
   "cell_type": "code",
   "execution_count": 107,
   "id": "8697c22a",
   "metadata": {},
   "outputs": [
    {
     "data": {
      "text/plain": [
       "array([ 0,  1,  2,  3,  4,  5,  6,  7,  8,  9, 10, 11, 12, 13, 14])"
      ]
     },
     "execution_count": 107,
     "metadata": {},
     "output_type": "execute_result"
    }
   ],
   "source": [
    "np.arange(15)"
   ]
  },
  {
   "cell_type": "markdown",
   "id": "5a0673b9",
   "metadata": {},
   "source": [
    "## 陣列建立函式\n",
    "|函式|描述|\n",
    "|:|:-:|\n",
    "|array|將輸入資料(list, tuple, array或其他序列型態)轉換為ndarray，可以使用dtype或是明確指定dtype，預設複製所有輸入資料|\n",
    "|asarray|將輸入轉為ndarray，但如果輸入已經是ndarrya，則不進行複製|\n",
    "|arange|功能類似range，但是回傳的是ndarray而不是list|\n",
    "|ones, ones_like|依指定的shape和dtype產生充滿1的陣列，ones_like可依輸入的另一陣列產生相同shape及dtype且充滿1的陣列|\n",
    "|zeros, zeros_like|依指定的shape和dtype產生充滿0的陣列，zeros_like可依輸入的另一陣列產生相同shape及dtype且充滿0的陣列|\n",
    "|empty, empty_like|取得新記憶體建立新陣列，但不像ones和zeros一樣填充固定值|\n",
    "|full, full_like|指定要填充的值，依指定的shape和dtype建立新陣列，full_like可依輸入的另一陣列產生相同shape及dtype且完成填充值的陣列|\n",
    "|eye, identity|建立一個NxN的單位矩陣(主對角線為1，其他為0)|"
   ]
  },
  {
   "cell_type": "markdown",
   "id": "035347b3",
   "metadata": {},
   "source": [
    "## ndarray的資料型態\n",
    "* ndarray的資料型態就是dtype -> 含有ndarray所需資訊(metadata: 資料的資料)\n",
    "* 陣列資料需要這些資訊才能將一大塊記憶體解析成特定型態的資料"
   ]
  },
  {
   "cell_type": "code",
   "execution_count": 108,
   "id": "6fec2065",
   "metadata": {},
   "outputs": [
    {
     "data": {
      "text/plain": [
       "array([1., 2., 3.])"
      ]
     },
     "execution_count": 108,
     "metadata": {},
     "output_type": "execute_result"
    }
   ],
   "source": [
    "arr1 = np.array([1, 2, 3], dtype=np.float64)\n",
    "arr1"
   ]
  },
  {
   "cell_type": "code",
   "execution_count": 109,
   "id": "01d5c52b",
   "metadata": {},
   "outputs": [
    {
     "data": {
      "text/plain": [
       "dtype('float64')"
      ]
     },
     "execution_count": 109,
     "metadata": {},
     "output_type": "execute_result"
    }
   ],
   "source": [
    "arr1.dtype"
   ]
  },
  {
   "cell_type": "code",
   "execution_count": 111,
   "id": "c6a64c68",
   "metadata": {},
   "outputs": [
    {
     "data": {
      "text/plain": [
       "array([1, 2, 3], dtype=int64)"
      ]
     },
     "execution_count": 111,
     "metadata": {},
     "output_type": "execute_result"
    }
   ],
   "source": [
    "arr2 = np.array([1, 2, 3], dtype=np.int64)\n",
    "arr2"
   ]
  },
  {
   "cell_type": "code",
   "execution_count": 112,
   "id": "e559108a",
   "metadata": {},
   "outputs": [
    {
     "data": {
      "text/plain": [
       "dtype('int64')"
      ]
     },
     "execution_count": 112,
     "metadata": {},
     "output_type": "execute_result"
    }
   ],
   "source": [
    "arr2.dtype"
   ]
  },
  {
   "cell_type": "markdown",
   "id": "a0c908cc",
   "metadata": {},
   "source": [
    "* dtype提供了對底層磁碟或記憶體的<font color=yellow>映射對應</font>，有了這個映射後，讀取或寫入資料的數據串流到磁碟，或是與低階的C或Fortran語言連結就變得容易多了\n",
    "* dtype型態: 前面為類型名稱(float, int...)，後面為數字，代表每個元素佔幾位元"
   ]
  },
  {
   "cell_type": "markdown",
   "id": "e0cfaf7a",
   "metadata": {},
   "source": [
    "* astype(dtype) -> 可以將一個資料陣列從一個dtype轉換(cast)到另一個\n",
    "* 使用astype一定會建立一個新陣列(資料會複製過去)"
   ]
  },
  {
   "cell_type": "code",
   "execution_count": 113,
   "id": "7acfcdb7",
   "metadata": {},
   "outputs": [
    {
     "data": {
      "text/plain": [
       "dtype('int32')"
      ]
     },
     "execution_count": 113,
     "metadata": {},
     "output_type": "execute_result"
    }
   ],
   "source": [
    "arr = np.array([1, 2, 3, 4, 5])\n",
    "arr.dtype"
   ]
  },
  {
   "cell_type": "code",
   "execution_count": 114,
   "id": "a828bfea",
   "metadata": {},
   "outputs": [
    {
     "data": {
      "text/plain": [
       "dtype('float64')"
      ]
     },
     "execution_count": 114,
     "metadata": {},
     "output_type": "execute_result"
    }
   ],
   "source": [
    "float_arr = arr.astype(np.float64)\n",
    "float_arr.dtype"
   ]
  },
  {
   "cell_type": "markdown",
   "id": "b51aa6b5",
   "metadata": {},
   "source": [
    "* 使用np.string_將字串物件轉為數值物件 -> 因此字串長度為固定的，所以可能將資料截斷且<font color=yellow>不發出任何警告</font>"
   ]
  },
  {
   "cell_type": "code",
   "execution_count": 115,
   "id": "1a9971d3",
   "metadata": {},
   "outputs": [
    {
     "data": {
      "text/plain": [
       "array([b'1.25', b'225', b'-45'], dtype='|S4')"
      ]
     },
     "execution_count": 115,
     "metadata": {},
     "output_type": "execute_result"
    }
   ],
   "source": [
    "numeric_strings = np.array(['1.25', '225', '-45'], dtype=np.string_)\n",
    "numeric_strings"
   ]
  },
  {
   "cell_type": "code",
   "execution_count": 117,
   "id": "a5e86433",
   "metadata": {},
   "outputs": [
    {
     "data": {
      "text/plain": [
       "array([  1.25, 225.  , -45.  ])"
      ]
     },
     "execution_count": 117,
     "metadata": {},
     "output_type": "execute_result"
    }
   ],
   "source": [
    "numeric_strings.astype(np.float64)"
   ]
  },
  {
   "cell_type": "markdown",
   "id": "349b76ea",
   "metadata": {},
   "source": [
    "## numpy陣列的算術運算"
   ]
  },
  {
   "cell_type": "markdown",
   "id": "6177d72a",
   "metadata": {},
   "source": [
    "* 可不用for迴圈對資料進行整批運算 -> 向量化(vectorization)\n",
    "* 對相同大小陣列進行任何算術運算 -> 就是對每個元素進行動作\n",
    "* 對不同大小的陣列進行動作 -> <font color=yellow>廣播(broadcasting)</font>"
   ]
  },
  {
   "cell_type": "code",
   "execution_count": 3,
   "id": "abf37766",
   "metadata": {},
   "outputs": [
    {
     "data": {
      "text/plain": [
       "array([[1, 2, 3],\n",
       "       [4, 5, 6]])"
      ]
     },
     "execution_count": 3,
     "metadata": {},
     "output_type": "execute_result"
    }
   ],
   "source": [
    "arr = np.array([[1,2,3], [4,5,6]])\n",
    "arr"
   ]
  },
  {
   "cell_type": "code",
   "execution_count": 4,
   "id": "b5fe531c",
   "metadata": {},
   "outputs": [
    {
     "data": {
      "text/plain": [
       "array([[ 1,  4,  9],\n",
       "       [16, 25, 36]])"
      ]
     },
     "execution_count": 4,
     "metadata": {},
     "output_type": "execute_result"
    }
   ],
   "source": [
    "arr * arr"
   ]
  },
  {
   "cell_type": "code",
   "execution_count": 5,
   "id": "7ec5b2b4",
   "metadata": {},
   "outputs": [
    {
     "data": {
      "text/plain": [
       "array([[0, 0, 0],\n",
       "       [0, 0, 0]])"
      ]
     },
     "execution_count": 5,
     "metadata": {},
     "output_type": "execute_result"
    }
   ],
   "source": [
    "arr - arr"
   ]
  },
  {
   "cell_type": "code",
   "execution_count": 6,
   "id": "2f8f2a95",
   "metadata": {},
   "outputs": [
    {
     "data": {
      "text/plain": [
       "dtype('int32')"
      ]
     },
     "execution_count": 6,
     "metadata": {},
     "output_type": "execute_result"
    }
   ],
   "source": [
    "arr.dtype"
   ]
  },
  {
   "cell_type": "code",
   "execution_count": 7,
   "id": "f199e63f",
   "metadata": {},
   "outputs": [
    {
     "data": {
      "text/plain": [
       "(2, 3)"
      ]
     },
     "execution_count": 7,
     "metadata": {},
     "output_type": "execute_result"
    }
   ],
   "source": [
    "arr.shape"
   ]
  },
  {
   "cell_type": "code",
   "execution_count": 9,
   "id": "0a3e4a12",
   "metadata": {},
   "outputs": [
    {
     "data": {
      "text/plain": [
       "array([[1.        , 0.5       , 0.33333333],\n",
       "       [0.25      , 0.2       , 0.16666667]])"
      ]
     },
     "execution_count": 9,
     "metadata": {},
     "output_type": "execute_result"
    }
   ],
   "source": [
    "1 / arr"
   ]
  },
  {
   "cell_type": "code",
   "execution_count": 10,
   "id": "8211320c",
   "metadata": {},
   "outputs": [
    {
     "data": {
      "text/plain": [
       "array([[1.        , 1.41421356, 1.73205081],\n",
       "       [2.        , 2.23606798, 2.44948974]])"
      ]
     },
     "execution_count": 10,
     "metadata": {},
     "output_type": "execute_result"
    }
   ],
   "source": [
    "arr ** 0.5"
   ]
  },
  {
   "cell_type": "code",
   "execution_count": 12,
   "id": "e3ebb846",
   "metadata": {},
   "outputs": [
    {
     "data": {
      "text/plain": [
       "array([[ 0,  4,  1],\n",
       "       [ 7,  2, 12]])"
      ]
     },
     "execution_count": 12,
     "metadata": {},
     "output_type": "execute_result"
    }
   ],
   "source": [
    "arr2 = np.array([[0,4,1], [7,2,12]])\n",
    "arr2"
   ]
  },
  {
   "cell_type": "code",
   "execution_count": 14,
   "id": "2e12084c",
   "metadata": {},
   "outputs": [
    {
     "data": {
      "text/plain": [
       "array([[False,  True, False],\n",
       "       [ True, False,  True]])"
      ]
     },
     "execution_count": 14,
     "metadata": {},
     "output_type": "execute_result"
    }
   ],
   "source": [
    "arr2 > arr"
   ]
  },
  {
   "cell_type": "markdown",
   "id": "d2ba05df",
   "metadata": {},
   "source": [
    "## 基本的索引和切片"
   ]
  },
  {
   "cell_type": "code",
   "execution_count": 15,
   "id": "55a8dae8",
   "metadata": {},
   "outputs": [
    {
     "data": {
      "text/plain": [
       "array([0, 1, 2, 3, 4, 5, 6, 7, 8, 9])"
      ]
     },
     "execution_count": 15,
     "metadata": {},
     "output_type": "execute_result"
    }
   ],
   "source": [
    "arr = np.arange(10)\n",
    "arr"
   ]
  },
  {
   "cell_type": "code",
   "execution_count": 16,
   "id": "2c490c0c",
   "metadata": {},
   "outputs": [
    {
     "data": {
      "text/plain": [
       "5"
      ]
     },
     "execution_count": 16,
     "metadata": {},
     "output_type": "execute_result"
    }
   ],
   "source": [
    "arr[5]"
   ]
  },
  {
   "cell_type": "code",
   "execution_count": 17,
   "id": "620935dd",
   "metadata": {},
   "outputs": [
    {
     "data": {
      "text/plain": [
       "array([5, 6, 7])"
      ]
     },
     "execution_count": 17,
     "metadata": {},
     "output_type": "execute_result"
    }
   ],
   "source": [
    "arr[5: 8]"
   ]
  },
  {
   "cell_type": "markdown",
   "id": "cf4de2fb",
   "metadata": {},
   "source": [
    "* 將常數指定給某個切片 -> 常數就會傳播下去\n",
    "* 陣列切片就是在原本的陣列上建立一個view，資料是同一份，在view中做修改的話，也會改到原始資料"
   ]
  },
  {
   "cell_type": "code",
   "execution_count": 18,
   "id": "9a57b3cb",
   "metadata": {},
   "outputs": [
    {
     "data": {
      "text/plain": [
       "array([ 0,  1,  2,  3,  4, 12, 12, 12,  8,  9])"
      ]
     },
     "execution_count": 18,
     "metadata": {},
     "output_type": "execute_result"
    }
   ],
   "source": [
    "arr[5: 8] = 12\n",
    "arr"
   ]
  },
  {
   "cell_type": "code",
   "execution_count": 20,
   "id": "de220415",
   "metadata": {},
   "outputs": [
    {
     "data": {
      "text/plain": [
       "array([12, 12, 12])"
      ]
     },
     "execution_count": 20,
     "metadata": {},
     "output_type": "execute_result"
    }
   ],
   "source": [
    "arr_slice = arr[5: 8]\n",
    "arr_slice"
   ]
  },
  {
   "cell_type": "code",
   "execution_count": 21,
   "id": "54b25b14",
   "metadata": {},
   "outputs": [
    {
     "data": {
      "text/plain": [
       "array([     0,      1,      2,      3,      4,     12, 123456,     12,\n",
       "            8,      9])"
      ]
     },
     "execution_count": 21,
     "metadata": {},
     "output_type": "execute_result"
    }
   ],
   "source": [
    "arr_slice[1] = 123456\n",
    "arr"
   ]
  },
  {
   "cell_type": "code",
   "execution_count": 22,
   "id": "539198bb",
   "metadata": {},
   "outputs": [],
   "source": [
    "arr_slice[:] = 64"
   ]
  },
  {
   "cell_type": "code",
   "execution_count": 23,
   "id": "36725bb1",
   "metadata": {},
   "outputs": [
    {
     "data": {
      "text/plain": [
       "array([ 0,  1,  2,  3,  4, 64, 64, 64,  8,  9])"
      ]
     },
     "execution_count": 23,
     "metadata": {},
     "output_type": "execute_result"
    }
   ],
   "source": [
    "arr"
   ]
  },
  {
   "cell_type": "markdown",
   "id": "8a9c2694",
   "metadata": {},
   "source": [
    "* <font color=pink>想把資料複製出去而不使用view -> arr2 = arr.copy[start: end]</font>"
   ]
  },
  {
   "cell_type": "markdown",
   "id": "34da73b5",
   "metadata": {},
   "source": [
    "* 在二維陣列中，每個索引只到的不再是一個元素，而是一個<font color=yellow>一維陣列</font>"
   ]
  },
  {
   "cell_type": "code",
   "execution_count": 24,
   "id": "cc0d8077",
   "metadata": {},
   "outputs": [
    {
     "data": {
      "text/plain": [
       "array([[1, 2, 3],\n",
       "       [4, 5, 6],\n",
       "       [7, 8, 9]])"
      ]
     },
     "execution_count": 24,
     "metadata": {},
     "output_type": "execute_result"
    }
   ],
   "source": [
    "arr2d = np.array([[1,2,3],[4,5,6],[7,8,9]])\n",
    "arr2d"
   ]
  },
  {
   "cell_type": "code",
   "execution_count": 25,
   "id": "bd30b4d8",
   "metadata": {},
   "outputs": [
    {
     "data": {
      "text/plain": [
       "array([7, 8, 9])"
      ]
     },
     "execution_count": 25,
     "metadata": {},
     "output_type": "execute_result"
    }
   ],
   "source": [
    "arr2d[2]"
   ]
  },
  {
   "cell_type": "markdown",
   "id": "faec4a78",
   "metadata": {},
   "source": [
    "* 取得指定的元素:\n",
    "    * arr2d[0][2]\n",
    "    * arr2d[0, 2]"
   ]
  },
  {
   "cell_type": "code",
   "execution_count": 26,
   "id": "7f1925b2",
   "metadata": {},
   "outputs": [
    {
     "data": {
      "text/plain": [
       "3"
      ]
     },
     "execution_count": 26,
     "metadata": {},
     "output_type": "execute_result"
    }
   ],
   "source": [
    "arr2d[0][2]"
   ]
  },
  {
   "cell_type": "code",
   "execution_count": 27,
   "id": "631fb496",
   "metadata": {},
   "outputs": [
    {
     "data": {
      "text/plain": [
       "3"
      ]
     },
     "execution_count": 27,
     "metadata": {},
     "output_type": "execute_result"
    }
   ],
   "source": [
    "arr2d[0, 2]"
   ]
  },
  {
   "cell_type": "markdown",
   "id": "a425a3e8",
   "metadata": {},
   "source": [
    "* 多維陣列中，省略後面的索引 -> 回傳的物件會是較低維度的陣列，其內容對應原來高維度陣列中的資料"
   ]
  },
  {
   "cell_type": "code",
   "execution_count": 29,
   "id": "a9758cbc",
   "metadata": {},
   "outputs": [
    {
     "data": {
      "text/plain": [
       "array([[[ 1,  2,  3],\n",
       "        [ 4,  5,  6]],\n",
       "\n",
       "       [[ 7,  8,  9],\n",
       "        [10, 11, 12]]])"
      ]
     },
     "execution_count": 29,
     "metadata": {},
     "output_type": "execute_result"
    }
   ],
   "source": [
    "# 2x2x3\n",
    "arr3d = np.array([[[1,2,3],[4,5,6]], [[7,8,9],[10,11,12]]])\n",
    "arr3d"
   ]
  },
  {
   "cell_type": "code",
   "execution_count": 30,
   "id": "efece21a",
   "metadata": {},
   "outputs": [
    {
     "data": {
      "text/plain": [
       "array([[1, 2, 3],\n",
       "       [4, 5, 6]])"
      ]
     },
     "execution_count": 30,
     "metadata": {},
     "output_type": "execute_result"
    }
   ],
   "source": [
    "arr3d[0]"
   ]
  },
  {
   "cell_type": "code",
   "execution_count": 31,
   "id": "c990c722",
   "metadata": {},
   "outputs": [
    {
     "data": {
      "text/plain": [
       "array([[1, 2, 3],\n",
       "       [4, 5, 6]])"
      ]
     },
     "execution_count": 31,
     "metadata": {},
     "output_type": "execute_result"
    }
   ],
   "source": [
    "old_values = arr3d[0].copy()\n",
    "old_values"
   ]
  },
  {
   "cell_type": "code",
   "execution_count": 32,
   "id": "e4a91882",
   "metadata": {},
   "outputs": [
    {
     "data": {
      "text/plain": [
       "array([[[42, 42, 42],\n",
       "        [42, 42, 42]],\n",
       "\n",
       "       [[ 7,  8,  9],\n",
       "        [10, 11, 12]]])"
      ]
     },
     "execution_count": 32,
     "metadata": {},
     "output_type": "execute_result"
    }
   ],
   "source": [
    "arr3d[0] = 42\n",
    "arr3d"
   ]
  },
  {
   "cell_type": "code",
   "execution_count": 33,
   "id": "742371b8",
   "metadata": {},
   "outputs": [
    {
     "data": {
      "text/plain": [
       "array([[[ 1,  2,  3],\n",
       "        [ 4,  5,  6]],\n",
       "\n",
       "       [[ 7,  8,  9],\n",
       "        [10, 11, 12]]])"
      ]
     },
     "execution_count": 33,
     "metadata": {},
     "output_type": "execute_result"
    }
   ],
   "source": [
    "arr3d[0] = old_values\n",
    "arr3d"
   ]
  },
  {
   "cell_type": "code",
   "execution_count": 34,
   "id": "42c24b2f",
   "metadata": {},
   "outputs": [
    {
     "data": {
      "text/plain": [
       "array([7, 8, 9])"
      ]
     },
     "execution_count": 34,
     "metadata": {},
     "output_type": "execute_result"
    }
   ],
   "source": [
    "arr3d[1, 0]"
   ]
  },
  {
   "cell_type": "markdown",
   "id": "a8137230",
   "metadata": {},
   "source": [
    "## 使用切片做索引"
   ]
  },
  {
   "cell_type": "code",
   "execution_count": 35,
   "id": "6571ff25",
   "metadata": {},
   "outputs": [
    {
     "data": {
      "text/plain": [
       "array([ 0,  1,  2,  3,  4, 64, 64, 64,  8,  9])"
      ]
     },
     "execution_count": 35,
     "metadata": {},
     "output_type": "execute_result"
    }
   ],
   "source": [
    "arr"
   ]
  },
  {
   "cell_type": "code",
   "execution_count": 36,
   "id": "e6fb039d",
   "metadata": {},
   "outputs": [
    {
     "data": {
      "text/plain": [
       "array([ 1,  2,  3,  4, 64])"
      ]
     },
     "execution_count": 36,
     "metadata": {},
     "output_type": "execute_result"
    }
   ],
   "source": [
    "arr[1: 6]"
   ]
  },
  {
   "cell_type": "code",
   "execution_count": 37,
   "id": "4058421c",
   "metadata": {},
   "outputs": [
    {
     "data": {
      "text/plain": [
       "array([[1, 2, 3],\n",
       "       [4, 5, 6],\n",
       "       [7, 8, 9]])"
      ]
     },
     "execution_count": 37,
     "metadata": {},
     "output_type": "execute_result"
    }
   ],
   "source": [
    "arr2d"
   ]
  },
  {
   "cell_type": "markdown",
   "id": "13c206be",
   "metadata": {},
   "source": [
    "* 二維陣列切片方法不太相同 -> 切片時沿著第一軸(0軸)，每個切片就會沿著軸把一整個區域間的元素都選取\n",
    "* arr2d[:2] -> 選取arr2d的開頭兩個列(row)"
   ]
  },
  {
   "cell_type": "code",
   "execution_count": 38,
   "id": "11b9651f",
   "metadata": {},
   "outputs": [
    {
     "data": {
      "text/plain": [
       "array([[1, 2, 3],\n",
       "       [4, 5, 6]])"
      ]
     },
     "execution_count": 38,
     "metadata": {},
     "output_type": "execute_result"
    }
   ],
   "source": [
    "arr2d[:2]"
   ]
  },
  {
   "cell_type": "code",
   "execution_count": 39,
   "id": "1cc72ab1",
   "metadata": {},
   "outputs": [
    {
     "data": {
      "text/plain": [
       "array([4, 5])"
      ]
     },
     "execution_count": 39,
     "metadata": {},
     "output_type": "execute_result"
    }
   ],
   "source": [
    "arr2d[1, :2]"
   ]
  },
  {
   "cell_type": "code",
   "execution_count": 41,
   "id": "f24fd09f",
   "metadata": {},
   "outputs": [
    {
     "data": {
      "text/plain": [
       "array([3, 6])"
      ]
     },
     "execution_count": 41,
     "metadata": {},
     "output_type": "execute_result"
    }
   ],
   "source": [
    "arr2d[:2, 2]"
   ]
  },
  {
   "cell_type": "code",
   "execution_count": 43,
   "id": "1e454752",
   "metadata": {},
   "outputs": [
    {
     "data": {
      "text/plain": [
       "array([[1],\n",
       "       [4],\n",
       "       [7]])"
      ]
     },
     "execution_count": 43,
     "metadata": {},
     "output_type": "execute_result"
    }
   ],
   "source": [
    "arr2d[:, :1]"
   ]
  },
  {
   "cell_type": "code",
   "execution_count": 44,
   "id": "5fad0003",
   "metadata": {},
   "outputs": [
    {
     "data": {
      "text/plain": [
       "array([1, 4, 7])"
      ]
     },
     "execution_count": 44,
     "metadata": {},
     "output_type": "execute_result"
    }
   ],
   "source": [
    "arr2d[:, 0]"
   ]
  },
  {
   "cell_type": "code",
   "execution_count": 47,
   "id": "49422fc6",
   "metadata": {},
   "outputs": [
    {
     "data": {
      "text/plain": [
       "array([[2, 3],\n",
       "       [5, 6]])"
      ]
     },
     "execution_count": 47,
     "metadata": {},
     "output_type": "execute_result"
    }
   ],
   "source": [
    "arr2d[:2, 1:]"
   ]
  },
  {
   "cell_type": "code",
   "execution_count": 48,
   "id": "d8d1a772",
   "metadata": {},
   "outputs": [
    {
     "data": {
      "text/plain": [
       "array([[1, 0, 0],\n",
       "       [4, 0, 0],\n",
       "       [7, 8, 9]])"
      ]
     },
     "execution_count": 48,
     "metadata": {},
     "output_type": "execute_result"
    }
   ],
   "source": [
    "arr2d[:2, 1:] = 0\n",
    "arr2d"
   ]
  },
  {
   "cell_type": "markdown",
   "id": "451efe7c",
   "metadata": {},
   "source": [
    "## 布林索引"
   ]
  },
  {
   "cell_type": "code",
   "execution_count": 3,
   "id": "5b302d12",
   "metadata": {},
   "outputs": [
    {
     "data": {
      "text/plain": [
       "array(['Bob', 'Joe', 'Will', 'Bob', 'Will', 'Joe', 'Joe'], dtype='<U4')"
      ]
     },
     "execution_count": 3,
     "metadata": {},
     "output_type": "execute_result"
    }
   ],
   "source": [
    "names = np.array(['Bob', 'Joe', 'Will', 'Bob', 'Will', 'Joe', 'Joe'])\n",
    "names"
   ]
  },
  {
   "cell_type": "code",
   "execution_count": 4,
   "id": "2c56527a",
   "metadata": {},
   "outputs": [
    {
     "data": {
      "text/plain": [
       "array([[ 3.07126272e-01, -7.63939894e-01, -1.53263553e+00,\n",
       "        -1.43727029e+00],\n",
       "       [ 2.12501970e-03,  3.13282956e-01, -1.09223199e+00,\n",
       "        -2.14111215e+00],\n",
       "       [-1.55825495e+00, -6.78250464e-01,  7.25992902e-01,\n",
       "        -9.53490024e-01],\n",
       "       [-9.18335040e-01, -6.17433228e-01,  3.82041369e-01,\n",
       "        -8.33612405e-01],\n",
       "       [ 1.10761953e+00,  3.80044685e-01, -1.02899237e+00,\n",
       "         2.70946008e-01],\n",
       "       [-1.07478134e-01, -8.60556715e-01, -1.19515411e-01,\n",
       "        -5.98478475e-01],\n",
       "       [ 1.10255527e+00,  2.59274833e-01,  9.65329659e-01,\n",
       "        -7.02898088e-01]])"
      ]
     },
     "execution_count": 4,
     "metadata": {},
     "output_type": "execute_result"
    }
   ],
   "source": [
    "data = np.random.randn(7, 4)\n",
    "data"
   ]
  },
  {
   "cell_type": "markdown",
   "id": "3638d77b",
   "metadata": {},
   "source": [
    "* 把名稱是'Bob'的列選處來"
   ]
  },
  {
   "cell_type": "code",
   "execution_count": 5,
   "id": "98fc7209",
   "metadata": {},
   "outputs": [
    {
     "data": {
      "text/plain": [
       "array([ True, False, False,  True, False, False, False])"
      ]
     },
     "execution_count": 5,
     "metadata": {},
     "output_type": "execute_result"
    }
   ],
   "source": [
    "names == 'Bob'"
   ]
  },
  {
   "cell_type": "markdown",
   "id": "a69c9c52",
   "metadata": {},
   "source": [
    "* 將此布林索引應用在data陣列"
   ]
  },
  {
   "cell_type": "code",
   "execution_count": 6,
   "id": "990accc4",
   "metadata": {},
   "outputs": [
    {
     "data": {
      "text/plain": [
       "array([[ 0.30712627, -0.76393989, -1.53263553, -1.43727029],\n",
       "       [-0.91833504, -0.61743323,  0.38204137, -0.8336124 ]])"
      ]
     },
     "execution_count": 6,
     "metadata": {},
     "output_type": "execute_result"
    }
   ],
   "source": [
    "data[names == 'Bob']"
   ]
  },
  {
   "cell_type": "markdown",
   "id": "d964fda1",
   "metadata": {},
   "source": [
    "* <font color=yellow>布林陣列和要進行索引的軸，長度必須一致</font>\n",
    "* 長度不一樣時，<font color=pink>也不會失敗</font> -> 得到錯誤結果"
   ]
  },
  {
   "cell_type": "code",
   "execution_count": 7,
   "id": "cfcb3671",
   "metadata": {},
   "outputs": [
    {
     "data": {
      "text/plain": [
       "array([[-1.53263553, -1.43727029],\n",
       "       [ 0.38204137, -0.8336124 ]])"
      ]
     },
     "execution_count": 7,
     "metadata": {},
     "output_type": "execute_result"
    }
   ],
   "source": [
    "data[names == 'Bob', 2:]"
   ]
  },
  {
   "cell_type": "code",
   "execution_count": 8,
   "id": "746d53ad",
   "metadata": {},
   "outputs": [
    {
     "data": {
      "text/plain": [
       "array([-1.43727029, -0.8336124 ])"
      ]
     },
     "execution_count": 8,
     "metadata": {},
     "output_type": "execute_result"
    }
   ],
   "source": [
    "data[names == 'Bob', 3]"
   ]
  },
  {
   "cell_type": "markdown",
   "id": "e13919a6",
   "metadata": {},
   "source": [
    "* 反向選擇:\n",
    " * !=\n",
    " * ~"
   ]
  },
  {
   "cell_type": "code",
   "execution_count": 9,
   "id": "b20a5ee0",
   "metadata": {},
   "outputs": [
    {
     "data": {
      "text/plain": [
       "array([False,  True,  True, False,  True,  True,  True])"
      ]
     },
     "execution_count": 9,
     "metadata": {},
     "output_type": "execute_result"
    }
   ],
   "source": [
    "names != 'Bob'"
   ]
  },
  {
   "cell_type": "code",
   "execution_count": 10,
   "id": "394971cd",
   "metadata": {},
   "outputs": [
    {
     "data": {
      "text/plain": [
       "array([False,  True,  True, False,  True,  True,  True])"
      ]
     },
     "execution_count": 10,
     "metadata": {},
     "output_type": "execute_result"
    }
   ],
   "source": [
    "~(names == 'Bob')"
   ]
  },
  {
   "cell_type": "code",
   "execution_count": 11,
   "id": "28c779ed",
   "metadata": {},
   "outputs": [
    {
     "data": {
      "text/plain": [
       "array([[ 2.12501970e-03,  3.13282956e-01, -1.09223199e+00,\n",
       "        -2.14111215e+00],\n",
       "       [-1.55825495e+00, -6.78250464e-01,  7.25992902e-01,\n",
       "        -9.53490024e-01],\n",
       "       [ 1.10761953e+00,  3.80044685e-01, -1.02899237e+00,\n",
       "         2.70946008e-01],\n",
       "       [-1.07478134e-01, -8.60556715e-01, -1.19515411e-01,\n",
       "        -5.98478475e-01],\n",
       "       [ 1.10255527e+00,  2.59274833e-01,  9.65329659e-01,\n",
       "        -7.02898088e-01]])"
      ]
     },
     "execution_count": 11,
     "metadata": {},
     "output_type": "execute_result"
    }
   ],
   "source": [
    "data[~(names == 'Bob')]"
   ]
  },
  {
   "cell_type": "code",
   "execution_count": 12,
   "id": "2a8645d8",
   "metadata": {},
   "outputs": [
    {
     "data": {
      "text/plain": [
       "array([[ 2.12501970e-03,  3.13282956e-01, -1.09223199e+00,\n",
       "        -2.14111215e+00],\n",
       "       [-1.55825495e+00, -6.78250464e-01,  7.25992902e-01,\n",
       "        -9.53490024e-01],\n",
       "       [ 1.10761953e+00,  3.80044685e-01, -1.02899237e+00,\n",
       "         2.70946008e-01],\n",
       "       [-1.07478134e-01, -8.60556715e-01, -1.19515411e-01,\n",
       "        -5.98478475e-01],\n",
       "       [ 1.10255527e+00,  2.59274833e-01,  9.65329659e-01,\n",
       "        -7.02898088e-01]])"
      ]
     },
     "execution_count": 12,
     "metadata": {},
     "output_type": "execute_result"
    }
   ],
   "source": [
    "cond = names == 'Bob'\n",
    "data[~cond]"
   ]
  },
  {
   "cell_type": "markdown",
   "id": "72bea34c",
   "metadata": {},
   "source": [
    "* 多個布林運算子可以合併成一個篩選條件 -> 使用 & 、 |\n",
    "* Python 關鍵字 and 以及 or <font color=yellow>不能使用於布林索引</font>，必須使用 & 、 |"
   ]
  },
  {
   "cell_type": "code",
   "execution_count": 13,
   "id": "5eebc2ad",
   "metadata": {},
   "outputs": [
    {
     "data": {
      "text/plain": [
       "array([ True, False,  True,  True,  True, False, False])"
      ]
     },
     "execution_count": 13,
     "metadata": {},
     "output_type": "execute_result"
    }
   ],
   "source": [
    "mask = (names == 'Bob') | (names == 'Will')\n",
    "mask"
   ]
  },
  {
   "cell_type": "code",
   "execution_count": 14,
   "id": "5be59f63",
   "metadata": {},
   "outputs": [
    {
     "data": {
      "text/plain": [
       "array([[ 0.30712627, -0.76393989, -1.53263553, -1.43727029],\n",
       "       [-1.55825495, -0.67825046,  0.7259929 , -0.95349002],\n",
       "       [-0.91833504, -0.61743323,  0.38204137, -0.8336124 ],\n",
       "       [ 1.10761953,  0.38004468, -1.02899237,  0.27094601]])"
      ]
     },
     "execution_count": 14,
     "metadata": {},
     "output_type": "execute_result"
    }
   ],
   "source": [
    "data[mask]"
   ]
  },
  {
   "cell_type": "markdown",
   "id": "c00f1786",
   "metadata": {},
   "source": [
    "* 使用布林索引時，<font color=yellow>必定會建立一份新的資料複製，回傳也一樣</font>"
   ]
  },
  {
   "cell_type": "markdown",
   "id": "c4c93481",
   "metadata": {},
   "source": [
    "* 將data中的負值都設為0"
   ]
  },
  {
   "cell_type": "code",
   "execution_count": 15,
   "id": "2bf18d6f",
   "metadata": {},
   "outputs": [
    {
     "data": {
      "text/plain": [
       "array([[ 3.07126272e-01, -7.63939894e-01, -1.53263553e+00,\n",
       "        -1.43727029e+00],\n",
       "       [ 2.12501970e-03,  3.13282956e-01, -1.09223199e+00,\n",
       "        -2.14111215e+00],\n",
       "       [-1.55825495e+00, -6.78250464e-01,  7.25992902e-01,\n",
       "        -9.53490024e-01],\n",
       "       [-9.18335040e-01, -6.17433228e-01,  3.82041369e-01,\n",
       "        -8.33612405e-01],\n",
       "       [ 1.10761953e+00,  3.80044685e-01, -1.02899237e+00,\n",
       "         2.70946008e-01],\n",
       "       [-1.07478134e-01, -8.60556715e-01, -1.19515411e-01,\n",
       "        -5.98478475e-01],\n",
       "       [ 1.10255527e+00,  2.59274833e-01,  9.65329659e-01,\n",
       "        -7.02898088e-01]])"
      ]
     },
     "execution_count": 15,
     "metadata": {},
     "output_type": "execute_result"
    }
   ],
   "source": [
    "data"
   ]
  },
  {
   "cell_type": "code",
   "execution_count": 18,
   "id": "01a1f79c",
   "metadata": {},
   "outputs": [],
   "source": [
    "data[data < 0] = 0"
   ]
  },
  {
   "cell_type": "code",
   "execution_count": 19,
   "id": "8f9c503d",
   "metadata": {},
   "outputs": [
    {
     "data": {
      "text/plain": [
       "array([[0.30712627, 0.        , 0.        , 0.        ],\n",
       "       [0.00212502, 0.31328296, 0.        , 0.        ],\n",
       "       [0.        , 0.        , 0.7259929 , 0.        ],\n",
       "       [0.        , 0.        , 0.38204137, 0.        ],\n",
       "       [1.10761953, 0.38004468, 0.        , 0.27094601],\n",
       "       [0.        , 0.        , 0.        , 0.        ],\n",
       "       [1.10255527, 0.25927483, 0.96532966, 0.        ]])"
      ]
     },
     "execution_count": 19,
     "metadata": {},
     "output_type": "execute_result"
    }
   ],
   "source": [
    "data"
   ]
  },
  {
   "cell_type": "code",
   "execution_count": 20,
   "id": "52112f2e",
   "metadata": {},
   "outputs": [],
   "source": [
    "data[names != \"Joe\"] = 7"
   ]
  },
  {
   "cell_type": "code",
   "execution_count": 21,
   "id": "5418c92e",
   "metadata": {},
   "outputs": [
    {
     "data": {
      "text/plain": [
       "array([[7.00000000e+00, 7.00000000e+00, 7.00000000e+00, 7.00000000e+00],\n",
       "       [2.12501970e-03, 3.13282956e-01, 0.00000000e+00, 0.00000000e+00],\n",
       "       [7.00000000e+00, 7.00000000e+00, 7.00000000e+00, 7.00000000e+00],\n",
       "       [7.00000000e+00, 7.00000000e+00, 7.00000000e+00, 7.00000000e+00],\n",
       "       [7.00000000e+00, 7.00000000e+00, 7.00000000e+00, 7.00000000e+00],\n",
       "       [0.00000000e+00, 0.00000000e+00, 0.00000000e+00, 0.00000000e+00],\n",
       "       [1.10255527e+00, 2.59274833e-01, 9.65329659e-01, 0.00000000e+00]])"
      ]
     },
     "execution_count": 21,
     "metadata": {},
     "output_type": "execute_result"
    }
   ],
   "source": [
    "data"
   ]
  },
  {
   "cell_type": "markdown",
   "id": "bdeb7df4",
   "metadata": {},
   "source": [
    "## 花式索引"
   ]
  },
  {
   "cell_type": "code",
   "execution_count": 23,
   "id": "e2bd5854",
   "metadata": {},
   "outputs": [
    {
     "data": {
      "text/plain": [
       "array([[0., 0., 0., 0.],\n",
       "       [1., 1., 1., 1.],\n",
       "       [2., 2., 2., 2.],\n",
       "       [3., 3., 3., 3.],\n",
       "       [4., 4., 4., 4.],\n",
       "       [5., 5., 5., 5.],\n",
       "       [6., 6., 6., 6.],\n",
       "       [7., 7., 7., 7.]])"
      ]
     },
     "execution_count": 23,
     "metadata": {},
     "output_type": "execute_result"
    }
   ],
   "source": [
    "arr = np.empty((8, 4))\n",
    "\n",
    "for i in range(8):\n",
    "    arr[i] = i\n",
    "    \n",
    "arr"
   ]
  },
  {
   "cell_type": "markdown",
   "id": "2fc358f2",
   "metadata": {},
   "source": [
    "* 以特定的順序選取陣列中的元素 -> 傳入一個用來指定順序的整數 list 或 ndarray"
   ]
  },
  {
   "cell_type": "code",
   "execution_count": 24,
   "id": "ebdf093b",
   "metadata": {},
   "outputs": [
    {
     "data": {
      "text/plain": [
       "array([[4., 4., 4., 4.],\n",
       "       [3., 3., 3., 3.],\n",
       "       [0., 0., 0., 0.],\n",
       "       [6., 6., 6., 6.]])"
      ]
     },
     "execution_count": 24,
     "metadata": {},
     "output_type": "execute_result"
    }
   ],
   "source": [
    "arr[[4,3,0,6]]"
   ]
  },
  {
   "cell_type": "markdown",
   "id": "4d344545",
   "metadata": {},
   "source": [
    "* 傳入負數 -> 從尾端開始選列"
   ]
  },
  {
   "cell_type": "code",
   "execution_count": 25,
   "id": "aabaa957",
   "metadata": {},
   "outputs": [
    {
     "data": {
      "text/plain": [
       "array([[5., 5., 5., 5.],\n",
       "       [3., 3., 3., 3.],\n",
       "       [1., 1., 1., 1.]])"
      ]
     },
     "execution_count": 25,
     "metadata": {},
     "output_type": "execute_result"
    }
   ],
   "source": [
    "arr[[-3, -5, -7]]"
   ]
  },
  {
   "cell_type": "markdown",
   "id": "4bd54c16",
   "metadata": {},
   "source": [
    "* 傳入多個索引陣列 -> 將指定的index結成tuple後，把對應位置的值抓成一維陣列回傳"
   ]
  },
  {
   "cell_type": "code",
   "execution_count": 26,
   "id": "17518f05",
   "metadata": {},
   "outputs": [],
   "source": [
    "arr = np.arange(32).reshape((8, 4))"
   ]
  },
  {
   "cell_type": "code",
   "execution_count": 27,
   "id": "031387e0",
   "metadata": {},
   "outputs": [
    {
     "data": {
      "text/plain": [
       "array([[ 0,  1,  2,  3],\n",
       "       [ 4,  5,  6,  7],\n",
       "       [ 8,  9, 10, 11],\n",
       "       [12, 13, 14, 15],\n",
       "       [16, 17, 18, 19],\n",
       "       [20, 21, 22, 23],\n",
       "       [24, 25, 26, 27],\n",
       "       [28, 29, 30, 31]])"
      ]
     },
     "execution_count": 27,
     "metadata": {},
     "output_type": "execute_result"
    }
   ],
   "source": [
    "arr"
   ]
  },
  {
   "cell_type": "code",
   "execution_count": 28,
   "id": "39e2023d",
   "metadata": {},
   "outputs": [
    {
     "data": {
      "text/plain": [
       "array([ 4, 23, 29, 10])"
      ]
     },
     "execution_count": 28,
     "metadata": {},
     "output_type": "execute_result"
    }
   ],
   "source": [
    "arr[[1,5,7,2], [0,3,1,2]]  # 等同於: np.array(arr[1,0], arr[5, 3], arr[7, 1], arr[2, 2])"
   ]
  },
  {
   "cell_type": "code",
   "execution_count": 33,
   "id": "99aa945d",
   "metadata": {},
   "outputs": [
    {
     "name": "stdout",
     "output_type": "stream",
     "text": [
      "arr[1,0]-> 4, arr[5, 3]-> 23, arr[7, 1]-> 29, arr[2, 2]-> 10\n"
     ]
    }
   ],
   "source": [
    "print(F\"arr[1,0]-> {arr[1,0]}, arr[5, 3]-> {arr[5, 3]}, arr[7, 1]-> {arr[7, 1]}, arr[2, 2]-> {arr[2, 2]}\")"
   ]
  },
  {
   "cell_type": "markdown",
   "id": "847e23e7",
   "metadata": {},
   "source": [
    "* 不論是多少維度的陣列，花式索引的回傳永遠都只有<font color=yellow>一維</font>\n",
    "* 花式索引也會將資料複製到新陣列中"
   ]
  },
  {
   "cell_type": "markdown",
   "id": "982ee378",
   "metadata": {},
   "source": [
    "## 轉置陣列和軸交換"
   ]
  },
  {
   "cell_type": "markdown",
   "id": "ae15693a",
   "metadata": {},
   "source": [
    "* 轉置是重新塑形(reshaping)的一種 -> 只會改變view，而不會把底層的資料重新安排"
   ]
  },
  {
   "cell_type": "code",
   "execution_count": 2,
   "id": "4e874bd3",
   "metadata": {},
   "outputs": [
    {
     "data": {
      "text/plain": [
       "array([[ 0,  1,  2,  3,  4],\n",
       "       [ 5,  6,  7,  8,  9],\n",
       "       [10, 11, 12, 13, 14]])"
      ]
     },
     "execution_count": 2,
     "metadata": {},
     "output_type": "execute_result"
    }
   ],
   "source": [
    "arr = np.arange(15).reshape((3, 5))\n",
    "arr"
   ]
  },
  {
   "cell_type": "code",
   "execution_count": 3,
   "id": "c2d4f9ae",
   "metadata": {},
   "outputs": [
    {
     "data": {
      "text/plain": [
       "array([[ 0,  5, 10],\n",
       "       [ 1,  6, 11],\n",
       "       [ 2,  7, 12],\n",
       "       [ 3,  8, 13],\n",
       "       [ 4,  9, 14]])"
      ]
     },
     "execution_count": 3,
     "metadata": {},
     "output_type": "execute_result"
    }
   ],
   "source": [
    "arr.T"
   ]
  },
  {
   "cell_type": "code",
   "execution_count": 4,
   "id": "b8574950",
   "metadata": {},
   "outputs": [
    {
     "data": {
      "text/plain": [
       "array([[-0.57147666, -0.75742865,  0.85837882],\n",
       "       [-0.28163651, -0.29703915,  0.06614556],\n",
       "       [ 0.94962645, -0.305832  ,  2.27782901],\n",
       "       [-1.59471205,  0.43612888,  1.98056067],\n",
       "       [-0.22073256, -1.7891879 , -0.34425358],\n",
       "       [ 0.87278217,  0.82957097,  0.843939  ]])"
      ]
     },
     "execution_count": 4,
     "metadata": {},
     "output_type": "execute_result"
    }
   ],
   "source": [
    "arr = np.random.randn(6,3)\n",
    "arr"
   ]
  },
  {
   "cell_type": "markdown",
   "id": "d8fc4cf2",
   "metadata": {},
   "source": [
    "* np.dot -> 內積"
   ]
  },
  {
   "cell_type": "code",
   "execution_count": 5,
   "id": "036637f9",
   "metadata": {},
   "outputs": [
    {
     "data": {
      "text/plain": [
       "array([[ 4.66127321,  0.64955051, -0.69194688],\n",
       "       [ 0.64955051,  4.83505337,  0.81337978],\n",
       "       [-0.69194688,  0.81337978, 10.68305857]])"
      ]
     },
     "execution_count": 5,
     "metadata": {},
     "output_type": "execute_result"
    }
   ],
   "source": [
    "np.dot(arr.T, arr)"
   ]
  },
  {
   "cell_type": "markdown",
   "id": "115dd4ed",
   "metadata": {},
   "source": [
    "* 更高維度的陣列 -> transpose可以接受軸編號tuple, 以這個tuple來排列軸\n",
    "* shape = (C, H, W) -> 有C個HXW的矩陣\n",
    "* <font color=yellow>軸的編號方式: array[第0軸][第1軸][第2軸]...</font>\n",
    "* transpose接收的tuple實際上就是在交換軸編號"
   ]
  },
  {
   "cell_type": "code",
   "execution_count": 3,
   "id": "99b77621",
   "metadata": {},
   "outputs": [
    {
     "data": {
      "text/plain": [
       "array([[[ 0,  1,  2,  3],\n",
       "        [ 4,  5,  6,  7]],\n",
       "\n",
       "       [[ 8,  9, 10, 11],\n",
       "        [12, 13, 14, 15]]])"
      ]
     },
     "execution_count": 3,
     "metadata": {},
     "output_type": "execute_result"
    }
   ],
   "source": [
    "arr = np.arange(16).reshape((2, 2, 4))\n",
    "arr"
   ]
  },
  {
   "cell_type": "code",
   "execution_count": 6,
   "id": "b4f1a6ba",
   "metadata": {},
   "outputs": [
    {
     "data": {
      "text/plain": [
       "array([[[ 0,  1,  2,  3],\n",
       "        [ 4,  5,  6,  7]],\n",
       "\n",
       "       [[ 8,  9, 10, 11],\n",
       "        [12, 13, 14, 15]]])"
      ]
     },
     "execution_count": 6,
     "metadata": {},
     "output_type": "execute_result"
    }
   ],
   "source": [
    "arr"
   ]
  },
  {
   "cell_type": "code",
   "execution_count": 14,
   "id": "0021a63b",
   "metadata": {},
   "outputs": [
    {
     "name": "stdout",
     "output_type": "stream",
     "text": [
      "第0軸: (0, 8)\n",
      "第1軸: (0, 4)\n",
      "第2軸: (0, 1, 2, 3)\n"
     ]
    }
   ],
   "source": [
    "print(F\"第0軸: {arr[0][0][0],arr[1][0][0]}\")\n",
    "print(F\"第1軸: {arr[0][0][0],arr[0][1][0]}\")\n",
    "print(F\"第2軸: {arr[0][0][0],arr[0][0][1],arr[0][0][2],arr[0][0][3]}\")"
   ]
  },
  {
   "attachments": {
    "image.png": {
     "image/png": "[encoded data removed]"
    }
   },
   "cell_type": "markdown",
   "id": "832476ab",
   "metadata": {},
   "source": [
    "![image.png](attachment:image.png)"
   ]
  },
  {
   "cell_type": "markdown",
   "id": "864e136e",
   "metadata": {},
   "source": [
    "* 將第0軸與第1軸編號交換\n",
    "* arr.transpose((1,0,2))"
   ]
  },
  {
   "cell_type": "code",
   "execution_count": 18,
   "id": "05c3aa13",
   "metadata": {},
   "outputs": [
    {
     "data": {
      "text/plain": [
       "array([[[ 0,  1,  2,  3],\n",
       "        [ 8,  9, 10, 11]],\n",
       "\n",
       "       [[ 4,  5,  6,  7],\n",
       "        [12, 13, 14, 15]]])"
      ]
     },
     "execution_count": 18,
     "metadata": {},
     "output_type": "execute_result"
    }
   ],
   "source": [
    "arr_T = arr.transpose((1,0,2))  # ->軸編號位置交換\n",
    "arr_T"
   ]
  },
  {
   "attachments": {
    "image.png": {
     "image/png": "[encoded data removed]"
    }
   },
   "cell_type": "markdown",
   "id": "5ed1f041",
   "metadata": {},
   "source": [
    "![image.png](attachment:image.png)"
   ]
  },
  {
   "cell_type": "code",
   "execution_count": 20,
   "id": "6fa6ff1d",
   "metadata": {},
   "outputs": [
    {
     "name": "stdout",
     "output_type": "stream",
     "text": [
      "原軸(0, 1, 2)\n",
      "第0軸: (0, 8)\n",
      "第1軸: (0, 4)\n",
      "第2軸: (0, 1, 2, 3)\n",
      "********************************************************************************\n",
      "新軸(1, 0, 2)\n",
      "第0軸: (0, 4)\n",
      "第1軸: (0, 8)\n",
      "第2軸: (0, 1, 2, 3)\n"
     ]
    }
   ],
   "source": [
    "print(\"原軸(0, 1, 2)\")\n",
    "print(F\"第0軸: {arr[0][0][0],arr[1][0][0]}\")\n",
    "print(F\"第1軸: {arr[0][0][0],arr[0][1][0]}\")\n",
    "print(F\"第2軸: {arr[0][0][0],arr[0][0][1],arr[0][0][2],arr[0][0][3]}\")\n",
    "print(\"*\"*80)\n",
    "print('新軸(1, 0, 2)')\n",
    "print(F\"第0軸: {arr_T[0][0][0],arr_T[1][0][0]}\")\n",
    "print(F\"第1軸: {arr_T[0][0][0],arr_T[0][1][0]}\")\n",
    "print(F\"第2軸: {arr_T[0][0][0],arr_T[0][0][1],arr_T[0][0][2],arr_T[0][0][3]}\")"
   ]
  },
  {
   "cell_type": "markdown",
   "id": "cf113598",
   "metadata": {},
   "source": [
    "* swapaxes() -> 自行指定要互換的軸編號，然後將資料重新排過\n",
    "* swqpaxes不會進行<font color=yellow>資料複製</font>，只會回傳view"
   ]
  },
  {
   "cell_type": "markdown",
   "id": "bba45aff",
   "metadata": {},
   "source": [
    "## 4.2 全域函式: 快速元素級別陣列函式"
   ]
  },
  {
   "cell_type": "markdown",
   "id": "de1ec8aa",
   "metadata": {},
   "source": [
    "* 是一種對ndarray裡的資料執行元素級別運算的函式，也稱*ufunc\n",
    "* 一般函式 -> 可以接受一或多個常量並輸出一到多個常量\n",
    "* 全域函式 -> 像是包裝了一般函式，把一般函式變成具有<font color=whiteblue>快速向量能力</font>的函式"
   ]
  },
  {
   "cell_type": "code",
   "execution_count": 3,
   "id": "b13de528",
   "metadata": {},
   "outputs": [
    {
     "data": {
      "text/plain": [
       "array([0, 1, 2, 3, 4, 5, 6, 7, 8, 9])"
      ]
     },
     "execution_count": 3,
     "metadata": {},
     "output_type": "execute_result"
    }
   ],
   "source": [
    "arr = np.arange(10)\n",
    "arr"
   ]
  },
  {
   "cell_type": "code",
   "execution_count": 4,
   "id": "918bae96",
   "metadata": {},
   "outputs": [
    {
     "data": {
      "text/plain": [
       "array([0.        , 1.        , 1.41421356, 1.73205081, 2.        ,\n",
       "       2.23606798, 2.44948974, 2.64575131, 2.82842712, 3.        ])"
      ]
     },
     "execution_count": 4,
     "metadata": {},
     "output_type": "execute_result"
    }
   ],
   "source": [
    "np.sqrt(arr)"
   ]
  },
  {
   "cell_type": "code",
   "execution_count": 5,
   "id": "cbcfc6e8",
   "metadata": {},
   "outputs": [
    {
     "data": {
      "text/plain": [
       "array([1.00000000e+00, 2.71828183e+00, 7.38905610e+00, 2.00855369e+01,\n",
       "       5.45981500e+01, 1.48413159e+02, 4.03428793e+02, 1.09663316e+03,\n",
       "       2.98095799e+03, 8.10308393e+03])"
      ]
     },
     "execution_count": 5,
     "metadata": {},
     "output_type": "execute_result"
    }
   ],
   "source": [
    "np.exp(arr)"
   ]
  },
  {
   "cell_type": "markdown",
   "id": "9239d0cf",
   "metadata": {},
   "source": [
    "* 以上為<font color=yellow>一元(unary)</font>全域函式"
   ]
  },
  {
   "cell_type": "code",
   "execution_count": 6,
   "id": "2ae3b632",
   "metadata": {},
   "outputs": [
    {
     "data": {
      "text/plain": [
       "array([-0.60123111, -0.22484054, -0.70044175,  0.52298154,  1.08886217,\n",
       "       -0.13066983, -0.00942479, -0.78619133])"
      ]
     },
     "execution_count": 6,
     "metadata": {},
     "output_type": "execute_result"
    }
   ],
   "source": [
    "x = np.random.randn(8)\n",
    "x"
   ]
  },
  {
   "cell_type": "code",
   "execution_count": 7,
   "id": "3e1a2ea9",
   "metadata": {},
   "outputs": [
    {
     "data": {
      "text/plain": [
       "array([ 0.97291476, -0.24297682,  0.25238767, -0.46560801, -1.19130341,\n",
       "        0.06999507, -0.71969793,  0.54101444])"
      ]
     },
     "execution_count": 7,
     "metadata": {},
     "output_type": "execute_result"
    }
   ],
   "source": [
    "y = np.random.randn(8)\n",
    "y"
   ]
  },
  {
   "cell_type": "code",
   "execution_count": 8,
   "id": "e766d7ac",
   "metadata": {},
   "outputs": [
    {
     "data": {
      "text/plain": [
       "array([ 0.97291476, -0.22484054,  0.25238767,  0.52298154,  1.08886217,\n",
       "        0.06999507, -0.00942479,  0.54101444])"
      ]
     },
     "execution_count": 8,
     "metadata": {},
     "output_type": "execute_result"
    }
   ],
   "source": [
    "np.maximum(x, y)"
   ]
  },
  {
   "cell_type": "markdown",
   "id": "9a875e6d",
   "metadata": {},
   "source": [
    "* 以上為<font color=yellow>二元(binary)</font>全域函式\n",
    "* np.maximum(arr1, arr2) -> 會在arr1以及arr2中逐元素找出較大元素"
   ]
  },
  {
   "cell_type": "markdown",
   "id": "3a9d7640",
   "metadata": {},
   "source": [
    "* 少數全域函式會回傳多個陣列，modf就是一個例子\n",
    "* 它是python內建divmod的向量版本，能將一個浮點數陣列中的分數和整數部分分開回傳"
   ]
  },
  {
   "cell_type": "code",
   "execution_count": 10,
   "id": "ef6ff763",
   "metadata": {},
   "outputs": [
    {
     "data": {
      "text/plain": [
       "array([ 0.45321381,  3.58078199,  3.11057096,  0.47374145, -5.40458328,\n",
       "        1.5087651 ,  4.50978755])"
      ]
     },
     "execution_count": 10,
     "metadata": {},
     "output_type": "execute_result"
    }
   ],
   "source": [
    "arr = np.random.randn(7) * 5\n",
    "arr"
   ]
  },
  {
   "cell_type": "code",
   "execution_count": 11,
   "id": "690ddf10",
   "metadata": {},
   "outputs": [],
   "source": [
    "remainder, whole_part = np.modf(arr)"
   ]
  },
  {
   "cell_type": "code",
   "execution_count": 12,
   "id": "df740b7c",
   "metadata": {},
   "outputs": [
    {
     "data": {
      "text/plain": [
       "array([ 0.45321381,  0.58078199,  0.11057096,  0.47374145, -0.40458328,\n",
       "        0.5087651 ,  0.50978755])"
      ]
     },
     "execution_count": 12,
     "metadata": {},
     "output_type": "execute_result"
    }
   ],
   "source": [
    "remainder"
   ]
  },
  {
   "cell_type": "code",
   "execution_count": 13,
   "id": "104720d9",
   "metadata": {},
   "outputs": [
    {
     "data": {
      "text/plain": [
       "array([ 0.,  3.,  3.,  0., -5.,  1.,  4.])"
      ]
     },
     "execution_count": 13,
     "metadata": {},
     "output_type": "execute_result"
    }
   ],
   "source": [
    "whole_part"
   ]
  },
  {
   "cell_type": "markdown",
   "id": "e9b6faeb",
   "metadata": {},
   "source": [
    "* 可在全域函式使用out參數 -> 可將運算以in-place形式在原陣列完成"
   ]
  },
  {
   "cell_type": "code",
   "execution_count": 14,
   "id": "a3ccd10e",
   "metadata": {},
   "outputs": [
    {
     "data": {
      "text/plain": [
       "array([ 0.45321381,  3.58078199,  3.11057096,  0.47374145, -5.40458328,\n",
       "        1.5087651 ,  4.50978755])"
      ]
     },
     "execution_count": 14,
     "metadata": {},
     "output_type": "execute_result"
    }
   ],
   "source": [
    "arr"
   ]
  },
  {
   "cell_type": "code",
   "execution_count": 16,
   "id": "dd3bf9b8",
   "metadata": {},
   "outputs": [
    {
     "name": "stderr",
     "output_type": "stream",
     "text": [
      "<ipython-input-16-70ffef92fcf5>:1: RuntimeWarning: invalid value encountered in sqrt\n",
      "  np.sqrt(arr, out=arr)\n"
     ]
    },
    {
     "data": {
      "text/plain": [
       "array([0.67321156, 1.89229543, 1.76368108, 0.68828878,        nan,\n",
       "       1.22831799, 2.12362604])"
      ]
     },
     "execution_count": 16,
     "metadata": {},
     "output_type": "execute_result"
    }
   ],
   "source": [
    "np.sqrt(arr, out=arr)\n",
    "arr"
   ]
  },
  {
   "cell_type": "code",
   "execution_count": null,
   "id": "8474fef6",
   "metadata": {},
   "outputs": [],
   "source": []
  }
 ],
 "metadata": {
  "kernelspec": {
   "display_name": "Python 3",
   "language": "python",
   "name": "python3"
  },
  "language_info": {
   "codemirror_mode": {
    "name": "ipython",
    "version": 3
   },
   "file_extension": ".py",
   "mimetype": "text/x-python",
   "name": "python",
   "nbconvert_exporter": "python",
   "pygments_lexer": "ipython3",
   "version": "3.9.5"
  }
 },
 "nbformat": 4,
 "nbformat_minor": 5
}
