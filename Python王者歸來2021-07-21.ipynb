{
 "cells": [
  {
   "cell_type": "markdown",
   "id": "8c3c3ed5",
   "metadata": {},
   "source": [
    "## 11-6-8\n",
    "* 閉包Closure\n",
    " * 內部函數是一個動態產生的程式，當它可以記住函數以外的程式所建立的環境變數數值時，稱此內部函數是閉包"
   ]
  },
  {
   "cell_type": "code",
   "execution_count": 1,
   "id": "9728b079",
   "metadata": {},
   "outputs": [
    {
     "name": "stdout",
     "output_type": "stream",
     "text": [
      "20\n"
     ]
    }
   ],
   "source": [
    "#ch11_25_7\n",
    "def outer():\n",
    "    b = 10\n",
    "    def inner(x):\n",
    "        return 5 * x + b\n",
    "    return inner\n",
    "\n",
    "b = 2\n",
    "f = outer()\n",
    "print(f(b))"
   ]
  },
  {
   "cell_type": "code",
   "execution_count": 2,
   "id": "c8ca24e7",
   "metadata": {},
   "outputs": [
    {
     "name": "stdout",
     "output_type": "stream",
     "text": [
      "3 13\n"
     ]
    }
   ],
   "source": [
    "#ch11_25_8\n",
    "def outer(a, b):\n",
    "    \"\"\"\n",
    "    a and b is the variables of function inner()\n",
    "    \"\"\"\n",
    "    def inner(x):\n",
    "        return a * x + b\n",
    "    return inner\n",
    "\n",
    "f1 = outer(1, 2)\n",
    "f2 = outer(3, 4)\n",
    "print(f1(1), f2(3))"
   ]
  },
  {
   "cell_type": "markdown",
   "id": "38463a37",
   "metadata": {},
   "source": [
    "## 11-7遞迴函式(recursive)\n",
    "### 一個函數可以呼叫自己\n",
    " * 每次呼叫自己時都會使範圍縮小\n",
    "  * 必須有一個終止條件\n",
    "  * 堆疊(stack) -> 後進先出\n",
    "  * sys.getrecursionlimit()顯示python最大遞迴次數\n",
    "  * sys.setrecursionlimit(value)設定Python最大遞迴次數"
   ]
  },
  {
   "cell_type": "code",
   "execution_count": 4,
   "id": "c912f93c",
   "metadata": {},
   "outputs": [
    {
     "name": "stdout",
     "output_type": "stream",
     "text": [
      "The factorial 3 is 1\n",
      "The factorial 5 is 1\n"
     ]
    }
   ],
   "source": [
    "#ch11_26\n",
    "def factorial(n):\n",
    "    \"\"\"calcualte the n!\"\"\"\n",
    "    if n == 1:\n",
    "        return 1\n",
    "    else:\n",
    "        return (factorial(n-1))\n",
    "\n",
    "value = 3\n",
    "print(F\"The factorial {value} is {factorial(value)}\")\n",
    "value = 5\n",
    "print(F\"The factorial {value} is {factorial(value)}\")"
   ]
  },
  {
   "cell_type": "code",
   "execution_count": 7,
   "id": "60737a12",
   "metadata": {},
   "outputs": [
    {
     "data": {
      "text/plain": [
       "3000"
      ]
     },
     "execution_count": 7,
     "metadata": {},
     "output_type": "execute_result"
    }
   ],
   "source": [
    "import sys\n",
    "sys.getrecursionlimit()"
   ]
  },
  {
   "cell_type": "markdown",
   "id": "ce64da62",
   "metadata": {},
   "source": [
    "## 11-8區域變數與全域變數\n",
    "* 某個變數只有在該函數內使用，影響範圍限定在這個函數內 -> 區域變數(Local variable)\n",
    "* 某個變數影響範圍為整個函式 -> 全域變數(golbal variable)"
   ]
  },
  {
   "cell_type": "markdown",
   "id": "204ccb68",
   "metadata": {},
   "source": [
    "### 11-8-1"
   ]
  },
  {
   "cell_type": "code",
   "execution_count": 1,
   "id": "367d9a5e",
   "metadata": {},
   "outputs": [
    {
     "name": "stdout",
     "output_type": "stream",
     "text": [
      "Main function print: Global Variable\n",
      "函數列印: Global Variable\n"
     ]
    }
   ],
   "source": [
    "#ch11_27\n",
    "def printmsg():\n",
    "    \"\"\"函數本身沒有定義變數，只有執行列印全域變數功能\"\"\"\n",
    "    print(F\"函數列印: {msg}\")\n",
    "msg = \"Global Variable\"\n",
    "print(F\"Main function print: {msg}\")\n",
    "printmsg()"
   ]
  },
  {
   "cell_type": "markdown",
   "id": "6e6e4b31",
   "metadata": {},
   "source": [
    "### 11-8-2\n",
    "* 全域變數與函數內的區域變數使用相同名稱時，Python會將相同名稱的變數視為不同變數\n",
    " * 區域變數所在的函數使用區域變數\n",
    " * 其他位置使用全域變數"
   ]
  },
  {
   "cell_type": "code",
   "execution_count": 2,
   "id": "13504f6b",
   "metadata": {},
   "outputs": [
    {
     "name": "stdout",
     "output_type": "stream",
     "text": [
      "Main function print: Global variable\n",
      "函數列印: Local variable\n"
     ]
    }
   ],
   "source": [
    "#ch11_28\n",
    "def printmsg():\n",
    "    \"\"\"函數本身有定義變數，將執行列印區域變數功能\"\"\"\n",
    "    msg = \"Local variable\"\n",
    "    print(F\"函數列印: {msg}\")\n",
    "msg = \"Global variable\"\n",
    "print(F\"Main function print: {msg}\")\n",
    "printmsg()"
   ]
  },
  {
   "cell_type": "markdown",
   "id": "e86e754e",
   "metadata": {},
   "source": [
    "### 11-8-3程式設計須注意事項\n",
    "* 區域變數內容無法在其他函數引用\n",
    "* 區域變數內容無法在主程式引用\n",
    "* 在函數內不能更改全域變數的值\n",
    "* 如果要在函數內存取或修改全域變數數值，需在函數內使用 global 宣告此變數"
   ]
  },
  {
   "cell_type": "code",
   "execution_count": 4,
   "id": "61cbee39",
   "metadata": {},
   "outputs": [
    {
     "name": "stdout",
     "output_type": "stream",
     "text": [
      "Global variable\n",
      "Global variable\n"
     ]
    }
   ],
   "source": [
    "# ch11-29\n",
    "def defmsg():\n",
    "    msg = \"printmsg variable\"\n",
    "    \n",
    "def printmsg():\n",
    "    print(msg)  # 列印defmsg()函數定義的區域變數\n",
    "print(msg)\n",
    "printmsg()"
   ]
  },
  {
   "cell_type": "markdown",
   "id": "a5b394fd",
   "metadata": {},
   "source": [
    "### 11-8-5 nonlocal變數\n",
    "* 用法語global相同，但是global是指最上層變數，nonlocal是指上一層變數"
   ]
  },
  {
   "cell_type": "code",
   "execution_count": 6,
   "id": "2e30d8cd",
   "metadata": {},
   "outputs": [
    {
     "name": "stdout",
     "output_type": "stream",
     "text": [
      "主程式輸出 var_global: 1\n",
      "主程式輸出 var_nonlocal: 2\n",
      "local fun輸出 var_global: 111\n",
      "local fun輸出 var_nonlocal: 222\n",
      "主程式輸出 var_global: 111\n",
      "主程式輸出 var_nonlocal: 2\n"
     ]
    }
   ],
   "source": [
    "# ch11-30-4\n",
    "def local_fun():\n",
    "    var_nonlocal = 22\n",
    "    def local_inner():\n",
    "        global var_global\n",
    "        nonlocal var_nonlocal\n",
    "        var_global = 111\n",
    "        var_nonlocal = 222\n",
    "    local_inner()\n",
    "    print(F\"local fun輸出 var_global: {var_global}\")\n",
    "    print(F\"local fun輸出 var_nonlocal: {var_nonlocal}\")\n",
    "\n",
    "var_global = 1\n",
    "var_nonlocal = 2\n",
    "print(F\"主程式輸出 var_global: {var_global}\")\n",
    "print(F\"主程式輸出 var_nonlocal: {var_nonlocal}\")\n",
    "local_fun()\n",
    "print(F\"主程式輸出 var_global: {var_global}\")\n",
    "print(F\"主程式輸出 var_nonlocal: {var_nonlocal}\")"
   ]
  },
  {
   "cell_type": "markdown",
   "id": "d9a27001",
   "metadata": {},
   "source": [
    "## 11-9匿名函數 lambda\n",
    "* 指沒有名稱的函數，適合使用在程式中指存在一小段時間的情況\n",
    "* 使用 lambda 來定義"
   ]
  },
  {
   "cell_type": "markdown",
   "id": "4d90fb1b",
   "metadata": {},
   "source": [
    "### 11-9-1 匿名函數的語法\n",
    "* 匿名函數最大特色是可以有許多參數，但是只有一個程式碼表達式，將執行結果傳回\n",
    "* lambda arg1, [, arg2, ... argn] : expression"
   ]
  },
  {
   "cell_type": "code",
   "execution_count": 7,
   "id": "64532753",
   "metadata": {},
   "outputs": [
    {
     "name": "stdout",
     "output_type": "stream",
     "text": [
      "100\n"
     ]
    }
   ],
   "source": [
    "# ch11-31\n",
    "# 一般函數\n",
    "def square(x):\n",
    "    value = x ** 2\n",
    "    return value\n",
    "\n",
    "print(square(10))"
   ]
  },
  {
   "cell_type": "code",
   "execution_count": 9,
   "id": "500a49b6",
   "metadata": {},
   "outputs": [
    {
     "name": "stdout",
     "output_type": "stream",
     "text": [
      "100\n"
     ]
    }
   ],
   "source": [
    "# ch11-32\n",
    "# lambda 函數\n",
    "square = lambda x: x ** 2\n",
    "print(square(10))"
   ]
  },
  {
   "cell_type": "markdown",
   "id": "a3d5cc54",
   "metadata": {},
   "source": [
    "### 11-9-2 使用lambda匿名函數的理由\n",
    "* lambda 更加的使用時機是存在一個函數的內部"
   ]
  },
  {
   "cell_type": "code",
   "execution_count": 10,
   "id": "a65eb565",
   "metadata": {},
   "outputs": [
    {
     "name": "stdout",
     "output_type": "stream",
     "text": [
      "25\n"
     ]
    }
   ],
   "source": [
    "# ch11-33-1\n",
    "def func(b):\n",
    "    return lambda x : 2 * x + b\n",
    "\n",
    "linear = func(5)\n",
    "print(linear(10))"
   ]
  },
  {
   "cell_type": "code",
   "execution_count": 11,
   "id": "6be44d83",
   "metadata": {},
   "outputs": [
    {
     "name": "stdout",
     "output_type": "stream",
     "text": [
      "25\n",
      "23\n"
     ]
    }
   ],
   "source": [
    "# ch11-33-2\n",
    "def func(b):\n",
    "    return lambda x : 2 * x + b\n",
    "\n",
    "linear = func(5)\n",
    "print(linear(10))\n",
    "\n",
    "linear2 = func(3)\n",
    "print(linear2(10))"
   ]
  },
  {
   "cell_type": "code",
   "execution_count": 12,
   "id": "0cb38818",
   "metadata": {},
   "outputs": [
    {
     "name": "stdout",
     "output_type": "stream",
     "text": [
      "My dream car is: Porsche\n",
      "My dream car is: Rolls Royce\n",
      "My dream car is: Maserati\n"
     ]
    }
   ],
   "source": [
    "# ch11-33-4\n",
    "def mycar(cars, func):\n",
    "    for car in cars:\n",
    "        print(func(car))\n",
    "        \n",
    "dreamscars = [\"porsche\", \"rolls royce\", \"maserati\"]\n",
    "mycar(dreamscars, lambda carbrand : F\"My dream car is: {carbrand.title()}\")"
   ]
  },
  {
   "cell_type": "markdown",
   "id": "0999482e",
   "metadata": {},
   "source": [
    "### 11-9-4匿名函數使用與filter()\n",
    "* 內建函數filter() -> 篩選序列\n",
    "* filter(func, iterable)\n",
    "* 依次對iterable的元素放數func內，然後將func()函數執行結果是True的元素組成新的篩選物件(filter object)傳回"
   ]
  },
  {
   "cell_type": "code",
   "execution_count": 13,
   "id": "1ed255af",
   "metadata": {},
   "outputs": [
    {
     "name": "stdout",
     "output_type": "stream",
     "text": [
      "奇數串列: [5, 15, 25]\n"
     ]
    }
   ],
   "source": [
    "# ch11-34 -> without lambda\n",
    "def oddfn(x):\n",
    "    return x if (x % 2 == 1) else None\n",
    "\n",
    "mylist = [5, 10, 15, 20, 25, 30]\n",
    "filter_object = filter(oddfn, mylist)\n",
    "\n",
    "print(F\"奇數串列: {[item for item in filter_object]}\")"
   ]
  },
  {
   "cell_type": "code",
   "execution_count": 14,
   "id": "99931769",
   "metadata": {},
   "outputs": [
    {
     "name": "stdout",
     "output_type": "stream",
     "text": [
      "奇數串列: [5, 15, 25]\n"
     ]
    }
   ],
   "source": [
    "# ch11-36 -> with lambda\n",
    "mylist = [5, 10, 15, 20, 25, 30]\n",
    "\n",
    "oddlist = list(filter(lambda x : (x % 2 == 1), mylist))\n",
    "print(F\"奇數串列: {oddlist}\")"
   ]
  },
  {
   "cell_type": "markdown",
   "id": "80a223f2",
   "metadata": {},
   "source": [
    "### 11-9-5匿名函數使用與map()\n",
    "* 內建函數map()\n",
    "* map(func, iterable)\n",
    "* map函數將對iterable重複執行func的動作，並將結果傳回"
   ]
  },
  {
   "cell_type": "code",
   "execution_count": 15,
   "id": "ed4cc513",
   "metadata": {},
   "outputs": [
    {
     "name": "stdout",
     "output_type": "stream",
     "text": [
      "平方串列: [25, 100, 225, 400, 625, 900]\n"
     ]
    }
   ],
   "source": [
    "# ch11-37\n",
    "mylist = [5, 10, 15, 20, 25, 30]\n",
    " \n",
    "squarelist = list(map(lambda x : x ** 2, mylist))\n",
    "\n",
    "print(F\"平方串列: {squarelist}\")"
   ]
  },
  {
   "cell_type": "markdown",
   "id": "083b0c32",
   "metadata": {},
   "source": [
    "### 11-9-6匿名函數使用與reduce()\n",
    "* reduce(func, iterable) -> func需有2個參數\n",
    "* 會先將iterable前兩個元素放入func裡面執行，然後再將傳回結果與第3個元素再放入func直到最後一個元素"
   ]
  },
  {
   "cell_type": "code",
   "execution_count": 16,
   "id": "e00abfd0",
   "metadata": {
    "scrolled": true
   },
   "outputs": [
    {
     "name": "stdout",
     "output_type": "stream",
     "text": [
      "Collecting functools\n",
      "  Downloading functools-0.5.tar.gz (4.9 kB)\n",
      "Building wheels for collected packages: functools\n",
      "  Building wheel for functools (setup.py): started\n",
      "  Building wheel for functools (setup.py): finished with status 'error'\n",
      "  Running setup.py clean for functools\n"
     ]
    },
    {
     "name": "stderr",
     "output_type": "stream",
     "text": [
      "  ERROR: Command errored out with exit status 1:\n",
      "   command: 'D:\\conda\\envs\\py39\\python.exe' -u -c 'import io, os, sys, setuptools, tokenize; sys.argv[0] = '\"'\"'C:\\\\Users\\\\user\\\\AppData\\\\Local\\\\Temp\\\\pip-install-a_eixr1w\\\\functools_26ec486d78334345a06e66afa4fb4d63\\\\setup.py'\"'\"'; __file__='\"'\"'C:\\\\Users\\\\user\\\\AppData\\\\Local\\\\Temp\\\\pip-install-a_eixr1w\\\\functools_26ec486d78334345a06e66afa4fb4d63\\\\setup.py'\"'\"';f = getattr(tokenize, '\"'\"'open'\"'\"', open)(__file__) if os.path.exists(__file__) else io.StringIO('\"'\"'from setuptools import setup; setup()'\"'\"');code = f.read().replace('\"'\"'\\r\\n'\"'\"', '\"'\"'\\n'\"'\"');f.close();exec(compile(code, __file__, '\"'\"'exec'\"'\"'))' bdist_wheel -d 'C:\\Users\\user\\AppData\\Local\\Temp\\pip-wheel-e1y7j_qj'\n",
      "       cwd: C:\\Users\\user\\AppData\\Local\\Temp\\pip-install-a_eixr1w\\functools_26ec486d78334345a06e66afa4fb4d63\\\n",
      "  Complete output (9 lines):\n",
      "  running bdist_wheel\n",
      "  running build\n",
      "  running build_py\n",
      "  creating build\n",
      "  creating build\\lib.win-amd64-3.9\n",
      "  copying functools.py -> build\\lib.win-amd64-3.9\n",
      "  running build_ext\n",
      "  building '_functools' extension\n",
      "  error: Microsoft Visual C++ 14.0 or greater is required. Get it with \"Microsoft C++ Build Tools\": https://visualstudio.microsoft.com/visual-cpp-build-tools/\n",
      "  ----------------------------------------\n",
      "  ERROR: Failed building wheel for functools\n",
      "    ERROR: Command errored out with exit status 1:\n",
      "     command: 'D:\\conda\\envs\\py39\\python.exe' -u -c 'import io, os, sys, setuptools, tokenize; sys.argv[0] = '\"'\"'C:\\\\Users\\\\user\\\\AppData\\\\Local\\\\Temp\\\\pip-install-a_eixr1w\\\\functools_26ec486d78334345a06e66afa4fb4d63\\\\setup.py'\"'\"'; __file__='\"'\"'C:\\\\Users\\\\user\\\\AppData\\\\Local\\\\Temp\\\\pip-install-a_eixr1w\\\\functools_26ec486d78334345a06e66afa4fb4d63\\\\setup.py'\"'\"';f = getattr(tokenize, '\"'\"'open'\"'\"', open)(__file__) if os.path.exists(__file__) else io.StringIO('\"'\"'from setuptools import setup; setup()'\"'\"');code = f.read().replace('\"'\"'\\r\\n'\"'\"', '\"'\"'\\n'\"'\"');f.close();exec(compile(code, __file__, '\"'\"'exec'\"'\"'))' install --record 'C:\\Users\\user\\AppData\\Local\\Temp\\pip-record-6x_m_se8\\install-record.txt' --single-version-externally-managed --compile --install-headers 'D:\\conda\\envs\\py39\\Include\\functools'\n",
      "         cwd: C:\\Users\\user\\AppData\\Local\\Temp\\pip-install-a_eixr1w\\functools_26ec486d78334345a06e66afa4fb4d63\\\n",
      "    Complete output (9 lines):\n",
      "    running install\n",
      "    running build\n",
      "    running build_py\n",
      "    creating build\n",
      "    creating build\\lib.win-amd64-3.9\n",
      "    copying functools.py -> build\\lib.win-amd64-3.9\n",
      "    running build_ext\n",
      "    building '_functools' extension\n",
      "    error: Microsoft Visual C++ 14.0 or greater is required. Get it with \"Microsoft C++ Build Tools\": https://visualstudio.microsoft.com/visual-cpp-build-tools/\n"
     ]
    },
    {
     "name": "stdout",
     "output_type": "stream",
     "text": [
      "Failed to build functools\n",
      "Installing collected packages: functools\n",
      "    Running setup.py install for functools: started\n",
      "    Running setup.py install for functools: finished with status 'error'\n"
     ]
    },
    {
     "name": "stderr",
     "output_type": "stream",
     "text": [
      "    ----------------------------------------\n",
      "ERROR: Command errored out with exit status 1: 'D:\\conda\\envs\\py39\\python.exe' -u -c 'import io, os, sys, setuptools, tokenize; sys.argv[0] = '\"'\"'C:\\\\Users\\\\user\\\\AppData\\\\Local\\\\Temp\\\\pip-install-a_eixr1w\\\\functools_26ec486d78334345a06e66afa4fb4d63\\\\setup.py'\"'\"'; __file__='\"'\"'C:\\\\Users\\\\user\\\\AppData\\\\Local\\\\Temp\\\\pip-install-a_eixr1w\\\\functools_26ec486d78334345a06e66afa4fb4d63\\\\setup.py'\"'\"';f = getattr(tokenize, '\"'\"'open'\"'\"', open)(__file__) if os.path.exists(__file__) else io.StringIO('\"'\"'from setuptools import setup; setup()'\"'\"');code = f.read().replace('\"'\"'\\r\\n'\"'\"', '\"'\"'\\n'\"'\"');f.close();exec(compile(code, __file__, '\"'\"'exec'\"'\"'))' install --record 'C:\\Users\\user\\AppData\\Local\\Temp\\pip-record-6x_m_se8\\install-record.txt' --single-version-externally-managed --compile --install-headers 'D:\\conda\\envs\\py39\\Include\\functools' Check the logs for full command output.\n"
     ]
    }
   ],
   "source": [
    "!pip install functools"
   ]
  },
  {
   "cell_type": "code",
   "execution_count": 3,
   "id": "c9fba985",
   "metadata": {},
   "outputs": [
    {
     "name": "stdout",
     "output_type": "stream",
     "text": [
      "x = 5497\n"
     ]
    }
   ],
   "source": [
    "# ch11-37-1\n",
    "from functools import reduce\n",
    "def str_to_int(string):\n",
    "    \n",
    "    def func(x, y):\n",
    "        return x * 10 + y\n",
    "    \n",
    "    def char_to_num(string):\n",
    "#         print(F\"s: {type(string)} -> {string}\")\n",
    "#         mydict = {\"0\": 0, \"1\": 1, \"2\": 2, \"3\": 3, \"4\": 4, \"5\": 5, \"6\": 6, \"7\": 7, \"8\": 8, \"9\": 9}\n",
    "#         n = mydict[string]\n",
    "#         print(F\"n: {type(n)} -> {n}\")\n",
    "#         return n\n",
    "        return {\"0\": 0, \"1\": 1, \"2\": 2, \"3\": 3, \"4\": 4, \"5\": 5, \"6\": 6, \"7\": 7, \"8\": 8, \"9\": 9}[string]\n",
    "        \n",
    "    \n",
    "    return reduce(func, map(char_to_num, string))\n",
    "\n",
    "str_ = \"5487\"\n",
    "x = str_to_int(str_) + 10\n",
    "print(F\"x = {x}\")"
   ]
  },
  {
   "cell_type": "code",
   "execution_count": 6,
   "id": "253f6268",
   "metadata": {},
   "outputs": [
    {
     "name": "stdout",
     "output_type": "stream",
     "text": [
      "x = 5497\n"
     ]
    }
   ],
   "source": [
    "# ch11-37-4 use lambda\n",
    "from functools import reduce\n",
    "def strToInt(s):\n",
    "    def charToNum(s):\n",
    "        return {\"0\": 0, \"1\": 1, \"2\": 2, \"3\": 3, \"4\": 4, \"5\": 5, \"6\": 6, \"7\": 7, \"8\": 8, \"9\": 9}[s]\n",
    "    return reduce(lambda x, y : 10 * x + y, map(charToNum, s))\n",
    "\n",
    "string = \"5487\"\n",
    "x = strToInt(string) + 10\n",
    "print(F\"x = {x}\")"
   ]
  },
  {
   "cell_type": "markdown",
   "id": "6c415e5a",
   "metadata": {},
   "source": [
    "## 11-12range()\n",
    "* range物件不需預先儲存所有序列範圍的數值 -> 可節省記憶體，增加效率\n",
    "* 每次迭代時，會記得上次呼叫的位置同時回傳下一個位置"
   ]
  },
  {
   "cell_type": "code",
   "execution_count": 7,
   "id": "d18f620b",
   "metadata": {},
   "outputs": [
    {
     "name": "stdout",
     "output_type": "stream",
     "text": [
      "<class 'function'>\n",
      "0\n",
      "1\n",
      "2\n",
      "3\n",
      "4\n"
     ]
    }
   ],
   "source": [
    "# ch11-39-4\n",
    "# 使用 yield 關鍵字來回傳n值 -> generator(生成器)\n",
    "def myRange(start=0, stop=100, step=1):\n",
    "    n = start\n",
    "    while n < stop:\n",
    "        yield n\n",
    "        n += step\n",
    "        \n",
    "print(type(myRange))\n",
    "\n",
    "for x in myRange(0, 5):\n",
    "    print(x)"
   ]
  },
  {
   "cell_type": "markdown",
   "id": "c0d3213e",
   "metadata": {},
   "source": [
    "## 11-13Decorator(裝飾器)\n",
    "* 也是一種函數\n",
    "* 裝飾器會接收一個函數，並回傳另一個函數\n",
    "* 可用來偵錯 -> ch11-39-4\n",
    "* 一個函數可以有2個以上的裝飾器，在函數上方設定即可\n",
    "* 有多個裝飾器時，順序會由下往上執行 -> 裝飾器堆疊(decorator stacking)"
   ]
  },
  {
   "cell_type": "code",
   "execution_count": 8,
   "id": "587dd884",
   "metadata": {},
   "outputs": [
    {
     "name": "stdout",
     "output_type": "stream",
     "text": [
      "函數名稱: greeting\n",
      "函數參數: Hello! Van\n",
      "HELLO! VAN\n"
     ]
    }
   ],
   "source": [
    "# ch11-39-2 \n",
    "# 手動裝飾器\n",
    "def upper(func):  # Decorator\n",
    "    def newFunc(args):\n",
    "        old_result = func(args)\n",
    "        new_result = old_result.upper()\n",
    "        print(F\"函數名稱: {func.__name__}\")\n",
    "        print(F\"函數參數: {args}\")\n",
    "        return new_result\n",
    "    return newFunc\n",
    "\n",
    "def greeting(string):  # Greeting function\n",
    "    return string\n",
    "\n",
    "my_greeting = upper(greeting)\n",
    "print(my_greeting(\"Hello! Van\"))"
   ]
  },
  {
   "cell_type": "code",
   "execution_count": 10,
   "id": "0f2a22bd",
   "metadata": {},
   "outputs": [
    {
     "name": "stdout",
     "output_type": "stream",
     "text": [
      "函數名稱: greeting\n",
      "函數參數: Hello! Van\n",
      "HELLO! VAN\n"
     ]
    }
   ],
   "source": [
    "# ch11-39-3\n",
    "def upper(func):\n",
    "    def newFunc(args):\n",
    "        old_result = func(args)\n",
    "        new_result = old_result.upper()\n",
    "        print(F\"函數名稱: {func.__name__}\")\n",
    "        print(F\"函數參數: {args}\")\n",
    "        return new_result\n",
    "    return newFunc\n",
    "\n",
    "@upper\n",
    "def greeting(string):\n",
    "    return string\n",
    "\n",
    "print(greeting(\"Hello! Van\"))"
   ]
  },
  {
   "cell_type": "code",
   "execution_count": 11,
   "id": "8e986e05",
   "metadata": {},
   "outputs": [
    {
     "name": "stdout",
     "output_type": "stream",
     "text": [
      "函數名稱: mydiv\n",
      "函數參數: (6, 2)\n",
      "執行結果: 3.0\n",
      "3.0\n",
      "函數名稱: mydiv\n",
      "函數參數: (6, 0)\n",
      "執行結果: 除數不可為0\n",
      "除數不可為0\n"
     ]
    }
   ],
   "source": [
    "# ch11-39-4\n",
    "def errcheck(func):\n",
    "    def newFunc(*args):\n",
    "        if args[1] != 0:\n",
    "            result = func(*args)\n",
    "        else:\n",
    "            result = \"除數不可為0\"\n",
    "        \n",
    "        print(F\"函數名稱: {func.__name__}\")\n",
    "        print(F\"函數參數: {args}\")\n",
    "        print(F\"執行結果: {result}\")\n",
    "        return result\n",
    "    return newFunc\n",
    "\n",
    "@errcheck\n",
    "def mydiv(x, y):\n",
    "    return x / y\n",
    "\n",
    "print(mydiv(6, 2))\n",
    "print(mydiv(6, 0))"
   ]
  },
  {
   "cell_type": "code",
   "execution_count": 1,
   "id": "3abb86e6",
   "metadata": {},
   "outputs": [
    {
     "name": "stdout",
     "output_type": "stream",
     "text": [
      "boldHELLO! VANbold\n"
     ]
    }
   ],
   "source": [
    "# ch11-39-5\n",
    "def upper(func):\n",
    "    def newFunc(args):\n",
    "        oldresult = func(args)\n",
    "        newresult = oldresult.upper()\n",
    "        return newresult\n",
    "    return newFunc\n",
    "\n",
    "def bold(func):\n",
    "    def wrapper(args):\n",
    "        return \"bold\" + func(args) + \"bold\"\n",
    "    return wrapper\n",
    "\n",
    "@bold\n",
    "@upper\n",
    "def greeting(string):\n",
    "    return string\n",
    "\n",
    "# 會先大寫再加bold\n",
    "print(greeting(\"Hello! Van\"))"
   ]
  },
  {
   "cell_type": "code",
   "execution_count": 2,
   "id": "0e9c65c9",
   "metadata": {},
   "outputs": [
    {
     "name": "stdout",
     "output_type": "stream",
     "text": [
      "BOLDHELLO! VANBOLD\n"
     ]
    }
   ],
   "source": [
    "# ch11-39-6\n",
    "def upper(func):\n",
    "    def newFunc(args):\n",
    "        oldresult = func(args)\n",
    "        newresult = oldresult.upper()\n",
    "        return newresult\n",
    "    return newFunc\n",
    "\n",
    "def bold(func):\n",
    "    def wrapper(args):\n",
    "        return \"bold\" + func(args) + \"bold\"\n",
    "    return wrapper\n",
    "\n",
    "@upper\n",
    "@bold\n",
    "def greeting(string):\n",
    "    return string\n",
    "\n",
    "# 會先加bold再大寫\n",
    "print(greeting(\"Hello! Van\"))"
   ]
  },
  {
   "cell_type": "markdown",
   "id": "1c66a7c7",
   "metadata": {},
   "source": [
    "## 11-14函數的應用"
   ]
  },
  {
   "cell_type": "markdown",
   "id": "9007a647",
   "metadata": {},
   "source": [
    "### 11-14-1用函數紀錄一篇文章的單字次數"
   ]
  },
  {
   "cell_type": "code",
   "execution_count": 4,
   "id": "e130f48a",
   "metadata": {},
   "outputs": [
    {
     "name": "stdout",
     "output_type": "stream",
     "text": [
      "將文字統一成小寫\n",
      "the russia-linked ransomware group behind some of the biggest recent cyberattacks has disappeared from the internet according to cnbc reuters and the washington post the websites operated by the group revil went down in the early hours of tuesday dmitri alperovitch former chief technology officer of the cyber firm crowdstrike told the post that the group's blog in the dark web is still reachable however its critical sites victims use to negotiate with the group and to receive decryption tools if they pay up are no longer available visitors to those websites now see a message that says \"a server with the specified hostname could not be found revil took responsibility for a recent string of ransomware attacks that affected around 800 to 1500 businesses worldwide including schools it demanded $70 million to restore the data it stole and encrypted before that experts linked the group to the ransomware attacks on it management software giant kaseya and beef supplier jbs which chose to pay us$11 million to get its data back \n",
      "it's unclear why revil's websites aren't accessible anymore as reuters mentioned ransomware gangs tend to vanish and rebrand in case they attract too much attention president biden recently revealed that he told russian president vladimir putin that he expects his government to act on ransomware attacks coming from his country when asked if the us would attack the servers russian cybercriminals use to hijack american networks biden answered with a resounding \"yes\"\n",
      "alperovitch told the post that it doesn't look like revil's servers were attacked which means it's unlikely a an offensive cyber operation launched by us authorities kurtis minder the founder of threat intelligence firm groupsense told reuters that if revil's sites going down truly was the result of an offensive operation mounted by the us government he hopes that \"collateral damage was a consideration\" bad actors hold the key to the data they take ransom and victims would have a tough time recovering theirs if that key gets destroyed or lost\n",
      "\n",
      "\n",
      "以下是歌曲串列\n",
      "['the', 'russia-linked', 'ransomware', 'group', 'behind', 'some', 'of', 'the', 'biggest', 'recent', 'cyberattacks', 'has', 'disappeared', 'from', 'the', 'internet', 'according', 'to', 'cnbc', 'reuters', 'and', 'the', 'washington', 'post', 'the', 'websites', 'operated', 'by', 'the', 'group', 'revil', 'went', 'down', 'in', 'the', 'early', 'hours', 'of', 'tuesday', 'dmitri', 'alperovitch', 'former', 'chief', 'technology', 'officer', 'of', 'the', 'cyber', 'firm', 'crowdstrike', 'told', 'the', 'post', 'that', 'the', \"group's\", 'blog', 'in', 'the', 'dark', 'web', 'is', 'still', 'reachable', 'however', 'its', 'critical', 'sites', 'victims', 'use', 'to', 'negotiate', 'with', 'the', 'group', 'and', 'to', 'receive', 'decryption', 'tools', 'if', 'they', 'pay', 'up', 'are', 'no', 'longer', 'available', 'visitors', 'to', 'those', 'websites', 'now', 'see', 'a', 'message', 'that', 'says', '\"a', 'server', 'with', 'the', 'specified', 'hostname', 'could', 'not', 'be', 'found', 'revil', 'took', 'responsibility', 'for', 'a', 'recent', 'string', 'of', 'ransomware', 'attacks', 'that', 'affected', 'around', '800', 'to', '1500', 'businesses', 'worldwide', 'including', 'schools', 'it', 'demanded', '$70', 'million', 'to', 'restore', 'the', 'data', 'it', 'stole', 'and', 'encrypted', 'before', 'that', 'experts', 'linked', 'the', 'group', 'to', 'the', 'ransomware', 'attacks', 'on', 'it', 'management', 'software', 'giant', 'kaseya', 'and', 'beef', 'supplier', 'jbs', 'which', 'chose', 'to', 'pay', 'us$11', 'million', 'to', 'get', 'its', 'data', 'back', \"it's\", 'unclear', 'why', \"revil's\", 'websites', \"aren't\", 'accessible', 'anymore', 'as', 'reuters', 'mentioned', 'ransomware', 'gangs', 'tend', 'to', 'vanish', 'and', 'rebrand', 'in', 'case', 'they', 'attract', 'too', 'much', 'attention', 'president', 'biden', 'recently', 'revealed', 'that', 'he', 'told', 'russian', 'president', 'vladimir', 'putin', 'that', 'he', 'expects', 'his', 'government', 'to', 'act', 'on', 'ransomware', 'attacks', 'coming', 'from', 'his', 'country', 'when', 'asked', 'if', 'the', 'us', 'would', 'attack', 'the', 'servers', 'russian', 'cybercriminals', 'use', 'to', 'hijack', 'american', 'networks', 'biden', 'answered', 'with', 'a', 'resounding', '\"yes\"', 'alperovitch', 'told', 'the', 'post', 'that', 'it', \"doesn't\", 'look', 'like', \"revil's\", 'servers', 'were', 'attacked', 'which', 'means', \"it's\", 'unlikely', 'a', 'an', 'offensive', 'cyber', 'operation', 'launched', 'by', 'us', 'authorities', 'kurtis', 'minder', 'the', 'founder', 'of', 'threat', 'intelligence', 'firm', 'groupsense', 'told', 'reuters', 'that', 'if', \"revil's\", 'sites', 'going', 'down', 'truly', 'was', 'the', 'result', 'of', 'an', 'offensive', 'operation', 'mounted', 'by', 'the', 'us', 'government', 'he', 'hopes', 'that', '\"collateral', 'damage', 'was', 'a', 'consideration\"', 'bad', 'actors', 'hold', 'the', 'key', 'to', 'the', 'data', 'they', 'take', 'ransom', 'and', 'victims', 'would', 'have', 'a', 'tough', 'time', 'recovering', 'theirs', 'if', 'that', 'key', 'gets', 'destroyed', 'or', 'lost']\n",
      "以下是執行結果\n",
      "{'coming': 1, 'recent': 2, 'websites': 3, 'jbs': 1, 'which': 2, 'vladimir': 1, 'washington': 1, 'restore': 1, 'server': 1, 'some': 1, 'ransom': 1, 'much': 1, 'blog': 1, 'resounding': 1, 'critical': 1, 'actors': 1, 'biggest': 1, 'post': 3, 'according': 1, 'and': 6, 'however': 1, 'on': 2, '1500': 1, 'as': 1, 'time': 1, 'behind': 1, 'by': 3, 'data': 3, 'when': 1, 'million': 2, 'tend': 1, 'going': 1, \"revil's\": 3, 'firm': 2, 'us$11': 1, 'longer': 1, 'servers': 2, 'putin': 1, 'software': 1, 'went': 1, 'it': 4, 'group': 4, 'cyber': 2, 'act': 1, 'ransomware': 5, 'technology': 1, 'use': 2, 'available': 1, 'says': 1, 'hijack': 1, 'tools': 1, 'or': 1, 'cnbc': 1, 'gangs': 1, 'recently': 1, 'president': 2, '\"yes\"': 1, 'russian': 2, 'reachable': 1, 'too': 1, 'why': 1, 'unlikely': 1, 'would': 2, 'specified': 1, 'minder': 1, 'attack': 1, 'could': 1, 'hopes': 1, 'founder': 1, 'management': 1, 'crowdstrike': 1, 'rebrand': 1, 'attract': 1, 'alperovitch': 2, 'cybercriminals': 1, 'tough': 1, 'receive': 1, '$70': 1, 'disappeared': 1, 'offensive': 2, 'from': 2, 'down': 2, 'pay': 2, 'threat': 1, \"group's\": 1, 'kaseya': 1, 'before': 1, 'a': 6, 'tuesday': 1, 'truly': 1, 'country': 1, 'networks': 1, 'supplier': 1, 'hold': 1, 'no': 1, '800': 1, 'the': 24, 'hours': 1, 'get': 1, 'he': 3, \"doesn't\": 1, 'biden': 2, 'intelligence': 1, 'message': 1, 'not': 1, 'damage': 1, 'cyberattacks': 1, 'linked': 1, 'are': 1, 'has': 1, 'told': 4, 'case': 1, 'revealed': 1, 'chose': 1, 'around': 1, '\"a': 1, 'officer': 1, 'anymore': 1, 'former': 1, 'was': 2, 'demanded': 1, 'early': 1, 'be': 1, 'they': 3, 'in': 3, 'up': 1, 'were': 1, 'that': 10, 'its': 2, 'affected': 1, 'like': 1, 'chief': 1, 'consideration\"': 1, 'destroyed': 1, 'now': 1, 'back': 1, 'still': 1, 'schools': 1, 'giant': 1, 'encrypted': 1, 'businesses': 1, 'with': 3, 'unclear': 1, 'attacked': 1, 'visitors': 1, 'decryption': 1, 'hostname': 1, 'responsibility': 1, 'reuters': 3, 'mentioned': 1, 'his': 2, 'string': 1, 'authorities': 1, 'answered': 1, 'groupsense': 1, 'accessible': 1, 'launched': 1, 'government': 2, 'mounted': 1, 'bad': 1, '\"collateral': 1, 'look': 1, 'key': 2, 'russia-linked': 1, 'us': 3, 'operated': 1, 'those': 1, 'including': 1, 'dmitri': 1, \"aren't\": 1, 'american': 1, 'attacks': 3, 'beef': 1, 'found': 1, 'for': 1, 'see': 1, 'vanish': 1, 'kurtis': 1, 'to': 13, 'theirs': 1, 'expects': 1, 'web': 1, 'sites': 2, 'an': 2, 'gets': 1, 'means': 1, 'revil': 2, 'have': 1, 'is': 1, 'result': 1, 'operation': 2, 'of': 6, 'attention': 1, 'dark': 1, 'took': 1, 'victims': 2, 'if': 4, 'stole': 1, 'worldwide': 1, 'lost': 1, 'recovering': 1, 'asked': 1, 'take': 1, \"it's\": 2, 'negotiate': 1, 'experts': 1, 'internet': 1}\n"
     ]
    }
   ],
   "source": [
    "# ch11-40\n",
    "def modify_song(song_str):\n",
    "    for char in song_str:\n",
    "        if char in \",.?\":\n",
    "            song_str = song_str.replace(char, \"\")\n",
    "    return song_str\n",
    "\n",
    "def word_count(song_count):\n",
    "    global mydict\n",
    "    song_list = song_count.split()\n",
    "    print(\"以下是歌曲串列\")\n",
    "    print(song_list)\n",
    "    mydict = {wd: song_list.count(wd) for wd in set(song_list)}\n",
    "    \n",
    "    \n",
    "data = \"\"\"The Russia-linked ransomware group behind some of the biggest recent cyberattacks has disappeared from the internet. According to CNBC, Reuters and The Washington Post, the websites operated by the group REvil went down in the early hours of Tuesday. Dmitri Alperovitch, former chief technology officer of the cyber firm CrowdStrike, told The Post that the group's blog in the dark web is still reachable. However, its critical sites victims use to negotiate with the group and to receive decryption tools if they pay up are no longer available. Visitors to those websites now see a message that says \"A server with the specified hostname could not be found.. REvil took responsibility for a recent string of ransomware attacks that affected around 800 to 1,500 businesses worldwide, including schools. It demanded $70 million to restore the data it stole and encrypted. Before that, experts linked the group to the ransomware attacks on IT management software giant Kaseya and beef supplier JBS, which chose to pay US$11 million to get its data back. \n",
    "It's unclear why REvil's websites aren't accessible anymore. As Reuters mentioned, ransomware gangs tend to vanish and rebrand in case they attract too much attention. President Biden recently revealed that he told Russian President Vladimir Putin that he expects his government to act on ransomware attacks coming from his country. When asked if the US would attack the servers Russian cybercriminals use to hijack American networks, Biden answered with a resounding \"Yes.\"\n",
    "Alperovitch told The Post that it doesn't look like REvil's servers were attacked, which means it's unlikely a an offensive cyber operation launched by US authorities. Kurtis Minder, the founder of threat intelligence firm GroupSense, told Reuters that if REvil's sites going down truly was the result of an offensive operation mounted by the US government, he hopes that \"collateral damage was a consideration.\" Bad actors hold the key to the data they take ransom, and victims would have a tough time recovering theirs if that key gets destroyed or lost.\n",
    "\"\"\"\n",
    "\n",
    "mydict = {}\n",
    "print(\"將文字統一成小寫\")\n",
    "word = modify_song(data.lower())\n",
    "print(word)\n",
    "print()\n",
    "\n",
    "word_count(word)\n",
    "print(\"以下是執行結果\")\n",
    "print(mydict)"
   ]
  },
  {
   "cell_type": "markdown",
   "id": "cba42a56",
   "metadata": {},
   "source": [
    "### 11-14-2質數Prime Number"
   ]
  },
  {
   "cell_type": "code",
   "execution_count": 5,
   "id": "5f18cbd2",
   "metadata": {},
   "outputs": [
    {
     "name": "stdout",
     "output_type": "stream",
     "text": [
      "Please input a number: 123\n",
      "123 is prime\n"
     ]
    }
   ],
   "source": [
    "# ch11-41\n",
    "def isPrimer(num):\n",
    "    for n in range(2, num):\n",
    "        if num % n == 0:\n",
    "            return False\n",
    "    return True\n",
    "\n",
    "num = int(input(\"Please input a number: \"))\n",
    "\n",
    "if isPrimer:\n",
    "    print(F\"{num} is prime\")\n",
    "else:\n",
    "    print(F\"{num} is not prime\")"
   ]
  },
  {
   "cell_type": "markdown",
   "id": "2024cfd1",
   "metadata": {},
   "source": [
    "## 11-15輾轉相除法"
   ]
  },
  {
   "cell_type": "markdown",
   "id": "8e1edfaa",
   "metadata": {},
   "source": [
    "### 11-15-4最大公因數(Greatest Common Divisor)"
   ]
  },
  {
   "cell_type": "code",
   "execution_count": 2,
   "id": "a345df7a",
   "metadata": {},
   "outputs": [
    {
     "name": "stdout",
     "output_type": "stream",
     "text": [
      "請輸入2個整數值: 100,456\n",
      "最大公因數是: 4\n"
     ]
    }
   ],
   "source": [
    "# ch11-42\n",
    "def gcd(a, b):\n",
    "    return a if b == 0 else gcd(b, a % b)\n",
    "\n",
    "a, b = eval(input(\"請輸入2個整數值: \"))\n",
    "print(F\"最大公因數是: {gcd(a, b)}\")"
   ]
  },
  {
   "cell_type": "markdown",
   "id": "adc04aaa",
   "metadata": {},
   "source": [
    "### 11-15-5最小公倍數(Least Common Multiple)\n",
    "* 最小公倍數 = 兩數相乘 / 最大公因數"
   ]
  },
  {
   "cell_type": "code",
   "execution_count": 3,
   "id": "77d085ce",
   "metadata": {},
   "outputs": [
    {
     "name": "stdout",
     "output_type": "stream",
     "text": [
      "請輸入2個整數值: 100,456\n",
      "最大公因數是: 4, 最小公倍數是: 11400\n"
     ]
    }
   ],
   "source": [
    "def gcd(a, b):\n",
    "    return a if b == 0 else gcd(b, a % b)\n",
    "\n",
    "def lcm(a, b):\n",
    "    return a * b  // gcd(a, b)\n",
    "\n",
    "\n",
    "a, b = eval(input(\"請輸入2個整數值: \"))\n",
    "print(F\"最大公因數是: {gcd(a, b)}, 最小公倍數是: {lcm(a, b)}\")"
   ]
  },
  {
   "cell_type": "markdown",
   "id": "0c5918cf",
   "metadata": {},
   "source": [
    "# Ch12 類別"
   ]
  },
  {
   "cell_type": "markdown",
   "id": "e475bb85",
   "metadata": {},
   "source": [
    "### 12-1-1定義類別\n",
    "* 函數 -> 可隨時呼叫\n",
    "* 方法 -> 寫在類別內的函數，只有屬於該類別內的物件才可調用\n",
    "* 調用類別的屬性及方法:\n",
    "    * object.類別屬性\n",
    "    * object.類別方法()"
   ]
  },
  {
   "cell_type": "code",
   "execution_count": 4,
   "id": "08a54abf",
   "metadata": {},
   "outputs": [
    {
     "name": "stdout",
     "output_type": "stream",
     "text": [
      "目前服務的銀行是: Taipei Bank\n",
      "銀行理念是: 以客為尊\n"
     ]
    }
   ],
   "source": [
    "#ch12-1\n",
    "class Banks():\n",
    "    \"\"\"定義銀行類別\"\"\"\n",
    "    \n",
    "    bank_name = 'Taipei Bank'  # -> 屬性\n",
    "    \n",
    "    def motto(self):  # -> 方法\n",
    "        return \"以客為尊\"\n",
    "    \n",
    "user_bank = Banks()  # 建立物件\n",
    "print(F\"目前服務的銀行是: {user_bank.bank_name}\")\n",
    "print(F\"銀行理念是: {user_bank.motto()}\")"
   ]
  },
  {
   "cell_type": "markdown",
   "id": "02a13e4f",
   "metadata": {},
   "source": [
    "### 12-1-3類別的建立方法\n",
    "* 初始化類別:\n",
    "    * 初始化方法: \\__init__()\n",
    "    * 又稱為建構子(Constructor)\n",
    "    * 雙底線開頭結尾的方法稱為魔術方法(dunders) -> 可以自行定義內容"
   ]
  },
  {
   "cell_type": "code",
   "execution_count": 5,
   "id": "df3c0732",
   "metadata": {},
   "outputs": [
    {
     "name": "stdout",
     "output_type": "stream",
     "text": [
      "van, 存款餘額為: 100\n"
     ]
    }
   ],
   "source": [
    "# ch12-3\n",
    "class Bank():\n",
    "    \"\"\"Define the bank class\"\"\"\n",
    "    bank_name = \"Taipei Bank\"\n",
    "    \n",
    "    def __init__(self, user_name, money):\n",
    "        self.user_name = user_name\n",
    "        self.money = money\n",
    "    \n",
    "    def get_balance(self):\n",
    "        return self.money\n",
    "    \n",
    "    def get_title(self):\n",
    "        return self.user_name\n",
    "\n",
    "van = Bank(\"van\", 100)\n",
    "print(F\"{van.get_title()}, 存款餘額為: {van.get_balance()}\")"
   ]
  },
  {
   "cell_type": "markdown",
   "id": "b9c60dd1",
   "metadata": {},
   "source": [
    "### 12-1-4屬性初始值設定"
   ]
  },
  {
   "cell_type": "code",
   "execution_count": 7,
   "id": "20378927",
   "metadata": {},
   "outputs": [
    {
     "name": "stdout",
     "output_type": "stream",
     "text": [
      "目前開戶銀行: Taipei Bank\n",
      "Van, 目前餘額為: 0\n",
      "存款 10000 完成!\n",
      "Van, 目前餘額為: 10000\n",
      "提款 500 完成!\n",
      "Van, 目前餘額為: 9500\n"
     ]
    }
   ],
   "source": [
    "class Bank():\n",
    "    def __init__(self, user_name):\n",
    "        self.name = user_name\n",
    "        self.balance = 0\n",
    "        self.bank_name = 'Taipei Bank'\n",
    "    \n",
    "    def save_money(self, money):\n",
    "        self.balance += money\n",
    "        print(F\"存款 {money} 完成!\")\n",
    "        \n",
    "    def withdraw_money(self, money):\n",
    "        self.balance -= money\n",
    "        print(F\"提款 {money} 完成!\")\n",
    "        \n",
    "    def get_balance(self):\n",
    "        print(F\"{self.name}, 目前餘額為: {self.balance}\")\n",
    "        \n",
    "van = Bank('Van')\n",
    "print(F\"目前開戶銀行: {van.bank_name}\")\n",
    "van.get_balance()\n",
    "van.save_money(10000)\n",
    "van.get_balance()\n",
    "van.withdraw_money(500)\n",
    "van.get_balance()"
   ]
  },
  {
   "cell_type": "markdown",
   "id": "cf0ab8c2",
   "metadata": {},
   "source": [
    "## 12-2類別的訪問權限-封裝(Encapsulation)\n",
    "* Public: 公有屬性、方法:\n",
    "    * 類別內屬性可被外部引用 -> 公有屬性\n",
    "    * 類別內方法可被外部引用 -> 公有方法\n",
    "    * 可被直接更改數值 -> 不安全  \n",
    " <br></br>\n",
    " \n",
    "* Private: 私有屬性、方法:\n",
    "    * 法1:\n",
    "        * 在屬性前增加雙底線: \\__attribute -> 外部透過特殊方式仍可以取得及修改(object_name.\\_class_name__attribute or 物件名稱.\\_類別名稱__私有屬性)\n",
    "        * Python沒有真正的私有方法、屬性\n",
    "    * 法2:\n",
    "        * 用設計方法限制外部存取 -> 推薦使用"
   ]
  },
  {
   "cell_type": "code",
   "execution_count": 9,
   "id": "c68497f1",
   "metadata": {},
   "outputs": [
    {
     "name": "stdout",
     "output_type": "stream",
     "text": [
      "目前開戶銀行: Taipei Bank\n",
      "Van, 目前餘額為: 0\n",
      "存款 10000 完成!\n",
      "Van, 目前餘額為: 10000\n",
      "提款 500 完成!\n",
      "Van, 目前餘額為: 9500\n",
      "外部直接修改值: van.balance = 9999999\n",
      "Van, 目前餘額為: 9999999\n"
     ]
    }
   ],
   "source": [
    "# ch12-2-1外部直接存取\n",
    "class Bank():\n",
    "    def __init__(self, user_name):\n",
    "        self.name = user_name\n",
    "        self.balance = 0\n",
    "        self.bank_name = 'Taipei Bank'\n",
    "    \n",
    "    def save_money(self, money):\n",
    "        self.balance += money\n",
    "        print(F\"存款 {money} 完成!\")\n",
    "        \n",
    "    def withdraw_money(self, money):\n",
    "        self.balance -= money\n",
    "        print(F\"提款 {money} 完成!\")\n",
    "        \n",
    "    def get_balance(self):\n",
    "        print(F\"{self.name}, 目前餘額為: {self.balance}\")\n",
    "        \n",
    "van = Bank('Van')\n",
    "print(F\"目前開戶銀行: {van.bank_name}\")\n",
    "van.get_balance()\n",
    "van.save_money(10000)\n",
    "van.get_balance()\n",
    "van.withdraw_money(500)\n",
    "van.get_balance()\n",
    "print(F\"外部直接修改值: van.balance = 9999999\")\n",
    "van.balance = 9999999\n",
    "van.get_balance()"
   ]
  },
  {
   "cell_type": "code",
   "execution_count": 11,
   "id": "0fd1af66",
   "metadata": {},
   "outputs": [
    {
     "ename": "AttributeError",
     "evalue": "'Bank' object has no attribute '__bank_name'",
     "output_type": "error",
     "traceback": [
      "\u001b[1;31m---------------------------------------------------------------------------\u001b[0m",
      "\u001b[1;31mAttributeError\u001b[0m                            Traceback (most recent call last)",
      "\u001b[1;32m<ipython-input-11-a5bf16c74b2c>\u001b[0m in \u001b[0;36m<module>\u001b[1;34m\u001b[0m\n\u001b[0;32m     18\u001b[0m \u001b[1;33m\u001b[0m\u001b[0m\n\u001b[0;32m     19\u001b[0m \u001b[0mvan\u001b[0m \u001b[1;33m=\u001b[0m \u001b[0mBank\u001b[0m\u001b[1;33m(\u001b[0m\u001b[1;34m'Van'\u001b[0m\u001b[1;33m)\u001b[0m\u001b[1;33m\u001b[0m\u001b[1;33m\u001b[0m\u001b[0m\n\u001b[1;32m---> 20\u001b[1;33m \u001b[0mprint\u001b[0m\u001b[1;33m(\u001b[0m\u001b[1;34mF\"目前開戶銀行: {van.__bank_name}\"\u001b[0m\u001b[1;33m)\u001b[0m\u001b[1;33m\u001b[0m\u001b[1;33m\u001b[0m\u001b[0m\n\u001b[0m\u001b[0;32m     21\u001b[0m \u001b[0mvan\u001b[0m\u001b[1;33m.\u001b[0m\u001b[0mget_balance\u001b[0m\u001b[1;33m(\u001b[0m\u001b[1;33m)\u001b[0m\u001b[1;33m\u001b[0m\u001b[1;33m\u001b[0m\u001b[0m\n\u001b[0;32m     22\u001b[0m \u001b[0mvan\u001b[0m\u001b[1;33m.\u001b[0m\u001b[0msave_money\u001b[0m\u001b[1;33m(\u001b[0m\u001b[1;36m10000\u001b[0m\u001b[1;33m)\u001b[0m\u001b[1;33m\u001b[0m\u001b[1;33m\u001b[0m\u001b[0m\n",
      "\u001b[1;31mAttributeError\u001b[0m: 'Bank' object has no attribute '__bank_name'"
     ]
    }
   ],
   "source": [
    "# ch12-8 雙底線私有屬性\n",
    "class Bank():\n",
    "    def __init__(self, user_name):\n",
    "        self.__name = user_name\n",
    "        self.__balance = 0\n",
    "        self.__bank_name = 'Taipei Bank'\n",
    "    \n",
    "    def save_money(self, money):\n",
    "        self.__balance += money\n",
    "        print(F\"存款 {money} 完成!\")\n",
    "        \n",
    "    def withdraw_money(self, money):\n",
    "        self.__balance -= money\n",
    "        print(F\"提款 {money} 完成!\")\n",
    "        \n",
    "    def get_balance(self):\n",
    "        print(F\"{self.__name}, 目前餘額為: {self.__balance}\")\n",
    "        \n",
    "van = Bank('Van')\n",
    "print(F\"目前開戶銀行: {van.__bank_name}\")\n",
    "van.get_balance()\n",
    "van.save_money(10000)\n",
    "van.get_balance()\n",
    "van.withdraw_money(500)\n",
    "van.get_balance()\n",
    "print(F\"外部直接修改值: van.balance = 9999999\")\n",
    "van.__balance = 9999999  # raise AttributeError: 'Bank' object has no attribute '__bank_name'\n",
    "van.get_balance()"
   ]
  },
  {
   "cell_type": "code",
   "execution_count": 12,
   "id": "5d1c3e07",
   "metadata": {},
   "outputs": [
    {
     "name": "stdout",
     "output_type": "stream",
     "text": [
      "Van, 目前餘額為: 9999999\n"
     ]
    }
   ],
   "source": [
    "# 破解 雙底線私有屬性\n",
    "van._Bank__balance = 9999999\n",
    "van.get_balance()"
   ]
  },
  {
   "cell_type": "markdown",
   "id": "b1a11a5a",
   "metadata": {},
   "source": [
    "### 12-2-2私有方法\n",
    "* 法1: 雙底線 -> 仍可被破解 -> object_name._class_name__method or 物件名稱._類別名稱__私有方法\n",
    "* 法2: 利用設計方法限制外部存取 -> 推薦"
   ]
  },
  {
   "cell_type": "code",
   "execution_count": 3,
   "id": "c6ab7cdf",
   "metadata": {},
   "outputs": [
    {
     "name": "stdout",
     "output_type": "stream",
     "text": [
      "50美金 可以兌換 1485台幣\n"
     ]
    }
   ],
   "source": [
    "# ch12-9\n",
    "class Bank():\n",
    "    \n",
    "    def __init__(self, name):\n",
    "        self.__name = name\n",
    "        self.__balance = 0\n",
    "        self.__bank_name = 'Taipet Bank'\n",
    "        self.__rate = 30\n",
    "        self.__service_charge = 0.01\n",
    "        \n",
    "    def save_money(self, money):\n",
    "        self.__balance += money\n",
    "        print(F\"存款 {money} 完成\")\n",
    "        \n",
    "    def withdraw_money(self, money):\n",
    "        self.__balance -= money\n",
    "        print(F\"提款 {money} 完成\")\n",
    "        \n",
    "    def get_balance(self):\n",
    "        print(F\"{self.__name}, 餘額為: {self.__balance}\")\n",
    "        \n",
    "    # 私有方法\n",
    "    def __cal_rate(self, usa_d):\n",
    "        \"\"\"計算換匯\"\"\"\n",
    "        return int(usa_d * self.__rate * (1 - self.__service_charge))\n",
    "        \n",
    "    def usa_to_taiwan(self, usa_d):\n",
    "        \"\"\"美金兌換台幣\"\"\"\n",
    "        return self.__cal_rate(usa_d)\n",
    "    \n",
    "    \n",
    "van = Bank('Van')\n",
    "us_dollar = 50\n",
    "print(F\"{us_dollar}美金 可以兌換 {van.usa_to_taiwan(us_dollar)}台幣\")"
   ]
  },
  {
   "cell_type": "code",
   "execution_count": 14,
   "id": "c72509d9",
   "metadata": {},
   "outputs": [
    {
     "data": {
      "text/plain": [
       "1485"
      ]
     },
     "execution_count": 14,
     "metadata": {},
     "output_type": "execute_result"
    }
   ],
   "source": [
    "# 破解私有方法\n",
    "van._Bank__cal_rate(50)"
   ]
  },
  {
   "cell_type": "markdown",
   "id": "c8f1295a",
   "metadata": {},
   "source": [
    "### 12-2-3 Python風格 -> property()\n",
    "* 新式屬性 = property(getter[, setter[, fdel[, doc]]])\n",
    "* getter -> 獲取屬性值函數, setter -> 設定屬性值函數, fdel -> 刪除屬性值函數, doc -> 屬性描述\n",
    "* 傳回新式屬性 -> 可以由此新式屬性存取私有內容\n",
    "* 外部無法直接存取私有屬性"
   ]
  },
  {
   "cell_type": "code",
   "execution_count": 15,
   "id": "a25405c0",
   "metadata": {},
   "outputs": [
    {
     "name": "stdout",
     "output_type": "stream",
     "text": [
      "Inside the class method get_score\n",
      "0\n",
      "Inside the class method set_score\n",
      "Inside the class method get_score\n",
      "80\n"
     ]
    }
   ],
   "source": [
    "# ch12-9-2\n",
    "class Score():\n",
    "    \n",
    "    def __init__(self, score):\n",
    "        self.__score = score\n",
    "        \n",
    "    def get_score(self):\n",
    "        print(\"Inside the class method get_score\")\n",
    "        return self.__score\n",
    "    \n",
    "    def set_score(self, score):\n",
    "        print(\"Inside the class method set_score\")\n",
    "        self.__score = score\n",
    "        \n",
    "van = Score(0)\n",
    "print(van.get_score())\n",
    "\n",
    "van.set_score(80)\n",
    "print(van.get_score())"
   ]
  },
  {
   "cell_type": "code",
   "execution_count": 17,
   "id": "ffd60cb5",
   "metadata": {},
   "outputs": [
    {
     "name": "stdout",
     "output_type": "stream",
     "text": [
      "Inside the class method get_score\n",
      "0\n",
      "Inside the class method set_score\n",
      "Inside the class method get_score\n",
      "80\n"
     ]
    }
   ],
   "source": [
    "# ch12-9-3\n",
    "class Score():\n",
    "    \n",
    "    def __init__(self, score):\n",
    "        self.__score = score\n",
    "        \n",
    "    def get_score(self):\n",
    "        print(\"Inside the class method get_score\")\n",
    "        return self.__score\n",
    "    \n",
    "    def set_score(self, score):\n",
    "        print(\"Inside the class method set_score\")\n",
    "        self.__score = score\n",
    "        \n",
    "    sc = property(get_score, set_score)\n",
    "    \n",
    "studentA = Score(0)\n",
    "print(studentA.sc)\n",
    "studentA.sc = 80\n",
    "print(studentA.sc)"
   ]
  },
  {
   "cell_type": "markdown",
   "id": "e8f7b6da",
   "metadata": {},
   "source": [
    "### 12-2-4 裝飾器 @property"
   ]
  },
  {
   "cell_type": "markdown",
   "id": "c70409dc",
   "metadata": {},
   "source": [
    "* @property -> 放在getter方法前\n",
    "* @property -> 放在setter方法後\n",
    "* 外部無法直接存取私有屬性"
   ]
  },
  {
   "cell_type": "code",
   "execution_count": 19,
   "id": "c0d73f57",
   "metadata": {},
   "outputs": [
    {
     "name": "stdout",
     "output_type": "stream",
     "text": [
      "Inside the class method get_score\n",
      "0\n",
      "Inside the class method set_score\n",
      "Inside the class method get_score\n",
      "80\n"
     ]
    }
   ],
   "source": [
    "# ch12-9-4\n",
    "class Score():\n",
    "    \n",
    "    def __init__(self, score):\n",
    "        self.__score = score\n",
    "        \n",
    "    @property\n",
    "    def sc(self):\n",
    "        print(\"Inside the class method get_score\")\n",
    "        return self.__score\n",
    "    \n",
    "    @sc.setter\n",
    "    def sc(self, score):\n",
    "        print(\"Inside the class method set_score\")\n",
    "        self.__score = score\n",
    "\n",
    "studentA = Score(0)\n",
    "print(studentA.sc)\n",
    "\n",
    "studentA.sc = 80\n",
    "print(studentA.sc)"
   ]
  },
  {
   "cell_type": "code",
   "execution_count": 20,
   "id": "debe32ef",
   "metadata": {},
   "outputs": [
    {
     "name": "stdout",
     "output_type": "stream",
     "text": [
      "100\n"
     ]
    }
   ],
   "source": [
    "# ch12-9-5\n",
    "class Square():\n",
    "    \n",
    "    def __init__(self, side_length):\n",
    "        self.side_length = side_length\n",
    "        \n",
    "    \n",
    "    @property\n",
    "    def area(self):\n",
    "        return self.side_length ** 2\n",
    "    \n",
    "obj = Square(10)\n",
    "print(obj.area)"
   ]
  },
  {
   "cell_type": "markdown",
   "id": "239c4816",
   "metadata": {},
   "source": [
    "### 方法與屬性的類型\n",
    "* 類別方法(屬性)可分為:\n",
    "    * 實例方法(屬性):\n",
    "        * 有self\n",
    "        * 所有方法的第一個參數是self\n",
    "    * 類別方法(屬性):\n",
    "        * 類別方法前面使用 @classmethod\n",
    "        * 第一個參數習慣使用 cls\n",
    "        * 不須實例化(實作)"
   ]
  },
  {
   "cell_type": "code",
   "execution_count": 22,
   "id": "60b20f0e",
   "metadata": {},
   "outputs": [
    {
     "name": "stdout",
     "output_type": "stream",
     "text": [
      "class method\n",
      "counter = 3\n",
      "counter = 3\n"
     ]
    }
   ],
   "source": [
    "# ch12-9-6\n",
    "class Counter():\n",
    "    counter = 0  # 類別屬性，可由類別本身調用\n",
    "    \n",
    "    def __init__(self):\n",
    "        Counter.counter += 1  # 更新指標\n",
    "        \n",
    "    @classmethod\n",
    "    # 類別方法，可由類別本身調用\n",
    "    def show_counter(cls):                 \n",
    "        print(\"class method\")\n",
    "        print(F\"counter = {cls.counter}\")\n",
    "        print(F\"counter = {Counter.counter}\")  # 也可使用Counter.counter調用\n",
    "        \n",
    "one = Counter()\n",
    "two = Counter()\n",
    "three = Counter()\n",
    "Counter.show_counter()\n"
   ]
  },
  {
   "cell_type": "markdown",
   "id": "3509d0f4",
   "metadata": {},
   "source": [
    "### 12-2-6 靜態方法\n",
    "* 靜態方法是使用 @staticmethod開頭\n",
    "* 不須self或cls"
   ]
  },
  {
   "cell_type": "code",
   "execution_count": 23,
   "id": "26ba64d9",
   "metadata": {},
   "outputs": [
    {
     "name": "stdout",
     "output_type": "stream",
     "text": [
      "I like pizza\n"
     ]
    }
   ],
   "source": [
    "# ch12-9-7\n",
    "class Pizza():\n",
    "    @staticmethod\n",
    "    def demo():\n",
    "        print(\"I like pizza\")\n",
    "        \n",
    "Pizza.demo()"
   ]
  },
  {
   "cell_type": "markdown",
   "id": "0d9b31f1",
   "metadata": {},
   "source": [
    "## 12-3類別的繼承\n",
    "* 被繼承的類別 -> 父類別(parent class)、基底類別(base class)、超類別(superclass)\n",
    "* 繼承的類別 -> 子類別(child class)、衍生類別(derived class)\n",
    "* <font color=yellow>父類別中的公有方法或屬性在子類別中不用重新設計</font>\n",
    "* <font color=orange>基底類別必須再衍生類別前面</font>"
   ]
  },
  {
   "cell_type": "markdown",
   "id": "b1c126a6",
   "metadata": {},
   "source": [
    "### 12-3-1衍生類別繼承基底類別的實例應用"
   ]
  },
  {
   "cell_type": "code",
   "execution_count": 2,
   "id": "781d0cfd",
   "metadata": {},
   "outputs": [
    {
     "name": "stdout",
     "output_type": "stream",
     "text": [
      "我住在高雄\n",
      "我住在高雄\n"
     ]
    }
   ],
   "source": [
    "# ch12-9-8\n",
    "class Father():\n",
    "    def hometown(self):\n",
    "        print(\"我住在高雄\")\n",
    "        \n",
    "class Son(Father):\n",
    "    pass\n",
    "\n",
    "van = Father()\n",
    "aa = Son()\n",
    "\n",
    "van.hometown()\n",
    "aa.hometown()"
   ]
  },
  {
   "cell_type": "markdown",
   "id": "47e6fd00",
   "metadata": {},
   "source": [
    "* 定義一個新的類別Shilin_Banks，沒有任何方法，直接引用基底類別的公有函數"
   ]
  },
  {
   "cell_type": "code",
   "execution_count": 4,
   "id": "40f01535",
   "metadata": {},
   "outputs": [
    {
     "name": "stdout",
     "output_type": "stream",
     "text": [
      "存款 500 完成\n",
      "van, 餘額為: 500\n"
     ]
    }
   ],
   "source": [
    "# ch12-10\n",
    "class Bank():\n",
    "    \n",
    "    def __init__(self, name):\n",
    "        self.__name = name\n",
    "        self.__balance = 0\n",
    "        self.__bank_name = 'Taipet Bank'\n",
    "        self.__rate = 30\n",
    "        self.__service_charge = 0.01\n",
    "        \n",
    "    def save_money(self, money):\n",
    "        self.__balance += money\n",
    "        print(F\"存款 {money} 完成\")\n",
    "        \n",
    "    def withdraw_money(self, money):\n",
    "        self.__balance -= money\n",
    "        print(F\"提款 {money} 完成\")\n",
    "        \n",
    "    def get_balance(self):\n",
    "        print(F\"{self.__name}, 餘額為: {self.__balance}\")\n",
    "        \n",
    "    # 私有方法\n",
    "    def __cal_rate(self, usa_d):\n",
    "        \"\"\"計算換匯\"\"\"\n",
    "        return int(usa_d * self.__rate * (1 - self.__service_charge))\n",
    "        \n",
    "    def usa_to_taiwan(self, usa_d):\n",
    "        \"\"\"美金兌換台幣\"\"\"\n",
    "        return self.__cal_rate(usa_d)\n",
    "    \n",
    "    \n",
    "# child class\n",
    "class Shilin_Bank(Bank):\n",
    "    pass\n",
    "\n",
    "van = Shilin_Bank('van')\n",
    "van.save_money(500)\n",
    "van.get_balance()"
   ]
  },
  {
   "cell_type": "markdown",
   "id": "0865ee39",
   "metadata": {},
   "source": [
    "### 12-3-2如何取得基底類別的私有屬性\n",
    "* 基於保護原因，類別定義外無法取得類別內<font color=yellow>私有屬性</font>\n",
    "* 使用 return 方式來取得回傳值"
   ]
  },
  {
   "cell_type": "code",
   "execution_count": 5,
   "id": "422139c5",
   "metadata": {},
   "outputs": [
    {
     "name": "stdout",
     "output_type": "stream",
     "text": [
      "Father class: 高雄市\n",
      "Son class: 高雄市\n"
     ]
    }
   ],
   "source": [
    "# ch12-10-1\n",
    "class Father():\n",
    "    def __init__(self):\n",
    "        self.__address = '高雄市'\n",
    "        \n",
    "    def get_address(self):\n",
    "        return self.__address\n",
    "    \n",
    "class Son(Father):\n",
    "    pass\n",
    "\n",
    "van = Father()\n",
    "aa = Son()\n",
    "\n",
    "print(F\"Father class: {van.get_address()}\")\n",
    "print(F\"Son class: {aa.get_address()}\")"
   ]
  },
  {
   "cell_type": "code",
   "execution_count": 7,
   "id": "f6b24ad0",
   "metadata": {},
   "outputs": [
    {
     "name": "stdout",
     "output_type": "stream",
     "text": [
      "Van的銀行是: Taipet Bank\n"
     ]
    }
   ],
   "source": [
    "class Bank():\n",
    "    \n",
    "    def __init__(self, name):\n",
    "        self.__name = name\n",
    "        self.__balance = 0\n",
    "        self.__bank_name = 'Taipet Bank'\n",
    "        self.__rate = 30\n",
    "        self.__service_charge = 0.01\n",
    "        \n",
    "    def save_money(self, money):\n",
    "        self.__balance += money\n",
    "        print(F\"存款 {money} 完成\")\n",
    "        \n",
    "    def withdraw_money(self, money):\n",
    "        self.__balance -= money\n",
    "        print(F\"提款 {money} 完成\")\n",
    "        \n",
    "    def get_balance(self):\n",
    "        print(F\"{self.__name}, 餘額為: {self.__balance}\")\n",
    "        \n",
    "    # 私有方法\n",
    "    def __cal_rate(self, usa_d):\n",
    "        \"\"\"計算換匯\"\"\"\n",
    "        return int(usa_d * self.__rate * (1 - self.__service_charge))\n",
    "        \n",
    "    def usa_to_taiwan(self, usa_d):\n",
    "        \"\"\"美金兌換台幣\"\"\"\n",
    "        return self.__cal_rate(usa_d)\n",
    "    \n",
    "    # get the bank name\n",
    "    def get_bank_name(self):\n",
    "        return self.__bank_name.title()\n",
    "    \n",
    "    # get the user name\n",
    "    def get_user_name(self):\n",
    "        return self.__name.title()\n",
    "    \n",
    "    \n",
    "# child class\n",
    "class Shilin_Bank(Bank):\n",
    "    pass\n",
    "\n",
    "van = Shilin_Bank('van')\n",
    "print(F\"{van.get_user_name()}的銀行是: {van.get_bank_name()}\")"
   ]
  },
  {
   "cell_type": "markdown",
   "id": "1784f8d2",
   "metadata": {},
   "source": [
    "### 12-3-3衍生類別與基底類別有相同名稱的屬性\n",
    "* 若衍生類別與基底類別有相同名稱的屬性或方法 -> Python會先尋找衍生類別，沒找到的話再找基底類別"
   ]
  },
  {
   "cell_type": "code",
   "execution_count": 11,
   "id": "2e879bb9",
   "metadata": {},
   "outputs": [
    {
     "name": "stdout",
     "output_type": "stream",
     "text": [
      "van: 我是工程師\n",
      "van學生: 我是學生\n"
     ]
    }
   ],
   "source": [
    "# ch12-11-1\n",
    "class Person():\n",
    "    def __init__(self, name):\n",
    "        self.name = name\n",
    "        \n",
    "    def job(self):\n",
    "        return \"我是工程師\"\n",
    "        \n",
    "class Student():\n",
    "    def __init__(self, name):\n",
    "        self.name = name + '學生'\n",
    "        \n",
    "    def job(self):\n",
    "        return '我是學生'\n",
    "        \n",
    "van = Person('van')\n",
    "van_student = Student('van')\n",
    "\n",
    "print(F\"{van.name}: {van.job()}\")\n",
    "print(F\"{van_student.name}: {van_student.job()}\")"
   ]
  },
  {
   "cell_type": "code",
   "execution_count": 9,
   "id": "c1a8e2c5",
   "metadata": {},
   "outputs": [
    {
     "name": "stdout",
     "output_type": "stream",
     "text": [
      "Van's bank = Taipet Bank\n",
      "Kevin's bank = Taipei Bank - Shilin Branch\n"
     ]
    }
   ],
   "source": [
    "# Father class\n",
    "class Bank():\n",
    "    \n",
    "    def __init__(self, name):\n",
    "        self.__name = name\n",
    "        self.__balance = 0\n",
    "        self.__bank_name = 'Taipet Bank'\n",
    "        self.__rate = 30\n",
    "        self.__service_charge = 0.01\n",
    "        \n",
    "    def save_money(self, money):\n",
    "        self.__balance += money\n",
    "        print(F\"存款 {money} 完成\")\n",
    "        \n",
    "    def withdraw_money(self, money):\n",
    "        self.__balance -= money\n",
    "        print(F\"提款 {money} 完成\")\n",
    "        \n",
    "    def get_balance(self):\n",
    "        print(F\"{self.__name}, 餘額為: {self.__balance}\")\n",
    "        \n",
    "    # 私有方法\n",
    "    def __cal_rate(self, usa_d):\n",
    "        \"\"\"計算換匯\"\"\"\n",
    "        return int(usa_d * self.__rate * (1 - self.__service_charge))\n",
    "        \n",
    "    def usa_to_taiwan(self, usa_d):\n",
    "        \"\"\"美金兌換台幣\"\"\"\n",
    "        return self.__cal_rate(usa_d)\n",
    "    \n",
    "    # get the bank name\n",
    "    def get_bank_name(self):\n",
    "        return self.__bank_name.title()\n",
    "    \n",
    "    # get the user name\n",
    "    def get_user_name(self):\n",
    "        return self.__name.title()\n",
    "    \n",
    "    \n",
    "# child class\n",
    "class Shilin_Bank(Bank):\n",
    "    def __init__(self, user_name):\n",
    "        self.__bank_name = 'Taipei Bank - Shilin Branch'\n",
    "        self.__name = user_name\n",
    "        \n",
    "    def get_user_name(self):\n",
    "        return self.__name.title()\n",
    "    \n",
    "    def get_bank_name(self):\n",
    "        return self.__bank_name.title()\n",
    "    \n",
    "van = Bank('van')\n",
    "print(F\"{van.get_user_name()}'s bank = {van.get_bank_name()}\")\n",
    "kevin = Shilin_Bank('kevin')\n",
    "print(F\"{kevin.get_user_name()}'s bank = {kevin.get_bank_name()}\")"
   ]
  },
  {
   "cell_type": "markdown",
   "id": "cab9e1b8",
   "metadata": {},
   "source": [
    "### 12-3-5衍生類別引用基底類別的方法\n",
    "* 使用super()"
   ]
  },
  {
   "cell_type": "code",
   "execution_count": 21,
   "id": "4e99863d",
   "metadata": {},
   "outputs": [
    {
     "name": "stdout",
     "output_type": "stream",
     "text": [
      "Lucy is 5 years old.\n",
      "Lucy is running\n",
      "My Pet Coco is 6 years old.\n",
      "My Pet Coco is running\n"
     ]
    }
   ],
   "source": [
    "# ch12-14\n",
    "class Animals():\n",
    "    \"\"\" Animal is father class\"\"\"\n",
    "    def __init__(self, animal_name, animal_age):\n",
    "        self.name = animal_name\n",
    "        self.age = animal_age\n",
    "        \n",
    "    def run(self):\n",
    "        print(F\"{self.name.title()} is running\")\n",
    "        \n",
    "class Dog(Animals):\n",
    "    \"\"\"Dog is son class\"\"\"\n",
    "    def __init__(self, dog_name, dog_age):\n",
    "        # My pet + dog_name.title() -> Animals 中 init 內的 animal_name 參數\n",
    "        # dog_age = Animals 中 init 內的 animal_age 參數\n",
    "        super().__init__('My pet ' + dog_name.title(), dog_age)\n",
    "        \n",
    "        \n",
    "my_cat = Animals('Lucy', 5)\n",
    "print(F\"{my_cat.name.title()} is {my_cat.age} years old.\")\n",
    "my_cat.run()\n",
    "\n",
    "my_dog = Dog('Coco', 6)\n",
    "print(F\"{my_dog.name.title()} is {my_dog.age} years old.\")\n",
    "my_dog.run()"
   ]
  },
  {
   "cell_type": "markdown",
   "id": "7e85f470",
   "metadata": {},
   "source": [
    "### 12-3-6衍生類別有自己的方法"
   ]
  },
  {
   "cell_type": "code",
   "execution_count": 23,
   "id": "dd2c6f31",
   "metadata": {},
   "outputs": [
    {
     "name": "stdout",
     "output_type": "stream",
     "text": [
      "Lucy is 5 years old.\n",
      "Lucy is running\n",
      "My Pet Coco is 6 years old.\n",
      "My Pet Coco is running\n",
      "My pet Coco is barking.\n"
     ]
    }
   ],
   "source": [
    "# ch12-14-1\n",
    "class Animals():\n",
    "    \"\"\" Animal is father class\"\"\"\n",
    "    def __init__(self, animal_name, animal_age):\n",
    "        self.name = animal_name\n",
    "        self.age = animal_age\n",
    "        \n",
    "    def run(self):\n",
    "        print(F\"{self.name.title()} is running\")\n",
    "        \n",
    "class Dog(Animals):\n",
    "    \"\"\"Dog is son class\"\"\"\n",
    "    def __init__(self, dog_name, dog_age):\n",
    "        super().__init__('My pet ' + dog_name.title(), dog_age)\n",
    "        \n",
    "    def bark(self):\n",
    "        # 需使用father class 的參數名稱 -> self.name才可以取得dog name\n",
    "        print(F\"{self.name} is barking.\")\n",
    "        \n",
    "        \n",
    "my_cat = Animals('Lucy', 5)\n",
    "print(F\"{my_cat.name.title()} is {my_cat.age} years old.\")\n",
    "my_cat.run()\n",
    "\n",
    "my_dog = Dog('Coco', 6)\n",
    "print(F\"{my_dog.name.title()} is {my_dog.age} years old.\")\n",
    "my_dog.run()\n",
    "my_dog.bark()"
   ]
  },
  {
   "cell_type": "markdown",
   "id": "86b8551f",
   "metadata": {},
   "source": [
    "### 12-3-7三代同堂的類別與取得基底類別的屬性super()"
   ]
  },
  {
   "cell_type": "code",
   "execution_count": 27,
   "id": "ef4a0a43",
   "metadata": {},
   "outputs": [
    {
     "name": "stdout",
     "output_type": "stream",
     "text": [
      "Van's information\n",
      "Father's information\n",
      "Grandfather's information\n",
      "\n",
      "Van money: 99999999, \n",
      "Father money: 5000, \n",
      "Grandfather money: 10000\n"
     ]
    }
   ],
   "source": [
    "class Grandfather():\n",
    "    def __init__(self):\n",
    "        self.grandfather_money = 10000\n",
    "        \n",
    "    def get_info1(self):\n",
    "        print(\"Grandfather's information\")\n",
    "        \n",
    "        \n",
    "class Father(Grandfather):\n",
    "    def __init__(self):\n",
    "        self.father_money = 5000\n",
    "        super().__init__()  # 可以取得Grandfather的屬性\n",
    "        \n",
    "    def get_info2(self):\n",
    "        print(\"Father's information\")\n",
    "        \n",
    "        \n",
    "class Van(Father):\n",
    "    def __init__(self):\n",
    "        self.van_money = 99999999\n",
    "        super().__init__()  # 可以取得Father的屬性\n",
    "        \n",
    "    def get_info3(self):\n",
    "        print(\"Van's information\")\n",
    "        \n",
    "    def get_money(self):\n",
    "        print(F\"\\nVan money: {self.van_money},\",\n",
    "              F\"\\nFather money: {self.father_money},\",\n",
    "              F\"\\nGrandfather money: {self.grandfather_money}\")\n",
    "        \n",
    "        \n",
    "van = Van()\n",
    "van.get_info3()\n",
    "van.get_info2()\n",
    "van.get_info1()\n",
    "van.get_money()"
   ]
  },
  {
   "cell_type": "markdown",
   "id": "c2345eb8",
   "metadata": {},
   "source": [
    "### 12-3-8兄弟類別屬性的取得"
   ]
  },
  {
   "cell_type": "code",
   "execution_count": 31,
   "id": "f4a9f3de",
   "metadata": {},
   "outputs": [
    {
     "name": "stdout",
     "output_type": "stream",
     "text": [
      "Van money: 88888, Father money: 5000, Kevin money: 99999\n"
     ]
    }
   ],
   "source": [
    "# ch12-16\n",
    "class Father():\n",
    "    def __init__(self):\n",
    "        self.father_money = 5000\n",
    "        \n",
    "class Kevin(Father):\n",
    "    def __init__(self):\n",
    "        self.kevin_money = 99999\n",
    "        super().__init__()\n",
    "        \n",
    "class Van(Father):\n",
    "    def __init__(self):\n",
    "        self.van_money = 88888\n",
    "        super().__init__()\n",
    "        \n",
    "    def get_money(self):\n",
    "        print(F\"Van money: {self.van_money},\",\n",
    "              F\"Father money: {self.father_money},\",\n",
    "              F\"Kevin money: {Kevin().kevin_money}\")\n",
    "        \n",
    "        \n",
    "van = Van()\n",
    "van.get_money()"
   ]
  },
  {
   "cell_type": "markdown",
   "id": "a03e5447",
   "metadata": {},
   "source": [
    "### 12-3-9認識python類別方法的self參數"
   ]
  },
  {
   "cell_type": "code",
   "execution_count": 32,
   "id": "92203753",
   "metadata": {},
   "outputs": [
    {
     "name": "stdout",
     "output_type": "stream",
     "text": [
      "我是Van\n"
     ]
    }
   ],
   "source": [
    "# ch12-16-1\n",
    "class Person():\n",
    "    def interest(self):\n",
    "        print(\"我是Van\")\n",
    "        \n",
    "        \n",
    "van = Person()  # -> self將被指向為van物件的資料位址\n",
    "van.interest()"
   ]
  },
  {
   "cell_type": "markdown",
   "id": "3c24300d",
   "metadata": {},
   "source": [
    "## 12-4多形(polymorphism)\n",
    "* 多形不一定要有繼承關係"
   ]
  },
  {
   "cell_type": "code",
   "execution_count": 34,
   "id": "5f7eb50a",
   "metadata": {},
   "outputs": [
    {
     "name": "stdout",
     "output_type": "stream",
     "text": [
      "My pet Lucy is sleeping\n",
      "My pet Coco is is running\n",
      "Yoga is Monkey is jumping\n"
     ]
    }
   ],
   "source": [
    "# ch12-17\n",
    "class Animals():\n",
    "    \"\"\"Animals class is base class\"\"\"\n",
    "    # 紀錄動物名稱\n",
    "    def __init__(self, animal_name):\n",
    "        self.name = animal_name\n",
    "        \n",
    "    # 回傳動物名稱\n",
    "    def which(self):\n",
    "        return F\"My pet {self.name.title()}\"  \n",
    "    \n",
    "    # 回傳動物行為\n",
    "    def action(self):\n",
    "        return 'sleeping'\n",
    "    \n",
    "    \n",
    "class Dog(Animals):\n",
    "    \"\"\"Dog class is derived(衍生) class of class Animals\"\"\"\n",
    "    # 紀錄動物名稱\n",
    "    def __init__(self, dog_name):\n",
    "        super().__init__(dog_name.title())\n",
    "        \n",
    "    # 回傳動物行為\n",
    "    def action(self):\n",
    "        return 'is running'\n",
    "    \n",
    "\n",
    "class Monkey():\n",
    "    \"\"\"Monkey class doesn't have extend relationship\"\"\"\n",
    "    # 紀錄動物名稱\n",
    "    def __init__(self, monkey_name):\n",
    "        self.name = monkey_name.title()\n",
    "        \n",
    "    # 回傳動物名稱\n",
    "    def which(self):\n",
    "        return self.name\n",
    "    \n",
    "    # 動物的行為\n",
    "    def action(self):\n",
    "        return 'Monkey is jumping'\n",
    "    \n",
    "def doing(obj):\n",
    "    print(F\"{obj.which()} is {obj.action()}\")\n",
    "    \n",
    "    \n",
    "cat = Animals('lucy')\n",
    "doing(cat)\n",
    "\n",
    "dog = Dog('coco')\n",
    "doing(dog)\n",
    "\n",
    "monkey = Monkey(\"yoga\")\n",
    "doing(monkey)"
   ]
  },
  {
   "cell_type": "markdown",
   "id": "dd8964fb",
   "metadata": {},
   "source": [
    "## 12-5多重繼承\n",
    "* 子類別繼承了多個父類別"
   ]
  },
  {
   "cell_type": "code",
   "execution_count": 35,
   "id": "a5320746",
   "metadata": {},
   "outputs": [
    {
     "name": "stdout",
     "output_type": "stream",
     "text": [
      "Van\n",
      "Father\n",
      "Grandfather\n"
     ]
    }
   ],
   "source": [
    "# ch12-18\n",
    "class Grandfather():\n",
    "    def action1(self):\n",
    "        print(\"Grandfather\")\n",
    "        \n",
    "class Father(Grandfather):\n",
    "    def action2(self):\n",
    "        print(\"Father\")\n",
    "        \n",
    "class Uncle(Grandfather):\n",
    "    def action2(self):\n",
    "        print(\"Uncle\")\n",
    "        \n",
    "class Van(Father, Uncle):\n",
    "    def action3(self):\n",
    "        print(\"Van\")\n",
    "        \n",
    "        \n",
    "van = Van()\n",
    "van.action3()  # Van\n",
    "van.action2()  # Van -> Father\n",
    "van.action1()  # Van -> Father -> Grandfather"
   ]
  },
  {
   "cell_type": "code",
   "execution_count": 36,
   "id": "94939ab8",
   "metadata": {},
   "outputs": [
    {
     "name": "stdout",
     "output_type": "stream",
     "text": [
      "Van\n",
      "Father\n",
      "Uncle\n",
      "Grandfather\n"
     ]
    }
   ],
   "source": [
    "# ch12-19\n",
    "class Grandfather():\n",
    "    def action1(self):\n",
    "        print(\"Grandfather\")\n",
    "        \n",
    "class Father(Grandfather):\n",
    "    def action3(self):\n",
    "        print(\"Father\")\n",
    "        \n",
    "class Uncle(Grandfather):\n",
    "    def action2(self):\n",
    "        print(\"Uncle\")\n",
    "        \n",
    "class Van(Father, Uncle):\n",
    "    def action4(self):\n",
    "        print(\"Van\")\n",
    "        \n",
    "        \n",
    "van = Van()\n",
    "van.action4()  # Van\n",
    "van.action3()  # Van -> Father\n",
    "van.action2()  # Van -> Father -> Uncle\n",
    "van.action1()  # Van -> Father -> Uncle -> Grandfather"
   ]
  },
  {
   "cell_type": "markdown",
   "id": "788cf851",
   "metadata": {},
   "source": [
    "### 12-5-2 super()應用在多重繼承的問題"
   ]
  },
  {
   "cell_type": "code",
   "execution_count": 2,
   "id": "a0bec392",
   "metadata": {},
   "outputs": [
    {
     "name": "stdout",
     "output_type": "stream",
     "text": [
      "class A\n",
      "class C\n"
     ]
    }
   ],
   "source": [
    "# ch12-19-1\n",
    "class A():\n",
    "    def __init__(self):\n",
    "        print(\"class A\")\n",
    "        \n",
    "        \n",
    "class B():\n",
    "    def __init__(self):\n",
    "        print(\"class B\")\n",
    "        \n",
    "        \n",
    "class C(A, B):\n",
    "    def __init__(self):\n",
    "        super().__init__()\n",
    "        print(\"class C\")\n",
    "        \n",
    "x = C()"
   ]
  },
  {
   "cell_type": "markdown",
   "id": "0160b246",
   "metadata": {},
   "source": [
    "* B類別未被啟動 -> 必須在基底類別也增加super()設定，才可以完成啟動"
   ]
  },
  {
   "cell_type": "code",
   "execution_count": 3,
   "id": "c5c78fff",
   "metadata": {},
   "outputs": [
    {
     "name": "stdout",
     "output_type": "stream",
     "text": [
      "class B\n",
      "class A\n",
      "class C\n"
     ]
    }
   ],
   "source": [
    "# ch12-19-2\n",
    "class A():\n",
    "    def __init__(self):\n",
    "        super().__init__()\n",
    "        print(\"class A\")\n",
    "        \n",
    "        \n",
    "class B():\n",
    "    def __init__(self):\n",
    "        super().__init__()\n",
    "        print(\"class B\")\n",
    "        \n",
    "        \n",
    "class C(A, B):\n",
    "    def __init__(self):\n",
    "        super().__init__()\n",
    "        print(\"class C\")\n",
    "        \n",
    "x = C()"
   ]
  },
  {
   "cell_type": "markdown",
   "id": "1937ec8a",
   "metadata": {},
   "source": [
    "* <font color=yellow>在多重繼承中，如果要繼承所有父類別的屬性時，必須要將全部的父類別啟動 -> 全部增加super().\\__init\\__()</font>"
   ]
  },
  {
   "cell_type": "markdown",
   "id": "d02d76f2",
   "metadata": {},
   "source": [
    "## 12-6 type與instance"
   ]
  },
  {
   "cell_type": "markdown",
   "id": "aeaafd96",
   "metadata": {},
   "source": [
    "* type(object) -> 獲得某一物件變數的類別名稱"
   ]
  },
  {
   "cell_type": "code",
   "execution_count": 4,
   "id": "45bf232e",
   "metadata": {},
   "outputs": [
    {
     "name": "stdout",
     "output_type": "stream",
     "text": [
      "grandfather類型: <class '__main__.Grandfather'>\n",
      "father類型: <class '__main__.Father'>\n",
      "van類型: <class '__main__.Van'>\n",
      "van物件func類型: <class 'method'>\n"
     ]
    }
   ],
   "source": [
    "#ch12-20\n",
    "class Grandfather():\n",
    "    pass\n",
    "\n",
    "class Father(Grandfather):\n",
    "    pass\n",
    "\n",
    "class Van(Father):\n",
    "    def func(self):\n",
    "        pass\n",
    "    \n",
    "    \n",
    "grandfather = Grandfather()\n",
    "father = Father()\n",
    "van = Van()\n",
    "\n",
    "print(F\"grandfather類型: {type(grandfather)}\")\n",
    "print(F\"father類型: {type(father)}\")\n",
    "print(F\"van類型: {type(van)}\")\n",
    "print(F\"van物件func類型: {type(van.func)}\")"
   ]
  },
  {
   "cell_type": "markdown",
   "id": "7b64e43d",
   "metadata": {},
   "source": [
    "### isinstance()\n",
    "* 可以回傳物件的類別是否屬於某一類別\n",
    "* isinstance(object, class):\n",
    "    * return True -> object is instance of class \n",
    "    * return False -> object isn't instance of class "
   ]
  },
  {
   "cell_type": "code",
   "execution_count": 5,
   "id": "b6612906",
   "metadata": {},
   "outputs": [
    {
     "name": "stdout",
     "output_type": "stream",
     "text": [
      "van屬於Van類別: True\n",
      "van屬於Father類別: True\n",
      "van屬於Grandfather類別: True\n",
      "father屬於Van類別: False\n",
      "father屬於Father類別: True\n",
      "father屬於Grandfather類別: True\n",
      "grandfather屬於Van類別: False\n",
      "grandfather屬於Van類別: False\n",
      "grandfather屬於Van類別: True\n"
     ]
    }
   ],
   "source": [
    "# ch12-21\n",
    "class Grandfather():\n",
    "    pass\n",
    "\n",
    "class Father(Grandfather):\n",
    "    pass\n",
    "\n",
    "class Van(Father):\n",
    "    def func(self):\n",
    "        pass\n",
    "    \n",
    "    \n",
    "grandfather = Grandfather()\n",
    "father = Father()\n",
    "van = Van()\n",
    "\n",
    "print(F\"van屬於Van類別: {isinstance(van, Van)}\")\n",
    "print(F\"van屬於Father類別: {isinstance(van, Father)}\")\n",
    "print(F\"van屬於Grandfather類別: {isinstance(van, Grandfather)}\")\n",
    "print(F\"father屬於Van類別: {isinstance(father, Van)}\")\n",
    "print(F\"father屬於Father類別: {isinstance(father, Father)}\")\n",
    "print(F\"father屬於Grandfather類別: {isinstance(father, Grandfather)}\")\n",
    "print(F\"grandfather屬於Van類別: {isinstance(grandfather, Van)}\")\n",
    "print(F\"grandfather屬於Van類別: {isinstance(grandfather, Father)}\")\n",
    "print(F\"grandfather屬於Van類別: {isinstance(grandfather, Grandfather)}\")"
   ]
  },
  {
   "cell_type": "markdown",
   "id": "ea5119ad",
   "metadata": {},
   "source": [
    "## 12-7特殊屬性\n",
    "* \\__XX\\__型態 -> 系統保留的變數 or 參數\n",
    "* 可使用dir()列出"
   ]
  },
  {
   "cell_type": "code",
   "execution_count": 6,
   "id": "7d2e399d",
   "metadata": {},
   "outputs": [
    {
     "data": {
      "text/plain": [
       "['A',\n",
       " 'B',\n",
       " 'C',\n",
       " 'Father',\n",
       " 'Grandfather',\n",
       " 'In',\n",
       " 'Out',\n",
       " 'Van',\n",
       " '_',\n",
       " '__',\n",
       " '___',\n",
       " '__builtin__',\n",
       " '__builtins__',\n",
       " '__doc__',\n",
       " '__loader__',\n",
       " '__name__',\n",
       " '__package__',\n",
       " '__spec__',\n",
       " '_dh',\n",
       " '_i',\n",
       " '_i1',\n",
       " '_i2',\n",
       " '_i3',\n",
       " '_i4',\n",
       " '_i5',\n",
       " '_i6',\n",
       " '_ih',\n",
       " '_ii',\n",
       " '_iii',\n",
       " '_oh',\n",
       " 'exit',\n",
       " 'father',\n",
       " 'get_ipython',\n",
       " 'grandfather',\n",
       " 'quit',\n",
       " 'van',\n",
       " 'x']"
      ]
     },
     "execution_count": 6,
     "metadata": {},
     "output_type": "execute_result"
    }
   ],
   "source": [
    "dir()"
   ]
  },
  {
   "cell_type": "markdown",
   "id": "d4ed976f",
   "metadata": {},
   "source": [
    "### 12-7-1 文件字串__doc__\n",
    "* 使用\\__doc\\__列出文件註解"
   ]
  },
  {
   "cell_type": "code",
   "execution_count": 8,
   "id": "e6a3c867",
   "metadata": {},
   "outputs": [
    {
     "name": "stdout",
     "output_type": "stream",
     "text": [
      "3\n",
      "回傳最大值\n"
     ]
    }
   ],
   "source": [
    "# ch12-22\n",
    "def getMax(x, y):\n",
    "    \"\"\"回傳最大值\"\"\"\n",
    "    if int(x) > int(y):\n",
    "        return x\n",
    "    else:\n",
    "        return y\n",
    "    \n",
    "    \n",
    "print(getMax(2, 3))\n",
    "print(getMax.__doc__)"
   ]
  },
  {
   "cell_type": "code",
   "execution_count": 9,
   "id": "f7d2fe49",
   "metadata": {},
   "outputs": [
    {
     "name": "stdout",
     "output_type": "stream",
     "text": [
      "Hi 100\n",
      "Myclass類別的應用\n",
      "Myclass類別內printMe方法的應用\n"
     ]
    }
   ],
   "source": [
    "# ch12-23\n",
    "class Myclass():\n",
    "    \"\"\"Myclass類別的應用\"\"\"\n",
    "    def __init__(self, x):\n",
    "        self.x = x\n",
    "        \n",
    "    def printMe(self):\n",
    "        \"\"\"Myclass類別內printMe方法的應用\"\"\"\n",
    "        print(F\"Hi {self.x}\")\n",
    "        \n",
    "        \n",
    "data = Myclass(100)\n",
    "data.printMe()\n",
    "print(data.__doc__)\n",
    "print(data.printMe.__doc__)"
   ]
  },
  {
   "cell_type": "markdown",
   "id": "21094124",
   "metadata": {},
   "source": [
    "### 12-7-2 \\__name\\__屬性"
   ]
  },
  {
   "cell_type": "markdown",
   "id": "99eeb976",
   "metadata": {},
   "source": [
    "* 程式如果是自己執行，\\__name\\__就會等於 \\__main __"
   ]
  },
  {
   "cell_type": "markdown",
   "id": "c20771a7",
   "metadata": {},
   "source": [
    "## 12-8 類別的特殊方法"
   ]
  },
  {
   "cell_type": "markdown",
   "id": "2c83c720",
   "metadata": {},
   "source": [
    "### 12-8-1 \\__str__()方法\n",
    "* 可以協助返回易讀取的字串\n",
    "* print() function 調用的方法"
   ]
  },
  {
   "cell_type": "code",
   "execution_count": 2,
   "id": "ccadf1e1",
   "metadata": {},
   "outputs": [
    {
     "name": "stdout",
     "output_type": "stream",
     "text": [
      "<__main__.Name object at 0x0000028582E3EF10>\n"
     ]
    }
   ],
   "source": [
    "#ch12-28\n",
    "class Name():\n",
    "    def __init__(self, name):\n",
    "        self.name = name\n",
    "        \n",
    "a = Name('Van')\n",
    "print(a)  # 返回不易讀取的資料"
   ]
  },
  {
   "cell_type": "code",
   "execution_count": 3,
   "id": "e0f6cab6",
   "metadata": {},
   "outputs": [
    {
     "name": "stdout",
     "output_type": "stream",
     "text": [
      "Van\n"
     ]
    }
   ],
   "source": [
    "#ch12-29\n",
    "class Name():\n",
    "    def __init__(self, name):\n",
    "        self.name = name\n",
    "    \n",
    "    # 此類別方法可以返回易讀取的字串\n",
    "    def __str__(self):\n",
    "        return F\"{self.name}\"\n",
    "    \n",
    "a = Name('Van')\n",
    "print(a)  # 返回易讀取的資料"
   ]
  },
  {
   "cell_type": "markdown",
   "id": "e2e638ce",
   "metadata": {},
   "source": [
    "### 12-8-2 \\__repr__()\n",
    "* 可以協助返回易讀取的字串\n",
    "* Python Shell 調用的方法 -> 直接輸入變數，不用print顯示的方法"
   ]
  },
  {
   "cell_type": "markdown",
   "id": "1db0f06c",
   "metadata": {},
   "source": [
    "### 12-8-3 \\__iter\\__()"
   ]
  },
  {
   "cell_type": "markdown",
   "id": "b32511f6",
   "metadata": {},
   "source": [
    "* 為類別定義迭代物件\n",
    "* 須加上\\__next\\__()方法才可以取得下一個值\n",
    "* 可使用 raise StopIteration 終止迭代"
   ]
  },
  {
   "cell_type": "code",
   "execution_count": 5,
   "id": "5c4440e1",
   "metadata": {},
   "outputs": [
    {
     "name": "stdout",
     "output_type": "stream",
     "text": [
      "0\n",
      "1\n",
      "1\n",
      "2\n",
      "3\n",
      "5\n",
      "8\n",
      "13\n",
      "21\n",
      "34\n",
      "55\n",
      "89\n"
     ]
    }
   ],
   "source": [
    "#ch12-31\n",
    "class Fib():\n",
    "    def __init__(self, max_):\n",
    "        self.max_ = max_\n",
    "        \n",
    "    def __iter__(self):\n",
    "        self.a = 0\n",
    "        self.b = 1\n",
    "        return self\n",
    "    \n",
    "    def __next__(self):\n",
    "        fib = self.a\n",
    "        \n",
    "        if fib > self.max_:\n",
    "            raise StopIteration\n",
    "            \n",
    "        self.a, self.b = self.b, self.a + self.b\n",
    "        \n",
    "        return fib\n",
    "    \n",
    "for i in Fib(100):\n",
    "    print(i)"
   ]
  },
  {
   "cell_type": "markdown",
   "id": "6e3cb56e",
   "metadata": {},
   "source": [
    "### 12-8-4 \\__eq\\__()\n",
    "* 在類別內實作類別本身與其他類別的比較方法"
   ]
  },
  {
   "cell_type": "code",
   "execution_count": 6,
   "id": "edd4979b",
   "metadata": {},
   "outputs": [
    {
     "name": "stdout",
     "output_type": "stream",
     "text": [
      "True\n",
      "False\n",
      "False\n"
     ]
    }
   ],
   "source": [
    "#ch12-32\n",
    "class City():\n",
    "    def __init__(self, name):\n",
    "        self.name = name\n",
    "        \n",
    "    def __eq__(self, city2):\n",
    "        return self.name.upper() == city2.name.upper()\n",
    "    \n",
    "    \n",
    "one = City('Taipei')\n",
    "two = City('taipei')\n",
    "three = City('home')\n",
    "\n",
    "print(one == two)\n",
    "print(two == three)\n",
    "print(one == three)"
   ]
  },
  {
   "cell_type": "markdown",
   "id": "fa157d27",
   "metadata": {},
   "source": [
    "## 其他魔術方法\n",
    "|邏輯方法|說明|\n",
    "|:-:|:-:|\n",
    "|\\__eq__(self, other)|self == other|\n",
    "|\\__ne__(self, other)|self != other|\n",
    "|\\__lt__(self, other)|self < other|\n",
    "|\\__gt__(self, other)|self > other|\n",
    "|\\__le__(self, other)|self <= other|\n",
    "|\\__ge__(self, other)|self >= other|"
   ]
  },
  {
   "cell_type": "markdown",
   "id": "4b00c8fd",
   "metadata": {},
   "source": [
    "|數學方法|說明|\n",
    "|:-:|:-:|\n",
    "|\\__add__\\(self, other)|self + other|\n",
    "|\\__sub__\\(self, other)|self - other|\n",
    "|\\__mul__\\(self, other)|self * other|\n",
    "|\\__floordiv__\\(self, other)|self // other|\n",
    "|\\__truediv__\\(self, other)|self / other|\n",
    "|\\__mod__\\(self, other)|self \\% other|\n",
    "|\\__pow__\\(self, other)|self ** other|"
   ]
  },
  {
   "cell_type": "markdown",
   "id": "24a8aad7",
   "metadata": {},
   "source": [
    "## 12-9 專題 幾何資料的應用"
   ]
  },
  {
   "cell_type": "markdown",
   "id": "88eaa6da",
   "metadata": {},
   "source": [
    "### <font color=yellow>使用property時，方法名稱不能與屬性相同，否則會出現遞迴錯誤(RecursionError: maximum recursion depth exceeded)</font>"
   ]
  },
  {
   "cell_type": "code",
   "execution_count": 1,
   "id": "683617db",
   "metadata": {},
   "outputs": [
    {
     "name": "stdout",
     "output_type": "stream",
     "text": [
      "顏色: green\n",
      "半徑: 5\n",
      "直徑: 10\n",
      "圓周: 31.4159\n",
      "面積: 78.53975\n",
      "直徑: 20\n"
     ]
    }
   ],
   "source": [
    "#ch12-34\n",
    "class Geometric():\n",
    "    def __init__(self):\n",
    "        self.color = 'green'\n",
    "    \n",
    "class Circle(Geometric):\n",
    "    def __init__(self, radius):\n",
    "        super().__init__()\n",
    "        self.PI = 3.14159\n",
    "        self.radius = radius  # 須將radius設為_radius，因為在調用radius.setter時\n",
    "    \n",
    "    \n",
    "    # 使用property時，方法名稱不能與屬性相同，否則會出現遞迴錯誤(RecursionError: maximum recursion depth exceeded)\n",
    "    @property\n",
    "    def radius(self):\n",
    "        return self.radius_\n",
    "    \n",
    "    @radius.setter\n",
    "    def radius(self, radius):\n",
    "        self.radius_ = radius\n",
    "    \n",
    "    def get_diameter(self):\n",
    "        return self.radius * 2\n",
    "    \n",
    "    def get_perimeter(self):\n",
    "        return self.radius * 2 * self.PI\n",
    "    \n",
    "    def get_area(self):\n",
    "        return self.radius ** 2 * self.PI\n",
    "    \n",
    "    def get_color(self):\n",
    "        return self.color\n",
    "    \n",
    "    \n",
    "a = Circle(5)\n",
    "\n",
    "print(F\"顏色: {a.get_color()}\")\n",
    "print(F\"半徑: {a.radius}\")\n",
    "print(F\"直徑: {a.get_diameter()}\")\n",
    "print(F\"圓周: {a.get_perimeter()}\")\n",
    "print(F\"面積: {a.get_area()}\")\n",
    "\n",
    "a.radius = 10\n",
    "print(F\"直徑: {a.get_diameter()}\")"
   ]
  },
  {
   "cell_type": "markdown",
   "id": "1ae34b3d",
   "metadata": {},
   "source": [
    "# <font color=pink>Ch13 設計與應用模組</font>"
   ]
  },
  {
   "cell_type": "markdown",
   "id": "b055f975",
   "metadata": {},
   "source": [
    "## 13-5 隨機數random模組\n",
    "|函數名稱|說明|\n",
    "|:-:|:-:|\n",
    "|randint(x, y)|產生x(含)到y(含)之間的隨機整數|\n",
    "|random()|產生x(含)到1(不含)之間的隨機浮點數|\n",
    "|uniform(x, y)|產生x(含)到y(不含)之間的隨機浮點數|\n",
    "|choice(串列)|可以在串列中隨機傳回一個元素|\n",
    "|shuffle(串列)|將串列元素重新排列|\n",
    "|sample(串列, 數量)|隨機傳回第2個參數數量的串列元素|\n",
    "|seed(x)|x是種子，未來每次可產生相同的隨機數x次|"
   ]
  },
  {
   "cell_type": "markdown",
   "id": "39868b8f",
   "metadata": {},
   "source": [
    "### 13-5-1 randint()\n",
    "* randint(min, max) -> 可以產生min(含)~max(含)之間的隨機數"
   ]
  },
  {
   "cell_type": "code",
   "execution_count": 5,
   "id": "22c49717",
   "metadata": {},
   "outputs": [
    {
     "name": "stdout",
     "output_type": "stream",
     "text": [
      "1 - 100: 9\n",
      "1 - 100: 48\n",
      "1 - 100: 94\n",
      "500 - 1000: 829\n",
      "500 - 1000: 500\n",
      "500 - 1000: 677\n",
      "2000 - 3000: 2590\n",
      "2000 - 3000: 2566\n",
      "2000 - 3000: 2762\n"
     ]
    }
   ],
   "source": [
    "#ch13-14\n",
    "import random\n",
    "n = 3\n",
    "\n",
    "for i in range(3):\n",
    "    print(F\"1 - 100: {random.randint(1, 100)}\")\n",
    "    \n",
    "for i in range(3):\n",
    "    print(F\"500 - 1000: {random.randint(500, 1000)}\")\n",
    "    \n",
    "for i in range(3):\n",
    "    print(F\"2000 - 3000: {random.randint(2000, 3000)}\")"
   ]
  },
  {
   "cell_type": "markdown",
   "id": "418d9a08",
   "metadata": {},
   "source": [
    "* 猜數字遊戲"
   ]
  },
  {
   "cell_type": "code",
   "execution_count": 8,
   "id": "b5f49d3f",
   "metadata": {},
   "outputs": [
    {
     "name": "stdout",
     "output_type": "stream",
     "text": [
      "請輸入一數字: 1\n",
      "greater\n",
      "請輸入一數字: 2\n",
      "greater\n",
      "請輸入一數字: 3\n",
      "greater\n",
      "請輸入一數字: 5\n",
      "less\n",
      "請輸入一數字: 4\n",
      "Correct!\n"
     ]
    }
   ],
   "source": [
    "#ch13-15\n",
    "min_, max_ = 1, 10\n",
    "\n",
    "ans = random.randint(min_, max_)\n",
    "\n",
    "while True:\n",
    "    your_ans = int(input(\"請輸入一數字: \"))\n",
    "    \n",
    "    if your_ans == ans:\n",
    "        print(\"Correct!\")\n",
    "        break\n",
    "    elif your_ans < ans:\n",
    "        print(\"greater\")\n",
    "    else:\n",
    "        print(\"less\")"
   ]
  },
  {
   "cell_type": "markdown",
   "id": "d0792e58",
   "metadata": {},
   "source": [
    "* 猜大小遊戲 -> 實際上輸贏是由隨機數決定，猜大小只是幌子"
   ]
  },
  {
   "cell_type": "code",
   "execution_count": 11,
   "id": "71947d80",
   "metadata": {},
   "outputs": [
    {
     "name": "stdout",
     "output_type": "stream",
     "text": [
      "請輸入莊家贏的比率: 90\n",
      "猜大小 -> L大，S小，Q結束\n",
      "= 1\n",
      "Lose\n",
      "猜大小 -> L大，S小，Q結束\n",
      "= 99\n",
      "Lose\n",
      "猜大小 -> L大，S小，Q結束\n",
      "= q\n"
     ]
    }
   ],
   "source": [
    "min_, max_ = 1, 100\n",
    "win_percent = int(input(\"請輸入莊家贏的比率: \"))\n",
    "\n",
    "# 如果input為40，則代表莊家有4成會贏，閒家有6成會贏\n",
    "\n",
    "while True:\n",
    "    print(\"猜大小 -> L大，S小，Q結束\")\n",
    "    num = random.randint(min_, max_)\n",
    "    \n",
    "    user_ans = input(\"= \")\n",
    "    \n",
    "    if user_ans == \"Q\".casefold():\n",
    "        break\n",
    "    \n",
    "    if num > win_percent:\n",
    "        print(\"Win\")\n",
    "    else:\n",
    "        print(\"Lose\")"
   ]
  },
  {
   "cell_type": "markdown",
   "id": "4d92b7d3",
   "metadata": {},
   "source": [
    "### 13-5-2 choice()\n",
    "* 隨機傳回串列中的一個元素"
   ]
  },
  {
   "cell_type": "code",
   "execution_count": 15,
   "id": "afb73344",
   "metadata": {},
   "outputs": [
    {
     "name": "stdout",
     "output_type": "stream",
     "text": [
      "banana\n",
      "orange\n"
     ]
    }
   ],
   "source": [
    "#ch13-17\n",
    "fruits = ['apple', 'banana', 'orange']\n",
    "\n",
    "print(random.choice(fruits))\n",
    "print(random.choice(fruits))"
   ]
  },
  {
   "cell_type": "markdown",
   "id": "f0a05baa",
   "metadata": {},
   "source": [
    "## 13-5-3 shuffle()\n",
    "* 將串列元素重新排列"
   ]
  },
  {
   "cell_type": "code",
   "execution_count": 16,
   "id": "c0b9c55a",
   "metadata": {},
   "outputs": [
    {
     "name": "stdout",
     "output_type": "stream",
     "text": [
      "[1, 7, 4, 2, 9, 8, 5, 6, 3]\n"
     ]
    }
   ],
   "source": [
    "a_list = [1,2,3,4,5,6,7,8,9]\n",
    "\n",
    "random.shuffle(a_list)\n",
    "\n",
    "print(a_list)"
   ]
  },
  {
   "cell_type": "markdown",
   "id": "2c2c0dfe",
   "metadata": {},
   "source": [
    "### 13-5-4 sample()\n",
    "* 隨機傳回第2個參數數量的串列元素"
   ]
  },
  {
   "cell_type": "code",
   "execution_count": 19,
   "id": "30ecf81f",
   "metadata": {},
   "outputs": [
    {
     "name": "stdout",
     "output_type": "stream",
     "text": [
      "[5, 9, 1, 7, 8]\n",
      "[9, 4, 3, 7, 2]\n"
     ]
    }
   ],
   "source": [
    "a_list = [1,2,3,4,5,6,7,8,9]\n",
    "\n",
    "b_list = random.sample(a_list, 5)\n",
    "c_list = random.sample(a_list, 5)\n",
    "\n",
    "print(b_list)\n",
    "print(c_list)"
   ]
  },
  {
   "cell_type": "markdown",
   "id": "b0639462",
   "metadata": {},
   "source": [
    "### 13-5-5 uniform()\n",
    "* 隨機產生x(含)到y(不含)的浮點數"
   ]
  },
  {
   "cell_type": "code",
   "execution_count": 23,
   "id": "46e1ab2f",
   "metadata": {},
   "outputs": [
    {
     "name": "stdout",
     "output_type": "stream",
     "text": [
      "22.340554888805162\n",
      "5.104124473033988\n",
      "66.04632806158543\n",
      "24.595331221005857\n",
      "51.71004020973737\n"
     ]
    }
   ],
   "source": [
    "for _ in range(5):\n",
    "    print(random.uniform(1, 101))"
   ]
  },
  {
   "cell_type": "markdown",
   "id": "58328dd8",
   "metadata": {},
   "source": [
    "### 13-5-6 random()\n",
    "* 隨機產生0.0(含)到1.0(不含)間的浮點數"
   ]
  },
  {
   "cell_type": "code",
   "execution_count": 24,
   "id": "f42bd196",
   "metadata": {},
   "outputs": [
    {
     "name": "stdout",
     "output_type": "stream",
     "text": [
      "0.8159431115504854\n",
      "0.7171205080030594\n",
      "0.5955565080641981\n",
      "0.5307896254214111\n",
      "0.3026694300192986\n"
     ]
    }
   ],
   "source": [
    "for _ in range(5):\n",
    "    print(random.random())"
   ]
  },
  {
   "cell_type": "markdown",
   "id": "ca964c23",
   "metadata": {},
   "source": [
    "### 13-5-7 seed()\n",
    "* 種子值\n",
    "* 未給參數 -> 隨機產生不同浮點數\n",
    "* 給參數k -> 產生k次固定浮點數"
   ]
  },
  {
   "cell_type": "code",
   "execution_count": 32,
   "id": "bae2f0bf",
   "metadata": {},
   "outputs": [
    {
     "name": "stdout",
     "output_type": "stream",
     "text": [
      "0.6229016948897019\n",
      "0.7417869892607294\n",
      "0.7951935655656966\n",
      "0.9424502837770503\n",
      "0.7398985747399307\n"
     ]
    }
   ],
   "source": [
    "# 重複執行幾次都是一樣的結果\n",
    "random.seed(5)\n",
    "\n",
    "for _ in range(5):\n",
    "    print(random.random())"
   ]
  },
  {
   "cell_type": "code",
   "execution_count": null,
   "id": "3b338d4a",
   "metadata": {},
   "outputs": [],
   "source": []
  }
 ],
 "metadata": {
  "kernelspec": {
   "display_name": "Python 3",
   "language": "python",
   "name": "python3"
  },
  "language_info": {
   "codemirror_mode": {
    "name": "ipython",
    "version": 3
   },
   "file_extension": ".py",
   "mimetype": "text/x-python",
   "name": "python",
   "nbconvert_exporter": "python",
   "pygments_lexer": "ipython3",
   "version": "3.9.5"
  }
 },
 "nbformat": 4,
 "nbformat_minor": 5
}
