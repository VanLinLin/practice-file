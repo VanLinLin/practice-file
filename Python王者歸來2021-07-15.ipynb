{
 "cells": [
  {
   "cell_type": "markdown",
   "id": "8c3c3ed5",
   "metadata": {},
   "source": [
    "## 11-6-8\n",
    "* 閉包Closure\n",
    " * 內部函數是一個動態產生的程式，當它可以記住函數以外的程式所建立的環境變數數值時，稱此內部函數是閉包"
   ]
  },
  {
   "cell_type": "code",
   "execution_count": 1,
   "id": "9728b079",
   "metadata": {},
   "outputs": [
    {
     "name": "stdout",
     "output_type": "stream",
     "text": [
      "20\n"
     ]
    }
   ],
   "source": [
    "#ch11_25_7\n",
    "def outer():\n",
    "    b = 10\n",
    "    def inner(x):\n",
    "        return 5 * x + b\n",
    "    return inner\n",
    "\n",
    "b = 2\n",
    "f = outer()\n",
    "print(f(b))"
   ]
  },
  {
   "cell_type": "code",
   "execution_count": 2,
   "id": "c8ca24e7",
   "metadata": {},
   "outputs": [
    {
     "name": "stdout",
     "output_type": "stream",
     "text": [
      "3 13\n"
     ]
    }
   ],
   "source": [
    "#ch11_25_8\n",
    "def outer(a, b):\n",
    "    \"\"\"\n",
    "    a and b is the variables of function inner()\n",
    "    \"\"\"\n",
    "    def inner(x):\n",
    "        return a * x + b\n",
    "    return inner\n",
    "\n",
    "f1 = outer(1, 2)\n",
    "f2 = outer(3, 4)\n",
    "print(f1(1), f2(3))"
   ]
  },
  {
   "cell_type": "markdown",
   "id": "38463a37",
   "metadata": {},
   "source": [
    "## 11-7遞迴函式(recursive)\n",
    "### 一個函數可以呼叫自己\n",
    " * 每次呼叫自己時都會使範圍縮小\n",
    "  * 必須有一個終止條件\n",
    "  * 堆疊(stack) -> 後進先出\n",
    "  * sys.getrecursionlimit()顯示python最大遞迴次數\n",
    "  * sys.setrecursionlimit(value)設定Python最大遞迴次數"
   ]
  },
  {
   "cell_type": "code",
   "execution_count": 4,
   "id": "c912f93c",
   "metadata": {},
   "outputs": [
    {
     "name": "stdout",
     "output_type": "stream",
     "text": [
      "The factorial 3 is 1\n",
      "The factorial 5 is 1\n"
     ]
    }
   ],
   "source": [
    "#ch11_26\n",
    "def factorial(n):\n",
    "    \"\"\"calcualte the n!\"\"\"\n",
    "    if n == 1:\n",
    "        return 1\n",
    "    else:\n",
    "        return (factorial(n-1))\n",
    "\n",
    "value = 3\n",
    "print(F\"The factorial {value} is {factorial(value)}\")\n",
    "value = 5\n",
    "print(F\"The factorial {value} is {factorial(value)}\")"
   ]
  },
  {
   "cell_type": "code",
   "execution_count": 7,
   "id": "60737a12",
   "metadata": {},
   "outputs": [
    {
     "data": {
      "text/plain": [
       "3000"
      ]
     },
     "execution_count": 7,
     "metadata": {},
     "output_type": "execute_result"
    }
   ],
   "source": [
    "import sys\n",
    "sys.getrecursionlimit()"
   ]
  },
  {
   "cell_type": "markdown",
   "id": "ce64da62",
   "metadata": {},
   "source": [
    "## 11-8區域變數與全域變數\n",
    "* 某個變數只有在該函數內使用，影響範圍限定在這個函數內 -> 區域變數(Local variable)\n",
    "* 某個變數影響範圍為整個函式 -> 全域變數(golbal variable)"
   ]
  },
  {
   "cell_type": "markdown",
   "id": "204ccb68",
   "metadata": {},
   "source": [
    "### 11-8-1"
   ]
  },
  {
   "cell_type": "code",
   "execution_count": 1,
   "id": "367d9a5e",
   "metadata": {},
   "outputs": [
    {
     "name": "stdout",
     "output_type": "stream",
     "text": [
      "Main function print: Global Variable\n",
      "函數列印: Global Variable\n"
     ]
    }
   ],
   "source": [
    "#ch11_27\n",
    "def printmsg():\n",
    "    \"\"\"函數本身沒有定義變數，只有執行列印全域變數功能\"\"\"\n",
    "    print(F\"函數列印: {msg}\")\n",
    "msg = \"Global Variable\"\n",
    "print(F\"Main function print: {msg}\")\n",
    "printmsg()"
   ]
  },
  {
   "cell_type": "markdown",
   "id": "6e6e4b31",
   "metadata": {},
   "source": [
    "### 11-8-2\n",
    "* 全域變數與函數內的區域變數使用相同名稱時，Python會將相同名稱的變數視為不同變數\n",
    " * 區域變數所在的函數使用區域變數\n",
    " * 其他位置使用全域變數"
   ]
  },
  {
   "cell_type": "code",
   "execution_count": 2,
   "id": "13504f6b",
   "metadata": {},
   "outputs": [
    {
     "name": "stdout",
     "output_type": "stream",
     "text": [
      "Main function print: Global variable\n",
      "函數列印: Local variable\n"
     ]
    }
   ],
   "source": [
    "#ch11_28\n",
    "def printmsg():\n",
    "    \"\"\"函數本身有定義變數，將執行列印區域變數功能\"\"\"\n",
    "    msg = \"Local variable\"\n",
    "    print(F\"函數列印: {msg}\")\n",
    "msg = \"Global variable\"\n",
    "print(F\"Main function print: {msg}\")\n",
    "printmsg()"
   ]
  },
  {
   "cell_type": "markdown",
   "id": "e86e754e",
   "metadata": {},
   "source": [
    "### 11-8-3程式設計須注意事項\n",
    "* 區域變數內容無法在其他函數引用\n",
    "* 區域變數內容無法在主程式引用\n",
    "* 在函數內不能更改全域變數的值\n",
    "* 如果要在函數內存取或修改全域變數數值，需在函數內使用 global 宣告此變數"
   ]
  },
  {
   "cell_type": "code",
   "execution_count": 4,
   "id": "61cbee39",
   "metadata": {},
   "outputs": [
    {
     "name": "stdout",
     "output_type": "stream",
     "text": [
      "Global variable\n",
      "Global variable\n"
     ]
    }
   ],
   "source": [
    "# ch11-29\n",
    "def defmsg():\n",
    "    msg = \"printmsg variable\"\n",
    "    \n",
    "def printmsg():\n",
    "    print(msg)  # 列印defmsg()函數定義的區域變數\n",
    "print(msg)\n",
    "printmsg()"
   ]
  },
  {
   "cell_type": "markdown",
   "id": "a5b394fd",
   "metadata": {},
   "source": [
    "### 11-8-5 nonlocal變數\n",
    "* 用法語global相同，但是global是指最上層變數，nonlocal是指上一層變數"
   ]
  },
  {
   "cell_type": "code",
   "execution_count": 6,
   "id": "2e30d8cd",
   "metadata": {},
   "outputs": [
    {
     "name": "stdout",
     "output_type": "stream",
     "text": [
      "主程式輸出 var_global: 1\n",
      "主程式輸出 var_nonlocal: 2\n",
      "local fun輸出 var_global: 111\n",
      "local fun輸出 var_nonlocal: 222\n",
      "主程式輸出 var_global: 111\n",
      "主程式輸出 var_nonlocal: 2\n"
     ]
    }
   ],
   "source": [
    "# ch11-30-4\n",
    "def local_fun():\n",
    "    var_nonlocal = 22\n",
    "    def local_inner():\n",
    "        global var_global\n",
    "        nonlocal var_nonlocal\n",
    "        var_global = 111\n",
    "        var_nonlocal = 222\n",
    "    local_inner()\n",
    "    print(F\"local fun輸出 var_global: {var_global}\")\n",
    "    print(F\"local fun輸出 var_nonlocal: {var_nonlocal}\")\n",
    "\n",
    "var_global = 1\n",
    "var_nonlocal = 2\n",
    "print(F\"主程式輸出 var_global: {var_global}\")\n",
    "print(F\"主程式輸出 var_nonlocal: {var_nonlocal}\")\n",
    "local_fun()\n",
    "print(F\"主程式輸出 var_global: {var_global}\")\n",
    "print(F\"主程式輸出 var_nonlocal: {var_nonlocal}\")"
   ]
  },
  {
   "cell_type": "markdown",
   "id": "d9a27001",
   "metadata": {},
   "source": [
    "## 11-9匿名函數 lambda\n",
    "* 指沒有名稱的函數，適合使用在程式中指存在一小段時間的情況\n",
    "* 使用 lambda 來定義"
   ]
  },
  {
   "cell_type": "markdown",
   "id": "4d90fb1b",
   "metadata": {},
   "source": [
    "### 11-9-1 匿名函數的語法\n",
    "* 匿名函數最大特色是可以有許多參數，但是只有一個程式碼表達式，將執行結果傳回\n",
    "* lambda arg1, [, arg2, ... argn] : expression"
   ]
  },
  {
   "cell_type": "code",
   "execution_count": 7,
   "id": "64532753",
   "metadata": {},
   "outputs": [
    {
     "name": "stdout",
     "output_type": "stream",
     "text": [
      "100\n"
     ]
    }
   ],
   "source": [
    "# ch11-31\n",
    "# 一般函數\n",
    "def square(x):\n",
    "    value = x ** 2\n",
    "    return value\n",
    "\n",
    "print(square(10))"
   ]
  },
  {
   "cell_type": "code",
   "execution_count": 9,
   "id": "500a49b6",
   "metadata": {},
   "outputs": [
    {
     "name": "stdout",
     "output_type": "stream",
     "text": [
      "100\n"
     ]
    }
   ],
   "source": [
    "# ch11-32\n",
    "# lambda 函數\n",
    "square = lambda x: x ** 2\n",
    "print(square(10))"
   ]
  },
  {
   "cell_type": "markdown",
   "id": "a3d5cc54",
   "metadata": {},
   "source": [
    "### 11-9-2 使用lambda匿名函數的理由\n",
    "* lambda 更加的使用時機是存在一個函數的內部"
   ]
  },
  {
   "cell_type": "code",
   "execution_count": 10,
   "id": "a65eb565",
   "metadata": {},
   "outputs": [
    {
     "name": "stdout",
     "output_type": "stream",
     "text": [
      "25\n"
     ]
    }
   ],
   "source": [
    "# ch11-33-1\n",
    "def func(b):\n",
    "    return lambda x : 2 * x + b\n",
    "\n",
    "linear = func(5)\n",
    "print(linear(10))"
   ]
  },
  {
   "cell_type": "code",
   "execution_count": 11,
   "id": "6be44d83",
   "metadata": {},
   "outputs": [
    {
     "name": "stdout",
     "output_type": "stream",
     "text": [
      "25\n",
      "23\n"
     ]
    }
   ],
   "source": [
    "# ch11-33-2\n",
    "def func(b):\n",
    "    return lambda x : 2 * x + b\n",
    "\n",
    "linear = func(5)\n",
    "print(linear(10))\n",
    "\n",
    "linear2 = func(3)\n",
    "print(linear2(10))"
   ]
  },
  {
   "cell_type": "code",
   "execution_count": 12,
   "id": "0cb38818",
   "metadata": {},
   "outputs": [
    {
     "name": "stdout",
     "output_type": "stream",
     "text": [
      "My dream car is: Porsche\n",
      "My dream car is: Rolls Royce\n",
      "My dream car is: Maserati\n"
     ]
    }
   ],
   "source": [
    "# ch11-33-4\n",
    "def mycar(cars, func):\n",
    "    for car in cars:\n",
    "        print(func(car))\n",
    "        \n",
    "dreamscars = [\"porsche\", \"rolls royce\", \"maserati\"]\n",
    "mycar(dreamscars, lambda carbrand : F\"My dream car is: {carbrand.title()}\")"
   ]
  },
  {
   "cell_type": "markdown",
   "id": "0999482e",
   "metadata": {},
   "source": [
    "### 11-9-4匿名函數使用與filter()\n",
    "* 內建函數filter() -> 篩選序列\n",
    "* filter(func, iterable)\n",
    "* 依次對iterable的元素放數func內，然後將func()函數執行結果是True的元素組成新的篩選物件(filter object)傳回"
   ]
  },
  {
   "cell_type": "code",
   "execution_count": 13,
   "id": "1ed255af",
   "metadata": {},
   "outputs": [
    {
     "name": "stdout",
     "output_type": "stream",
     "text": [
      "奇數串列: [5, 15, 25]\n"
     ]
    }
   ],
   "source": [
    "# ch11-34 -> without lambda\n",
    "def oddfn(x):\n",
    "    return x if (x % 2 == 1) else None\n",
    "\n",
    "mylist = [5, 10, 15, 20, 25, 30]\n",
    "filter_object = filter(oddfn, mylist)\n",
    "\n",
    "print(F\"奇數串列: {[item for item in filter_object]}\")"
   ]
  },
  {
   "cell_type": "code",
   "execution_count": 14,
   "id": "99931769",
   "metadata": {},
   "outputs": [
    {
     "name": "stdout",
     "output_type": "stream",
     "text": [
      "奇數串列: [5, 15, 25]\n"
     ]
    }
   ],
   "source": [
    "# ch11-36 -> with lambda\n",
    "mylist = [5, 10, 15, 20, 25, 30]\n",
    "\n",
    "oddlist = list(filter(lambda x : (x % 2 == 1), mylist))\n",
    "print(F\"奇數串列: {oddlist}\")"
   ]
  },
  {
   "cell_type": "markdown",
   "id": "80a223f2",
   "metadata": {},
   "source": [
    "### 11-9-5匿名函數使用與map()\n",
    "* 內建函數map()\n",
    "* map(func, iterable)\n",
    "* map函數將對iterable重複執行func的動作，並將結果傳回"
   ]
  },
  {
   "cell_type": "code",
   "execution_count": 15,
   "id": "ed4cc513",
   "metadata": {},
   "outputs": [
    {
     "name": "stdout",
     "output_type": "stream",
     "text": [
      "平方串列: [25, 100, 225, 400, 625, 900]\n"
     ]
    }
   ],
   "source": [
    "# ch11-37\n",
    "mylist = [5, 10, 15, 20, 25, 30]\n",
    " \n",
    "squarelist = list(map(lambda x : x ** 2, mylist))\n",
    "\n",
    "print(F\"平方串列: {squarelist}\")"
   ]
  },
  {
   "cell_type": "markdown",
   "id": "083b0c32",
   "metadata": {},
   "source": [
    "### 11-9-6匿名函數使用與reduce()\n",
    "* reduce(func, iterable) -> func需有2個參數\n",
    "* 會先將iterable前兩個元素放入func裡面執行，然後再將傳回結果與第3個元素再放入func直到最後一個元素"
   ]
  },
  {
   "cell_type": "code",
   "execution_count": 16,
   "id": "e00abfd0",
   "metadata": {
    "scrolled": true
   },
   "outputs": [
    {
     "name": "stdout",
     "output_type": "stream",
     "text": [
      "Collecting functools\n",
      "  Downloading functools-0.5.tar.gz (4.9 kB)\n",
      "Building wheels for collected packages: functools\n",
      "  Building wheel for functools (setup.py): started\n",
      "  Building wheel for functools (setup.py): finished with status 'error'\n",
      "  Running setup.py clean for functools\n"
     ]
    },
    {
     "name": "stderr",
     "output_type": "stream",
     "text": [
      "  ERROR: Command errored out with exit status 1:\n",
      "   command: 'D:\\conda\\envs\\py39\\python.exe' -u -c 'import io, os, sys, setuptools, tokenize; sys.argv[0] = '\"'\"'C:\\\\Users\\\\user\\\\AppData\\\\Local\\\\Temp\\\\pip-install-a_eixr1w\\\\functools_26ec486d78334345a06e66afa4fb4d63\\\\setup.py'\"'\"'; __file__='\"'\"'C:\\\\Users\\\\user\\\\AppData\\\\Local\\\\Temp\\\\pip-install-a_eixr1w\\\\functools_26ec486d78334345a06e66afa4fb4d63\\\\setup.py'\"'\"';f = getattr(tokenize, '\"'\"'open'\"'\"', open)(__file__) if os.path.exists(__file__) else io.StringIO('\"'\"'from setuptools import setup; setup()'\"'\"');code = f.read().replace('\"'\"'\\r\\n'\"'\"', '\"'\"'\\n'\"'\"');f.close();exec(compile(code, __file__, '\"'\"'exec'\"'\"'))' bdist_wheel -d 'C:\\Users\\user\\AppData\\Local\\Temp\\pip-wheel-e1y7j_qj'\n",
      "       cwd: C:\\Users\\user\\AppData\\Local\\Temp\\pip-install-a_eixr1w\\functools_26ec486d78334345a06e66afa4fb4d63\\\n",
      "  Complete output (9 lines):\n",
      "  running bdist_wheel\n",
      "  running build\n",
      "  running build_py\n",
      "  creating build\n",
      "  creating build\\lib.win-amd64-3.9\n",
      "  copying functools.py -> build\\lib.win-amd64-3.9\n",
      "  running build_ext\n",
      "  building '_functools' extension\n",
      "  error: Microsoft Visual C++ 14.0 or greater is required. Get it with \"Microsoft C++ Build Tools\": https://visualstudio.microsoft.com/visual-cpp-build-tools/\n",
      "  ----------------------------------------\n",
      "  ERROR: Failed building wheel for functools\n",
      "    ERROR: Command errored out with exit status 1:\n",
      "     command: 'D:\\conda\\envs\\py39\\python.exe' -u -c 'import io, os, sys, setuptools, tokenize; sys.argv[0] = '\"'\"'C:\\\\Users\\\\user\\\\AppData\\\\Local\\\\Temp\\\\pip-install-a_eixr1w\\\\functools_26ec486d78334345a06e66afa4fb4d63\\\\setup.py'\"'\"'; __file__='\"'\"'C:\\\\Users\\\\user\\\\AppData\\\\Local\\\\Temp\\\\pip-install-a_eixr1w\\\\functools_26ec486d78334345a06e66afa4fb4d63\\\\setup.py'\"'\"';f = getattr(tokenize, '\"'\"'open'\"'\"', open)(__file__) if os.path.exists(__file__) else io.StringIO('\"'\"'from setuptools import setup; setup()'\"'\"');code = f.read().replace('\"'\"'\\r\\n'\"'\"', '\"'\"'\\n'\"'\"');f.close();exec(compile(code, __file__, '\"'\"'exec'\"'\"'))' install --record 'C:\\Users\\user\\AppData\\Local\\Temp\\pip-record-6x_m_se8\\install-record.txt' --single-version-externally-managed --compile --install-headers 'D:\\conda\\envs\\py39\\Include\\functools'\n",
      "         cwd: C:\\Users\\user\\AppData\\Local\\Temp\\pip-install-a_eixr1w\\functools_26ec486d78334345a06e66afa4fb4d63\\\n",
      "    Complete output (9 lines):\n",
      "    running install\n",
      "    running build\n",
      "    running build_py\n",
      "    creating build\n",
      "    creating build\\lib.win-amd64-3.9\n",
      "    copying functools.py -> build\\lib.win-amd64-3.9\n",
      "    running build_ext\n",
      "    building '_functools' extension\n",
      "    error: Microsoft Visual C++ 14.0 or greater is required. Get it with \"Microsoft C++ Build Tools\": https://visualstudio.microsoft.com/visual-cpp-build-tools/\n"
     ]
    },
    {
     "name": "stdout",
     "output_type": "stream",
     "text": [
      "Failed to build functools\n",
      "Installing collected packages: functools\n",
      "    Running setup.py install for functools: started\n",
      "    Running setup.py install for functools: finished with status 'error'\n"
     ]
    },
    {
     "name": "stderr",
     "output_type": "stream",
     "text": [
      "    ----------------------------------------\n",
      "ERROR: Command errored out with exit status 1: 'D:\\conda\\envs\\py39\\python.exe' -u -c 'import io, os, sys, setuptools, tokenize; sys.argv[0] = '\"'\"'C:\\\\Users\\\\user\\\\AppData\\\\Local\\\\Temp\\\\pip-install-a_eixr1w\\\\functools_26ec486d78334345a06e66afa4fb4d63\\\\setup.py'\"'\"'; __file__='\"'\"'C:\\\\Users\\\\user\\\\AppData\\\\Local\\\\Temp\\\\pip-install-a_eixr1w\\\\functools_26ec486d78334345a06e66afa4fb4d63\\\\setup.py'\"'\"';f = getattr(tokenize, '\"'\"'open'\"'\"', open)(__file__) if os.path.exists(__file__) else io.StringIO('\"'\"'from setuptools import setup; setup()'\"'\"');code = f.read().replace('\"'\"'\\r\\n'\"'\"', '\"'\"'\\n'\"'\"');f.close();exec(compile(code, __file__, '\"'\"'exec'\"'\"'))' install --record 'C:\\Users\\user\\AppData\\Local\\Temp\\pip-record-6x_m_se8\\install-record.txt' --single-version-externally-managed --compile --install-headers 'D:\\conda\\envs\\py39\\Include\\functools' Check the logs for full command output.\n"
     ]
    }
   ],
   "source": [
    "!pip install functools"
   ]
  },
  {
   "cell_type": "code",
   "execution_count": 3,
   "id": "c9fba985",
   "metadata": {},
   "outputs": [
    {
     "name": "stdout",
     "output_type": "stream",
     "text": [
      "x = 5497\n"
     ]
    }
   ],
   "source": [
    "# ch11-37-1\n",
    "from functools import reduce\n",
    "def str_to_int(string):\n",
    "    \n",
    "    def func(x, y):\n",
    "        return x * 10 + y\n",
    "    \n",
    "    def char_to_num(string):\n",
    "#         print(F\"s: {type(string)} -> {string}\")\n",
    "#         mydict = {\"0\": 0, \"1\": 1, \"2\": 2, \"3\": 3, \"4\": 4, \"5\": 5, \"6\": 6, \"7\": 7, \"8\": 8, \"9\": 9}\n",
    "#         n = mydict[string]\n",
    "#         print(F\"n: {type(n)} -> {n}\")\n",
    "#         return n\n",
    "        return {\"0\": 0, \"1\": 1, \"2\": 2, \"3\": 3, \"4\": 4, \"5\": 5, \"6\": 6, \"7\": 7, \"8\": 8, \"9\": 9}[string]\n",
    "        \n",
    "    \n",
    "    return reduce(func, map(char_to_num, string))\n",
    "\n",
    "str_ = \"5487\"\n",
    "x = str_to_int(str_) + 10\n",
    "print(F\"x = {x}\")"
   ]
  },
  {
   "cell_type": "code",
   "execution_count": 6,
   "id": "253f6268",
   "metadata": {},
   "outputs": [
    {
     "name": "stdout",
     "output_type": "stream",
     "text": [
      "x = 5497\n"
     ]
    }
   ],
   "source": [
    "# ch11-37-4 use lambda\n",
    "from functools import reduce\n",
    "def strToInt(s):\n",
    "    def charToNum(s):\n",
    "        return {\"0\": 0, \"1\": 1, \"2\": 2, \"3\": 3, \"4\": 4, \"5\": 5, \"6\": 6, \"7\": 7, \"8\": 8, \"9\": 9}[s]\n",
    "    return reduce(lambda x, y : 10 * x + y, map(charToNum, s))\n",
    "\n",
    "string = \"5487\"\n",
    "x = strToInt(string) + 10\n",
    "print(F\"x = {x}\")"
   ]
  },
  {
   "cell_type": "markdown",
   "id": "6c415e5a",
   "metadata": {},
   "source": [
    "## 11-12range()\n",
    "* range物件不需預先儲存所有序列範圍的數值 -> 可節省記憶體，增加效率\n",
    "* 每次迭代時，會記得上次呼叫的位置同時回傳下一個位置"
   ]
  },
  {
   "cell_type": "code",
   "execution_count": 7,
   "id": "d18f620b",
   "metadata": {},
   "outputs": [
    {
     "name": "stdout",
     "output_type": "stream",
     "text": [
      "<class 'function'>\n",
      "0\n",
      "1\n",
      "2\n",
      "3\n",
      "4\n"
     ]
    }
   ],
   "source": [
    "# ch11-39-4\n",
    "# 使用 yield 關鍵字來回傳n值 -> generator(生成器)\n",
    "def myRange(start=0, stop=100, step=1):\n",
    "    n = start\n",
    "    while n < stop:\n",
    "        yield n\n",
    "        n += step\n",
    "        \n",
    "print(type(myRange))\n",
    "\n",
    "for x in myRange(0, 5):\n",
    "    print(x)"
   ]
  },
  {
   "cell_type": "markdown",
   "id": "c0d3213e",
   "metadata": {},
   "source": [
    "## 11-13Decorator(裝飾器)\n",
    "* 也是一種函數\n",
    "* 裝飾器會接收一個函數，並回傳另一個函數\n",
    "* 可用來偵錯 -> ch11-39-4\n",
    "* 一個函數可以有2個以上的裝飾器，在函數上方設定即可\n",
    "* 有多個裝飾器時，順序會由下往上執行 -> 裝飾器堆疊(decorator stacking)"
   ]
  },
  {
   "cell_type": "code",
   "execution_count": 8,
   "id": "587dd884",
   "metadata": {},
   "outputs": [
    {
     "name": "stdout",
     "output_type": "stream",
     "text": [
      "函數名稱: greeting\n",
      "函數參數: Hello! Van\n",
      "HELLO! VAN\n"
     ]
    }
   ],
   "source": [
    "# ch11-39-2 \n",
    "# 手動裝飾器\n",
    "def upper(func):  # Decorator\n",
    "    def newFunc(args):\n",
    "        old_result = func(args)\n",
    "        new_result = old_result.upper()\n",
    "        print(F\"函數名稱: {func.__name__}\")\n",
    "        print(F\"函數參數: {args}\")\n",
    "        return new_result\n",
    "    return newFunc\n",
    "\n",
    "def greeting(string):  # Greeting function\n",
    "    return string\n",
    "\n",
    "my_greeting = upper(greeting)\n",
    "print(my_greeting(\"Hello! Van\"))"
   ]
  },
  {
   "cell_type": "code",
   "execution_count": 10,
   "id": "0f2a22bd",
   "metadata": {},
   "outputs": [
    {
     "name": "stdout",
     "output_type": "stream",
     "text": [
      "函數名稱: greeting\n",
      "函數參數: Hello! Van\n",
      "HELLO! VAN\n"
     ]
    }
   ],
   "source": [
    "# ch11-39-3\n",
    "def upper(func):\n",
    "    def newFunc(args):\n",
    "        old_result = func(args)\n",
    "        new_result = old_result.upper()\n",
    "        print(F\"函數名稱: {func.__name__}\")\n",
    "        print(F\"函數參數: {args}\")\n",
    "        return new_result\n",
    "    return newFunc\n",
    "\n",
    "@upper\n",
    "def greeting(string):\n",
    "    return string\n",
    "\n",
    "print(greeting(\"Hello! Van\"))"
   ]
  },
  {
   "cell_type": "code",
   "execution_count": 11,
   "id": "8e986e05",
   "metadata": {},
   "outputs": [
    {
     "name": "stdout",
     "output_type": "stream",
     "text": [
      "函數名稱: mydiv\n",
      "函數參數: (6, 2)\n",
      "執行結果: 3.0\n",
      "3.0\n",
      "函數名稱: mydiv\n",
      "函數參數: (6, 0)\n",
      "執行結果: 除數不可為0\n",
      "除數不可為0\n"
     ]
    }
   ],
   "source": [
    "# ch11-39-4\n",
    "def errcheck(func):\n",
    "    def newFunc(*args):\n",
    "        if args[1] != 0:\n",
    "            result = func(*args)\n",
    "        else:\n",
    "            result = \"除數不可為0\"\n",
    "        \n",
    "        print(F\"函數名稱: {func.__name__}\")\n",
    "        print(F\"函數參數: {args}\")\n",
    "        print(F\"執行結果: {result}\")\n",
    "        return result\n",
    "    return newFunc\n",
    "\n",
    "@errcheck\n",
    "def mydiv(x, y):\n",
    "    return x / y\n",
    "\n",
    "print(mydiv(6, 2))\n",
    "print(mydiv(6, 0))"
   ]
  },
  {
   "cell_type": "code",
   "execution_count": 1,
   "id": "3abb86e6",
   "metadata": {},
   "outputs": [
    {
     "name": "stdout",
     "output_type": "stream",
     "text": [
      "boldHELLO! VANbold\n"
     ]
    }
   ],
   "source": [
    "# ch11-39-5\n",
    "def upper(func):\n",
    "    def newFunc(args):\n",
    "        oldresult = func(args)\n",
    "        newresult = oldresult.upper()\n",
    "        return newresult\n",
    "    return newFunc\n",
    "\n",
    "def bold(func):\n",
    "    def wrapper(args):\n",
    "        return \"bold\" + func(args) + \"bold\"\n",
    "    return wrapper\n",
    "\n",
    "@bold\n",
    "@upper\n",
    "def greeting(string):\n",
    "    return string\n",
    "\n",
    "# 會先大寫再加bold\n",
    "print(greeting(\"Hello! Van\"))"
   ]
  },
  {
   "cell_type": "code",
   "execution_count": 2,
   "id": "0e9c65c9",
   "metadata": {},
   "outputs": [
    {
     "name": "stdout",
     "output_type": "stream",
     "text": [
      "BOLDHELLO! VANBOLD\n"
     ]
    }
   ],
   "source": [
    "# ch11-39-6\n",
    "def upper(func):\n",
    "    def newFunc(args):\n",
    "        oldresult = func(args)\n",
    "        newresult = oldresult.upper()\n",
    "        return newresult\n",
    "    return newFunc\n",
    "\n",
    "def bold(func):\n",
    "    def wrapper(args):\n",
    "        return \"bold\" + func(args) + \"bold\"\n",
    "    return wrapper\n",
    "\n",
    "@upper\n",
    "@bold\n",
    "def greeting(string):\n",
    "    return string\n",
    "\n",
    "# 會先加bold再大寫\n",
    "print(greeting(\"Hello! Van\"))"
   ]
  },
  {
   "cell_type": "markdown",
   "id": "1c66a7c7",
   "metadata": {},
   "source": [
    "## 11-14函數的應用"
   ]
  },
  {
   "cell_type": "markdown",
   "id": "9007a647",
   "metadata": {},
   "source": [
    "### 11-14-1用函數紀錄一篇文章的單字次數"
   ]
  },
  {
   "cell_type": "code",
   "execution_count": 4,
   "id": "e130f48a",
   "metadata": {},
   "outputs": [
    {
     "name": "stdout",
     "output_type": "stream",
     "text": [
      "將文字統一成小寫\n",
      "the russia-linked ransomware group behind some of the biggest recent cyberattacks has disappeared from the internet according to cnbc reuters and the washington post the websites operated by the group revil went down in the early hours of tuesday dmitri alperovitch former chief technology officer of the cyber firm crowdstrike told the post that the group's blog in the dark web is still reachable however its critical sites victims use to negotiate with the group and to receive decryption tools if they pay up are no longer available visitors to those websites now see a message that says \"a server with the specified hostname could not be found revil took responsibility for a recent string of ransomware attacks that affected around 800 to 1500 businesses worldwide including schools it demanded $70 million to restore the data it stole and encrypted before that experts linked the group to the ransomware attacks on it management software giant kaseya and beef supplier jbs which chose to pay us$11 million to get its data back \n",
      "it's unclear why revil's websites aren't accessible anymore as reuters mentioned ransomware gangs tend to vanish and rebrand in case they attract too much attention president biden recently revealed that he told russian president vladimir putin that he expects his government to act on ransomware attacks coming from his country when asked if the us would attack the servers russian cybercriminals use to hijack american networks biden answered with a resounding \"yes\"\n",
      "alperovitch told the post that it doesn't look like revil's servers were attacked which means it's unlikely a an offensive cyber operation launched by us authorities kurtis minder the founder of threat intelligence firm groupsense told reuters that if revil's sites going down truly was the result of an offensive operation mounted by the us government he hopes that \"collateral damage was a consideration\" bad actors hold the key to the data they take ransom and victims would have a tough time recovering theirs if that key gets destroyed or lost\n",
      "\n",
      "\n",
      "以下是歌曲串列\n",
      "['the', 'russia-linked', 'ransomware', 'group', 'behind', 'some', 'of', 'the', 'biggest', 'recent', 'cyberattacks', 'has', 'disappeared', 'from', 'the', 'internet', 'according', 'to', 'cnbc', 'reuters', 'and', 'the', 'washington', 'post', 'the', 'websites', 'operated', 'by', 'the', 'group', 'revil', 'went', 'down', 'in', 'the', 'early', 'hours', 'of', 'tuesday', 'dmitri', 'alperovitch', 'former', 'chief', 'technology', 'officer', 'of', 'the', 'cyber', 'firm', 'crowdstrike', 'told', 'the', 'post', 'that', 'the', \"group's\", 'blog', 'in', 'the', 'dark', 'web', 'is', 'still', 'reachable', 'however', 'its', 'critical', 'sites', 'victims', 'use', 'to', 'negotiate', 'with', 'the', 'group', 'and', 'to', 'receive', 'decryption', 'tools', 'if', 'they', 'pay', 'up', 'are', 'no', 'longer', 'available', 'visitors', 'to', 'those', 'websites', 'now', 'see', 'a', 'message', 'that', 'says', '\"a', 'server', 'with', 'the', 'specified', 'hostname', 'could', 'not', 'be', 'found', 'revil', 'took', 'responsibility', 'for', 'a', 'recent', 'string', 'of', 'ransomware', 'attacks', 'that', 'affected', 'around', '800', 'to', '1500', 'businesses', 'worldwide', 'including', 'schools', 'it', 'demanded', '$70', 'million', 'to', 'restore', 'the', 'data', 'it', 'stole', 'and', 'encrypted', 'before', 'that', 'experts', 'linked', 'the', 'group', 'to', 'the', 'ransomware', 'attacks', 'on', 'it', 'management', 'software', 'giant', 'kaseya', 'and', 'beef', 'supplier', 'jbs', 'which', 'chose', 'to', 'pay', 'us$11', 'million', 'to', 'get', 'its', 'data', 'back', \"it's\", 'unclear', 'why', \"revil's\", 'websites', \"aren't\", 'accessible', 'anymore', 'as', 'reuters', 'mentioned', 'ransomware', 'gangs', 'tend', 'to', 'vanish', 'and', 'rebrand', 'in', 'case', 'they', 'attract', 'too', 'much', 'attention', 'president', 'biden', 'recently', 'revealed', 'that', 'he', 'told', 'russian', 'president', 'vladimir', 'putin', 'that', 'he', 'expects', 'his', 'government', 'to', 'act', 'on', 'ransomware', 'attacks', 'coming', 'from', 'his', 'country', 'when', 'asked', 'if', 'the', 'us', 'would', 'attack', 'the', 'servers', 'russian', 'cybercriminals', 'use', 'to', 'hijack', 'american', 'networks', 'biden', 'answered', 'with', 'a', 'resounding', '\"yes\"', 'alperovitch', 'told', 'the', 'post', 'that', 'it', \"doesn't\", 'look', 'like', \"revil's\", 'servers', 'were', 'attacked', 'which', 'means', \"it's\", 'unlikely', 'a', 'an', 'offensive', 'cyber', 'operation', 'launched', 'by', 'us', 'authorities', 'kurtis', 'minder', 'the', 'founder', 'of', 'threat', 'intelligence', 'firm', 'groupsense', 'told', 'reuters', 'that', 'if', \"revil's\", 'sites', 'going', 'down', 'truly', 'was', 'the', 'result', 'of', 'an', 'offensive', 'operation', 'mounted', 'by', 'the', 'us', 'government', 'he', 'hopes', 'that', '\"collateral', 'damage', 'was', 'a', 'consideration\"', 'bad', 'actors', 'hold', 'the', 'key', 'to', 'the', 'data', 'they', 'take', 'ransom', 'and', 'victims', 'would', 'have', 'a', 'tough', 'time', 'recovering', 'theirs', 'if', 'that', 'key', 'gets', 'destroyed', 'or', 'lost']\n",
      "以下是執行結果\n",
      "{'coming': 1, 'recent': 2, 'websites': 3, 'jbs': 1, 'which': 2, 'vladimir': 1, 'washington': 1, 'restore': 1, 'server': 1, 'some': 1, 'ransom': 1, 'much': 1, 'blog': 1, 'resounding': 1, 'critical': 1, 'actors': 1, 'biggest': 1, 'post': 3, 'according': 1, 'and': 6, 'however': 1, 'on': 2, '1500': 1, 'as': 1, 'time': 1, 'behind': 1, 'by': 3, 'data': 3, 'when': 1, 'million': 2, 'tend': 1, 'going': 1, \"revil's\": 3, 'firm': 2, 'us$11': 1, 'longer': 1, 'servers': 2, 'putin': 1, 'software': 1, 'went': 1, 'it': 4, 'group': 4, 'cyber': 2, 'act': 1, 'ransomware': 5, 'technology': 1, 'use': 2, 'available': 1, 'says': 1, 'hijack': 1, 'tools': 1, 'or': 1, 'cnbc': 1, 'gangs': 1, 'recently': 1, 'president': 2, '\"yes\"': 1, 'russian': 2, 'reachable': 1, 'too': 1, 'why': 1, 'unlikely': 1, 'would': 2, 'specified': 1, 'minder': 1, 'attack': 1, 'could': 1, 'hopes': 1, 'founder': 1, 'management': 1, 'crowdstrike': 1, 'rebrand': 1, 'attract': 1, 'alperovitch': 2, 'cybercriminals': 1, 'tough': 1, 'receive': 1, '$70': 1, 'disappeared': 1, 'offensive': 2, 'from': 2, 'down': 2, 'pay': 2, 'threat': 1, \"group's\": 1, 'kaseya': 1, 'before': 1, 'a': 6, 'tuesday': 1, 'truly': 1, 'country': 1, 'networks': 1, 'supplier': 1, 'hold': 1, 'no': 1, '800': 1, 'the': 24, 'hours': 1, 'get': 1, 'he': 3, \"doesn't\": 1, 'biden': 2, 'intelligence': 1, 'message': 1, 'not': 1, 'damage': 1, 'cyberattacks': 1, 'linked': 1, 'are': 1, 'has': 1, 'told': 4, 'case': 1, 'revealed': 1, 'chose': 1, 'around': 1, '\"a': 1, 'officer': 1, 'anymore': 1, 'former': 1, 'was': 2, 'demanded': 1, 'early': 1, 'be': 1, 'they': 3, 'in': 3, 'up': 1, 'were': 1, 'that': 10, 'its': 2, 'affected': 1, 'like': 1, 'chief': 1, 'consideration\"': 1, 'destroyed': 1, 'now': 1, 'back': 1, 'still': 1, 'schools': 1, 'giant': 1, 'encrypted': 1, 'businesses': 1, 'with': 3, 'unclear': 1, 'attacked': 1, 'visitors': 1, 'decryption': 1, 'hostname': 1, 'responsibility': 1, 'reuters': 3, 'mentioned': 1, 'his': 2, 'string': 1, 'authorities': 1, 'answered': 1, 'groupsense': 1, 'accessible': 1, 'launched': 1, 'government': 2, 'mounted': 1, 'bad': 1, '\"collateral': 1, 'look': 1, 'key': 2, 'russia-linked': 1, 'us': 3, 'operated': 1, 'those': 1, 'including': 1, 'dmitri': 1, \"aren't\": 1, 'american': 1, 'attacks': 3, 'beef': 1, 'found': 1, 'for': 1, 'see': 1, 'vanish': 1, 'kurtis': 1, 'to': 13, 'theirs': 1, 'expects': 1, 'web': 1, 'sites': 2, 'an': 2, 'gets': 1, 'means': 1, 'revil': 2, 'have': 1, 'is': 1, 'result': 1, 'operation': 2, 'of': 6, 'attention': 1, 'dark': 1, 'took': 1, 'victims': 2, 'if': 4, 'stole': 1, 'worldwide': 1, 'lost': 1, 'recovering': 1, 'asked': 1, 'take': 1, \"it's\": 2, 'negotiate': 1, 'experts': 1, 'internet': 1}\n"
     ]
    }
   ],
   "source": [
    "# ch11-40\n",
    "def modify_song(song_str):\n",
    "    for char in song_str:\n",
    "        if char in \",.?\":\n",
    "            song_str = song_str.replace(char, \"\")\n",
    "    return song_str\n",
    "\n",
    "def word_count(song_count):\n",
    "    global mydict\n",
    "    song_list = song_count.split()\n",
    "    print(\"以下是歌曲串列\")\n",
    "    print(song_list)\n",
    "    mydict = {wd: song_list.count(wd) for wd in set(song_list)}\n",
    "    \n",
    "    \n",
    "data = \"\"\"The Russia-linked ransomware group behind some of the biggest recent cyberattacks has disappeared from the internet. According to CNBC, Reuters and The Washington Post, the websites operated by the group REvil went down in the early hours of Tuesday. Dmitri Alperovitch, former chief technology officer of the cyber firm CrowdStrike, told The Post that the group's blog in the dark web is still reachable. However, its critical sites victims use to negotiate with the group and to receive decryption tools if they pay up are no longer available. Visitors to those websites now see a message that says \"A server with the specified hostname could not be found.. REvil took responsibility for a recent string of ransomware attacks that affected around 800 to 1,500 businesses worldwide, including schools. It demanded $70 million to restore the data it stole and encrypted. Before that, experts linked the group to the ransomware attacks on IT management software giant Kaseya and beef supplier JBS, which chose to pay US$11 million to get its data back. \n",
    "It's unclear why REvil's websites aren't accessible anymore. As Reuters mentioned, ransomware gangs tend to vanish and rebrand in case they attract too much attention. President Biden recently revealed that he told Russian President Vladimir Putin that he expects his government to act on ransomware attacks coming from his country. When asked if the US would attack the servers Russian cybercriminals use to hijack American networks, Biden answered with a resounding \"Yes.\"\n",
    "Alperovitch told The Post that it doesn't look like REvil's servers were attacked, which means it's unlikely a an offensive cyber operation launched by US authorities. Kurtis Minder, the founder of threat intelligence firm GroupSense, told Reuters that if REvil's sites going down truly was the result of an offensive operation mounted by the US government, he hopes that \"collateral damage was a consideration.\" Bad actors hold the key to the data they take ransom, and victims would have a tough time recovering theirs if that key gets destroyed or lost.\n",
    "\"\"\"\n",
    "\n",
    "mydict = {}\n",
    "print(\"將文字統一成小寫\")\n",
    "word = modify_song(data.lower())\n",
    "print(word)\n",
    "print()\n",
    "\n",
    "word_count(word)\n",
    "print(\"以下是執行結果\")\n",
    "print(mydict)"
   ]
  },
  {
   "cell_type": "markdown",
   "id": "cba42a56",
   "metadata": {},
   "source": [
    "### 11-14-2質數Prime Number"
   ]
  },
  {
   "cell_type": "code",
   "execution_count": 5,
   "id": "5f18cbd2",
   "metadata": {},
   "outputs": [
    {
     "name": "stdout",
     "output_type": "stream",
     "text": [
      "Please input a number: 123\n",
      "123 is prime\n"
     ]
    }
   ],
   "source": [
    "# ch11-41\n",
    "def isPrimer(num):\n",
    "    for n in range(2, num):\n",
    "        if num % n == 0:\n",
    "            return False\n",
    "    return True\n",
    "\n",
    "num = int(input(\"Please input a number: \"))\n",
    "\n",
    "if isPrimer:\n",
    "    print(F\"{num} is prime\")\n",
    "else:\n",
    "    print(F\"{num} is not prime\")"
   ]
  },
  {
   "cell_type": "code",
   "execution_count": null,
   "id": "5035ef87",
   "metadata": {},
   "outputs": [],
   "source": []
  }
 ],
 "metadata": {
  "kernelspec": {
   "display_name": "Python 3",
   "language": "python",
   "name": "python3"
  },
  "language_info": {
   "codemirror_mode": {
    "name": "ipython",
    "version": 3
   },
   "file_extension": ".py",
   "mimetype": "text/x-python",
   "name": "python",
   "nbconvert_exporter": "python",
   "pygments_lexer": "ipython3",
   "version": "3.9.5"
  }
 },
 "nbformat": 4,
 "nbformat_minor": 5
}
