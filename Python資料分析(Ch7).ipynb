{
 "cells": [
  {
   "cell_type": "code",
   "execution_count": 2,
   "id": "be179ce1",
   "metadata": {},
   "outputs": [],
   "source": [
    "import numpy as np\n",
    "import pandas as pd"
   ]
  },
  {
   "cell_type": "markdown",
   "id": "7157435b",
   "metadata": {},
   "source": [
    "# 7.1處理遺失資料"
   ]
  },
  {
   "cell_type": "markdown",
   "id": "e1afe795",
   "metadata": {},
   "source": [
    "* pandas使用了浮點數值NAN(Not a Number)來代表遺失資料 -> 稱為標記值"
   ]
  },
  {
   "cell_type": "code",
   "execution_count": 3,
   "id": "72fa90b2",
   "metadata": {},
   "outputs": [
    {
     "data": {
      "text/plain": [
       "0     aardvark\n",
       "1    artichoke\n",
       "2          NaN\n",
       "3      avocado\n",
       "dtype: object"
      ]
     },
     "execution_count": 3,
     "metadata": {},
     "output_type": "execute_result"
    }
   ],
   "source": [
    "string_data = pd.Series(['aardvark', 'artichoke', np.nan, 'avocado'])\n",
    "string_data"
   ]
  },
  {
   "cell_type": "code",
   "execution_count": 4,
   "id": "8cf1ba2d",
   "metadata": {},
   "outputs": [
    {
     "data": {
      "text/plain": [
       "0    False\n",
       "1    False\n",
       "2     True\n",
       "3    False\n",
       "dtype: bool"
      ]
     },
     "execution_count": 4,
     "metadata": {},
     "output_type": "execute_result"
    }
   ],
   "source": [
    "string_data.isnull()"
   ]
  },
  {
   "cell_type": "markdown",
   "id": "61cadf53",
   "metadata": {},
   "source": [
    "* Python內建的None也會被當成NA(R 語言中的not available)"
   ]
  },
  {
   "cell_type": "code",
   "execution_count": 5,
   "id": "6bab3ed0",
   "metadata": {},
   "outputs": [
    {
     "data": {
      "text/plain": [
       "0         None\n",
       "1    artichoke\n",
       "2          NaN\n",
       "3      avocado\n",
       "dtype: object"
      ]
     },
     "execution_count": 5,
     "metadata": {},
     "output_type": "execute_result"
    }
   ],
   "source": [
    "string_data[0] = None\n",
    "string_data"
   ]
  },
  {
   "cell_type": "code",
   "execution_count": 6,
   "id": "61f1cb48",
   "metadata": {},
   "outputs": [
    {
     "data": {
      "text/plain": [
       "0     True\n",
       "1    False\n",
       "2     True\n",
       "3    False\n",
       "dtype: bool"
      ]
     },
     "execution_count": 6,
     "metadata": {},
     "output_type": "execute_result"
    }
   ],
   "source": [
    "string_data.isnull()"
   ]
  },
  {
   "cell_type": "markdown",
   "id": "138cc7aa",
   "metadata": {},
   "source": [
    "## NA處理方法\n",
    "|參數|描述|\n",
    "|:-:|:-:|\n",
    "|dropna|以指定軸上的標籤為單位，過濾每個指定的標籤是否有遺失資料值，對於遺失資料的容忍有不同的限定值|\n",
    "|fillna|將遺失資料已指定的值取代，或使用內插值方法如'ffill'或'bfill'|\n",
    "|isnull|回傳布林值，指出目標是否為遺失值|\n",
    "|notnull|isnull的反向函式|"
   ]
  },
  {
   "cell_type": "markdown",
   "id": "0e871a27",
   "metadata": {},
   "source": [
    "## 過濾遺失值"
   ]
  },
  {
   "cell_type": "markdown",
   "id": "cdf38f1c",
   "metadata": {},
   "source": [
    "* 對Series來說，dropna會回傳非遺失資料與他所屬的index"
   ]
  },
  {
   "cell_type": "code",
   "execution_count": 7,
   "id": "27330efe",
   "metadata": {},
   "outputs": [],
   "source": [
    "from numpy import nan as NA"
   ]
  },
  {
   "cell_type": "code",
   "execution_count": 8,
   "id": "a9938ac8",
   "metadata": {},
   "outputs": [
    {
     "data": {
      "text/plain": [
       "0    1.0\n",
       "1    NaN\n",
       "2    3.5\n",
       "3    NaN\n",
       "4    7.0\n",
       "dtype: float64"
      ]
     },
     "execution_count": 8,
     "metadata": {},
     "output_type": "execute_result"
    }
   ],
   "source": [
    "data = pd.Series([1, NA, 3.5, NA, 7])\n",
    "data"
   ]
  },
  {
   "cell_type": "code",
   "execution_count": null,
   "id": "9fdc4b6d",
   "metadata": {},
   "outputs": [],
   "source": [
    "data.dropna()"
   ]
  }
 ],
 "metadata": {
  "kernelspec": {
   "display_name": "Python 3",
   "language": "python",
   "name": "python3"
  },
  "language_info": {
   "codemirror_mode": {
    "name": "ipython",
    "version": 3
   },
   "file_extension": ".py",
   "mimetype": "text/x-python",
   "name": "python",
   "nbconvert_exporter": "python",
   "pygments_lexer": "ipython3",
   "version": "3.8.5"
  }
 },
 "nbformat": 4,
 "nbformat_minor": 5
}
